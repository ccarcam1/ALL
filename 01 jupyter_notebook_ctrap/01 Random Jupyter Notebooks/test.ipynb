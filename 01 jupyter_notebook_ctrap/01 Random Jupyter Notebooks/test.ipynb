{
 "cells": [
  {
   "cell_type": "code",
   "execution_count": null,
   "metadata": {},
   "outputs": [],
   "source": [
    "import numpy as np\n",
    "import matplotlib.pyplot as plt\n",
    "from lumicks import pylake\n",
    "import glob\n",
    "import scipy.io as sio\n",
    "import os\n",
    "\n",
    "directory_save = 'C:/Users/carca/OneDrive - Johns Hopkins University/Ha_CCarcamo/Data_Analysis/Projects/SWR1 Project/sliding/test/'\n",
    "# directory_save = directory_laptop + 'sliding plus Cas9 marker/2020-09-02 Cy3 SWR1 chan 4 dCas9 Cy5 chan 5 noATP/'\n",
    "# directory_h5 = directory_save + 'h5/kymos/holding spot/'\n",
    "directory_h5 = directory_save + 'h5/'\n",
    "date_of_experiment = '20200916'\n",
    "\n",
    "\n",
    "os.chdir(directory_save)\n",
    "os.mkdir('linescan_time_mat')\n",
    "os.mkdir('kymo_mat_green')\n",
    "os.mkdir('kymo_mat_red')\n",
    "#os.mkdir('force_data')\n",
    "\n",
    "os.mkdir('segmentation')\n",
    "os.mkdir('fitting')\n",
    "os.mkdir('MSD analysis')\n",
    "os.mkdir('final')\n",
    "\n",
    "\n",
    "files = glob.glob(directory_h5 + '*Kymograph*.h5')\n",
    "print(\"found {} files in folder\".format(len(files)))\n",
    "for file_name in files:\n",
    "    print(file_name)\n",
    "    file = pylake.File(file_name)\n",
    "    key = list(file.kymos.keys())[0]\n",
    "    kymo = file.kymos[key]\n",
    "    time = kymo.timestamps\n",
    "    t1 = time[0]\n",
    "    c1 = (t1 - t1[0]) * 1e-9 + 1\n",
    "    start = c1[0]\n",
    "    second =c1[1]\n",
    "    end = c1[-1]\n",
    "    scantime = kymo.json['scan volume']['scan axes'][0]['scan time (ms)']\n",
    "    #Thuc Homework: Add a line that gives you force values for the length of the kymograph \n",
    "    sio.savemat(f\"{directory_save}kymo_mat_green/greenkymo_{key}_{date_of_experiment}.mat\",{'obj_arr':file.kymos[key].green_image})\n",
    "    sio.savemat(f\"{directory_save}kymo_mat_red/redkymo_{key}_{date_of_experiment}.mat\",{'obj_arr':file.kymos[key].red_image})\n",
    "    sio.savemat(f\"{directory_save}linescan_time_mat/greenkymo_{key}_{date_of_experiment}.mat\", {'linescan_time_':np.around((second-start)*1000, decimals = 2)})\n",
    "    #Thuc Homeword: Save force data \n",
    "    \n",
    "    "
   ]
  }
 ],
 "metadata": {
  "kernelspec": {
   "display_name": "Python 3",
   "language": "python",
   "name": "python3"
  },
  "language_info": {
   "codemirror_mode": {
    "name": "ipython",
    "version": 3
   },
   "file_extension": ".py",
   "mimetype": "text/x-python",
   "name": "python",
   "nbconvert_exporter": "python",
   "pygments_lexer": "ipython3",
   "version": "3.7.4"
  }
 },
 "nbformat": 4,
 "nbformat_minor": 2
}
