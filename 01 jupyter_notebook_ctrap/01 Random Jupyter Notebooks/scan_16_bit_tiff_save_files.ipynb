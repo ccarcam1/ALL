{
 "cells": [
  {
   "cell_type": "code",
   "execution_count": 2,
   "metadata": {},
   "outputs": [],
   "source": [
    "import numpy as np\n",
    "import matplotlib.pyplot as plt\n",
    "\n",
    "from lumicks import pylake\n",
    "\n",
    "%matplotlib inline"
   ]
  },
  {
   "cell_type": "code",
   "execution_count": 3,
   "metadata": {},
   "outputs": [
    {
     "name": "stdout",
     "output_type": "stream",
     "text": [
      "found 23 files in folder\n",
      "C:\\Users\\carca\\OneDrive - Johns Hopkins University\\Ha_CCarcamo\\01 Data\\Projects\\SWR1 Project\\sliding plus Cas9 marker\\2020-09-30 two color\\h5\\20200930-194830 Kymograph 1 DNA 1.h5\n",
      "C:\\Users\\carca\\OneDrive - Johns Hopkins University\\Ha_CCarcamo\\01 Data\\Projects\\SWR1 Project\\sliding plus Cas9 marker\\2020-09-30 two color\\h5\\20200930-194833 Kymograph 2 DNA 2.h5\n",
      "C:\\Users\\carca\\OneDrive - Johns Hopkins University\\Ha_CCarcamo\\01 Data\\Projects\\SWR1 Project\\sliding plus Cas9 marker\\2020-09-30 two color\\h5\\20200930-194846 Kymograph 3 DNA 2.h5\n",
      "C:\\Users\\carca\\OneDrive - Johns Hopkins University\\Ha_CCarcamo\\01 Data\\Projects\\SWR1 Project\\sliding plus Cas9 marker\\2020-09-30 two color\\h5\\20200930-194854 Kymograph 7 DNA 3.h5\n",
      "C:\\Users\\carca\\OneDrive - Johns Hopkins University\\Ha_CCarcamo\\01 Data\\Projects\\SWR1 Project\\sliding plus Cas9 marker\\2020-09-30 two color\\h5\\20200930-194904 Kymograph 8 DNA 3.h5\n",
      "C:\\Users\\carca\\OneDrive - Johns Hopkins University\\Ha_CCarcamo\\01 Data\\Projects\\SWR1 Project\\sliding plus Cas9 marker\\2020-09-30 two color\\h5\\20200930-194922 Kymograph 11 DNA 4.h5\n",
      "C:\\Users\\carca\\OneDrive - Johns Hopkins University\\Ha_CCarcamo\\01 Data\\Projects\\SWR1 Project\\sliding plus Cas9 marker\\2020-09-30 two color\\h5\\20200930-194935 Kymograph 12 DNA 4.h5\n",
      "C:\\Users\\carca\\OneDrive - Johns Hopkins University\\Ha_CCarcamo\\01 Data\\Projects\\SWR1 Project\\sliding plus Cas9 marker\\2020-09-30 two color\\h5\\20200930-194944 Kymograph 15 DNA 6.h5\n",
      "C:\\Users\\carca\\OneDrive - Johns Hopkins University\\Ha_CCarcamo\\01 Data\\Projects\\SWR1 Project\\sliding plus Cas9 marker\\2020-09-30 two color\\h5\\20200930-194948 Kymograph 16 DNA 6.h5\n",
      "C:\\Users\\carca\\OneDrive - Johns Hopkins University\\Ha_CCarcamo\\01 Data\\Projects\\SWR1 Project\\sliding plus Cas9 marker\\2020-09-30 two color\\h5\\20200930-195002 Kymograph 18 DNA 6.h5\n",
      "C:\\Users\\carca\\OneDrive - Johns Hopkins University\\Ha_CCarcamo\\01 Data\\Projects\\SWR1 Project\\sliding plus Cas9 marker\\2020-09-30 two color\\h5\\20200930-195009 Kymograph 19 DNA 7.h5\n",
      "C:\\Users\\carca\\OneDrive - Johns Hopkins University\\Ha_CCarcamo\\01 Data\\Projects\\SWR1 Project\\sliding plus Cas9 marker\\2020-09-30 two color\\h5\\20200930-195026 Kymograph 26 DNA 8.h5\n",
      "C:\\Users\\carca\\OneDrive - Johns Hopkins University\\Ha_CCarcamo\\01 Data\\Projects\\SWR1 Project\\sliding plus Cas9 marker\\2020-09-30 two color\\h5\\20200930-195052 Kymograph 27 DNA 9.h5\n",
      "C:\\Users\\carca\\OneDrive - Johns Hopkins University\\Ha_CCarcamo\\01 Data\\Projects\\SWR1 Project\\sliding plus Cas9 marker\\2020-09-30 two color\\h5\\20200930-195100 Kymograph 28 DNA 10.h5\n",
      "C:\\Users\\carca\\OneDrive - Johns Hopkins University\\Ha_CCarcamo\\01 Data\\Projects\\SWR1 Project\\sliding plus Cas9 marker\\2020-09-30 two color\\h5\\20200930-195144 Kymograph 29 DNA 11.h5\n",
      "C:\\Users\\carca\\OneDrive - Johns Hopkins University\\Ha_CCarcamo\\01 Data\\Projects\\SWR1 Project\\sliding plus Cas9 marker\\2020-09-30 two color\\h5\\20200930-195149 Kymograph 30 DNA 12.h5\n",
      "C:\\Users\\carca\\OneDrive - Johns Hopkins University\\Ha_CCarcamo\\01 Data\\Projects\\SWR1 Project\\sliding plus Cas9 marker\\2020-09-30 two color\\h5\\20200930-195212 Kymograph 31 DNA 12.h5\n",
      "C:\\Users\\carca\\OneDrive - Johns Hopkins University\\Ha_CCarcamo\\01 Data\\Projects\\SWR1 Project\\sliding plus Cas9 marker\\2020-09-30 two color\\h5\\20200930-195219 Kymograph 32 DNA 13.h5\n",
      "C:\\Users\\carca\\OneDrive - Johns Hopkins University\\Ha_CCarcamo\\01 Data\\Projects\\SWR1 Project\\sliding plus Cas9 marker\\2020-09-30 two color\\h5\\20200930-195228 Kymograph 33 DNA 14.h5\n",
      "C:\\Users\\carca\\OneDrive - Johns Hopkins University\\Ha_CCarcamo\\01 Data\\Projects\\SWR1 Project\\sliding plus Cas9 marker\\2020-09-30 two color\\h5\\20200930-195253 Kymograph 34 DNA 14.h5\n",
      "C:\\Users\\carca\\OneDrive - Johns Hopkins University\\Ha_CCarcamo\\01 Data\\Projects\\SWR1 Project\\sliding plus Cas9 marker\\2020-09-30 two color\\h5\\20200930-195312 Kymograph DNA 15.h5\n",
      "C:\\Users\\carca\\OneDrive - Johns Hopkins University\\Ha_CCarcamo\\01 Data\\Projects\\SWR1 Project\\sliding plus Cas9 marker\\2020-09-30 two color\\h5\\20200930-195325 Kymograph 36 DNA 16.h5\n",
      "C:\\Users\\carca\\OneDrive - Johns Hopkins University\\Ha_CCarcamo\\01 Data\\Projects\\SWR1 Project\\sliding plus Cas9 marker\\2020-09-30 two color\\h5\\20200930-195336 Kymograph 38 DNA 17.h5\n"
     ]
    }
   ],
   "source": [
    "import glob\n",
    "\n",
    "# select the folder, here we search for .h5 files in the folder where you're running the script in\n",
    "\n",
    "files = glob.glob(r'C:\\Users\\carca\\OneDrive - Johns Hopkins University\\Ha_CCarcamo\\01 Data\\Projects\\SWR1 Project\\sliding plus Cas9 marker\\2020-09-30 two color\\h5\\*Kymograph*.h5')\n",
    "print(\"found {} files in folder\".format(len(files)))\n",
    "\n",
    "# I am trying to write a loop so that I can input all the scans in a file and convert them to 16-bit\n",
    "# tiff files(ccc)\n",
    "\n",
    "for file_name in files:\n",
    "    print(file_name)\n",
    "    file = pylake.File(file_name)\n",
    "    key = list(file.kymos.keys())[0]\n",
    "    scan = file.kymos[key]\n",
    "    #scan.save_tiff(file_name[:-3] + \"scan\" + key + \".tiff\", dtype=np.float16)\n",
    "    scan.save_tiff(file_name[:-3] + \".tiff\", dtype=np.float16)"
   ]
  },
  {
   "cell_type": "code",
   "execution_count": 12,
   "metadata": {},
   "outputs": [],
   "source": [
    "file = pylake.File(r'C:\\Users\\carca\\OneDrive - Johns Hopkins University\\Ha_CCarcamo\\01 Data\\Projects\\SWR1 Project\\sliding plus Cas9 marker\\2020-09-02-dCas9_SWR1_twocolorsuccess\\h5\\20200902-204829 Kymograph 12 DNA 10 noATP 70 TRY 3 twice as concentrated SWR1.h5')\n",
    "key = list(file.kymos.keys())[0]\n",
    "scan = file.kymos[key]\n",
    "#scan.save_tiff(file_name[:-3] + \"scan\" + key + \".tiff\", dtype=np.float16)\n",
    "scan.save_tiff(file_name[:-3] + \".tiff\", dtype=np.float16)\n"
   ]
  }
 ],
 "metadata": {
  "kernelspec": {
   "display_name": "Python 3",
   "language": "python",
   "name": "python3"
  },
  "language_info": {
   "codemirror_mode": {
    "name": "ipython",
    "version": 3
   },
   "file_extension": ".py",
   "mimetype": "text/x-python",
   "name": "python",
   "nbconvert_exporter": "python",
   "pygments_lexer": "ipython3",
   "version": "3.7.8"
  }
 },
 "nbformat": 4,
 "nbformat_minor": 2
}
