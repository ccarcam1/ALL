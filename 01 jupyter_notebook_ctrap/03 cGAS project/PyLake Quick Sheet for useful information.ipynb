{
 "cells": [
  {
   "cell_type": "markdown",
   "metadata": {},
   "source": [
    "## The point of this notebook is to jot down useful ways to location various points of data"
   ]
  },
  {
   "cell_type": "markdown",
   "metadata": {},
   "source": [
    "### This first cell is run to navigate to the file of interest:"
   ]
  },
  {
   "cell_type": "code",
   "execution_count": null,
   "metadata": {},
   "outputs": [],
   "source": [
    "import glob\n",
    "\n",
    "Types_of_file = [\"FD Curve\", \"Marker\", \"Kymograph\", \"Scan\"]\n",
    "Type_of_file = Types_of_file[0] # User input in code needed here ~~~~~~~~~~~~~~~~~~~~~~~~~~~~~~~~~~~~~~~~~~~~\n",
    "\n",
    "dir_root = r'C:\\Users\\carca\\OneDrive - Johns Hopkins University\\Ha_CCarcamo\\Data_Analysis\\Projects\\cGAS\\2020-10-11 4uM cat domain'+'/'\n",
    "file_string = '{}*{}*.h5'\n",
    "files = glob.glob(file_string.format(dir_root, Type_of_file))\n",
    "for file in files:\n",
    "    print(file[len(dir_root):])\n",
    "file_to_open = dir_root + input(\"Which file would you like:~copy and paste the file name~\") #~~~~~USER INPUT IN COMMAND LINE~~~~~~~~~~~\n"
   ]
  },
  {
   "cell_type": "markdown",
   "metadata": {},
   "source": [
    "### Calibration/ Spring Constant Location:"
   ]
  },
  {
   "cell_type": "code",
   "execution_count": null,
   "metadata": {},
   "outputs": [],
   "source": [
    "import lumicks.pylake as lk\n",
    "\n",
    "file = lk.File(file_to_open)\n",
    "list(file.fdcurves)\n",
    "\n",
    "calibration_info = file.force1x.calibration\n",
    "calibration_dict = calibration_info[0]\n",
    "for a, b in calibration_dict.items():\n",
    "    if len(a) < 7:\n",
    "        print(a, \"\\t\", \"\\t\", b, \"\\n\")\n",
    "    elif len(a) > 14:\n",
    "        print(a, b, \"\\n\")\n",
    "    else:\n",
    "        print(a, \"\\t\", b, \"\\n\")\n",
    "    \n",
    "    \n",
    "\n"
   ]
  },
  {
   "cell_type": "markdown",
   "metadata": {},
   "source": [
    "#### Next section contains a for loop that print a dictionary easier to read: "
   ]
  },
  {
   "cell_type": "code",
   "execution_count": 30,
   "metadata": {},
   "outputs": [
    {
     "name": "stdout",
     "output_type": "stream",
     "text": [
      "blue_photon_count\n",
      "blue_photon_time_tags\n",
      "bluelake_version\n",
      "description\n",
      "distance1\n",
      "distance2\n",
      "downsampled_force1\n",
      "downsampled_force1x\n",
      "downsampled_force1y\n",
      "downsampled_force2\n",
      "downsampled_force2x\n",
      "downsampled_force2y\n",
      "downsampled_force3\n",
      "downsampled_force3x\n",
      "downsampled_force3y\n",
      "downsampled_force4\n",
      "downsampled_force4x\n",
      "downsampled_force4y\n",
      "experiment\n",
      "export_time\n",
      "fdcurves\n",
      "force1x\n",
      "force1y\n",
      "force2x\n",
      "force2y\n",
      "force3x\n",
      "force3y\n",
      "force4x\n",
      "force4y\n",
      "format_version\n",
      "from_h5py\n",
      "green_photon_count\n",
      "green_photon_time_tags\n",
      "guid\n",
      "h5\n",
      "kymos\n",
      "point_scans\n",
      "red_photon_count\n",
      "red_photon_time_tags\n",
      "scans\n"
     ]
    },
    {
     "data": {
      "text/plain": [
       "h5py._hl.files.File"
      ]
     },
     "execution_count": 30,
     "metadata": {},
     "output_type": "execute_result"
    }
   ],
   "source": [
    "def print_dir_contents(dir_dir):\n",
    "    for x in dir(dir_dir):\n",
    "        if len(x) < 7:\n",
    "            print(x, '\\t', '\\t', type(x))\n",
    "        elif len(x) > 14:\n",
    "            print(x, type(x))\n",
    "        else: \n",
    "            print(x,'\\t', type(x))\n",
    "        \n",
    "def print_dict(dict_dict):\n",
    "    for a, b in dict_dict.items():\n",
    "        if len(a) < 7:\n",
    "            print(a, \"\\t\", \"\\t\", b, \"\\n\")\n",
    "        elif len(a) > 14:\n",
    "            print(a, b, \"\\n\")\n",
    "        else:\n",
    "            print(a, \"\\t\", b, \"\\n\")\n",
    "            \n",
    "def print_dir_contents_not__(dir_dir):\n",
    "    for x in dir(dir_dir):\n",
    "        if not x.startswith(\"__\") and not x.startswith(\"_\") and not x.isupper():\n",
    "            print(x)\n",
    "\n",
    "print_dir_contents_not__(file)\n",
    "type(file.h5)"
   ]
  }
 ],
 "metadata": {
  "kernelspec": {
   "display_name": "Python 3",
   "language": "python",
   "name": "python3"
  },
  "language_info": {
   "codemirror_mode": {
    "name": "ipython",
    "version": 3
   },
   "file_extension": ".py",
   "mimetype": "text/x-python",
   "name": "python",
   "nbconvert_exporter": "python",
   "pygments_lexer": "ipython3",
   "version": "3.7.8"
  }
 },
 "nbformat": 4,
 "nbformat_minor": 4
}
