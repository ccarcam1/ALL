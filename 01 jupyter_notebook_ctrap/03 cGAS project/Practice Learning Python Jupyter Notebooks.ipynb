{
 "cells": [
  {
   "cell_type": "markdown",
   "metadata": {},
   "source": [
    "Notes from w3schools:\n",
    "list = [\"apple\", \"banana\", \"cherry\"] \n",
    "    or list((\"apple\", \"banana\", \"cherry\"))\n",
    "tuple = (\"apple\", \"banana\", \"cherry\")\n",
    "dict = {\"name\": \"John\", \"age\" : 36}\n",
    "    or dict(name = \"John\", age = 36)\n",
    "set = {\"apple\", \"banana\", \"cherry\"}\n",
    "\n",
    "Notes on the fly:\n",
    "print with new line = (\"\\n\")\n",
    "print with tab between = (\"\\t\")\n",
    "method vs function: methods change an object(object.method()) and returns a new one without changing the original object, functions operate on an object (function(object))\n",
    "properties --> don't need a () after like methods do. example variable.dtype\n",
    "\n",
    "Notes on Numpy: \n",
    "When parsing a 3D array arr[stack number, row number, column number]\n",
    "For each reduced dimension, you remove the first parsing specifier --> 2D array arr[row, column]\n",
    "slicing: [start, end, step] --> includes the start index and excludes the ending index\n",
    "\n",
    "Dictionaries have keys and values\n",
    "dict.get(\"keyname\")\n",
    "dict.items() --> list with items \n",
    "dict.keys() --> list with keys \n",
    "dict.values() --> list with tuples of each key:value pair --> dict_items([(key, value), (key,value)...])\n",
    "\n",
    "Functions:\n",
    "for a variable number of arguments, add a * before the parameter name --> shortened as *args. a tuple of arguments\n",
    "keywork argument: (shorted as kwargs) --> key = value\n",
    "so, you know the function needs a kwarg, either you just list it, or you specify which value corresponds to each keyword using the dict syntax \n",
    "\n",
    "lambda function = lambda arguments: expression\n",
    "\n",
    "\n",
    "\n",
    "\n",
    "iterate through module dir() and describe data type:\n",
    "for x in dir(lk):\n",
    "    if len(x) < 7:\n",
    "        print(x, '\\t', '\\t', type(x))\n",
    "    elif len(x) > 14:\n",
    "        print(x, type(x))\n",
    "    else: \n",
    "        print(x,'\\t', type(x))"
   ]
  },
  {
   "cell_type": "code",
   "execution_count": 121,
   "metadata": {},
   "outputs": [
    {
     "name": "stdout",
     "output_type": "stream",
     "text": [
      "I have a Ford, it is a Mustang.\n"
     ]
    }
   ],
   "source": []
  }
 ],
 "metadata": {
  "kernelspec": {
   "display_name": "Python 3",
   "language": "python",
   "name": "python3"
  },
  "language_info": {
   "codemirror_mode": {
    "name": "ipython",
    "version": 3
   },
   "file_extension": ".py",
   "mimetype": "text/x-python",
   "name": "python",
   "nbconvert_exporter": "python",
   "pygments_lexer": "ipython3",
   "version": "3.7.8"
  }
 },
 "nbformat": 4,
 "nbformat_minor": 2
}
