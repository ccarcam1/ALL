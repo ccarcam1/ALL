{
 "cells": [
  {
   "cell_type": "markdown",
   "metadata": {},
   "source": [
    "The purpose of this notebook is to easily access the spring constant for any given experiment \n",
    "First I want to import all the functions I need:"
   ]
  },
  {
   "cell_type": "code",
   "execution_count": 3,
   "metadata": {},
   "outputs": [],
   "source": [
    "import numpy as np\n",
    "import matplotlib.pyplot as plt\n",
    "from lumicks import pylake\n",
    "import glob\n",
    "import scipy.io as sio\n",
    "import os"
   ]
  },
  {
   "cell_type": "markdown",
   "metadata": {},
   "source": [
    "pick a file manually"
   ]
  },
  {
   "cell_type": "code",
   "execution_count": 16,
   "metadata": {},
   "outputs": [
    {
     "name": "stdout",
     "output_type": "stream",
     "text": [
      "[{'Bead diameter (um)': 4.38, 'D (V^2/s)': 0.014662508758553853, 'Fit range (max.) (Hz)': 23000.0, 'Fit range (min.) (Hz)': 270.0, 'Fit tolerance': 1e-07, 'Kind': 'Reset offset to zero', 'Max iterations': 10000.0, 'Number of samples': 781250.0, 'Offset (pN)': -176.53827805640717, 'Points per block': 200.0, 'Rd (um/V)': 2.6008709933286775, 'Response (pN/V)': 1461.3673294249693, 'Rf (pN/V)': 1461.3673294249693, 'Sample rate (Hz)': 78125.0, 'Sign': 1.0, 'Start time (ns)': 1608488081064929200, 'Stop time (ns)': 1608488091064929200, 'Temperature (C)': 24.0, 'Viscosity (Pa*s)': 0.001002, 'alpha': 0.37238601753499156, 'backing (%)': 99.83949005321514, 'chi_squared_per_deg': 1.1269802841923584, 'err_D': 0.000197453309526377, 'err_alpha': 0.004334294003820516, 'err_f_diode': 176.78032703929122, 'err_fc': 23.734416474796806, 'f_diode (Hz)': 9170.041232642843, 'fc (Hz)': 2161.960500362804, 'kappa (pN/nm)': 0.5618761304091692, 'ps_fitted': 0.0, 'ps_model_fit': 0.0}]\n"
     ]
    }
   ],
   "source": [
    "directory = r'C:\\Users\\carca\\OneDrive - Johns Hopkins University\\Ha_CCarcamo\\01 Data_Analysis\\Projects\\SWR1 Project\\lambda nucleosome array\\2021-01-18\\Before Adding SWR1 to channel 4\\h5'+ '/'\n",
    "file = pylake.File(directory + '20210118-173031 Kymograph 1 DNA 1.h5')\n",
    "key = list(file.kymos.keys())[0]\n",
    "kymo = file.kymos[key]\n",
    "\n",
    "print(file.force1x.calibration)"
   ]
  },
  {
   "cell_type": "code",
   "execution_count": 32,
   "metadata": {
    "scrolled": true
   },
   "outputs": [
    {
     "name": "stdout",
     "output_type": "stream",
     "text": [
      "__class__\n",
      "__delattr__\n",
      "__dict__\n",
      "__dir__\n",
      "__doc__\n",
      "__eq__\n",
      "__format__\n",
      "__ge__\n",
      "__getattribute__\n",
      "__getitem__\n",
      "__gt__\n",
      "__hash__\n",
      "__init__\n",
      "__init_subclass__\n",
      "__le__\n",
      "__lt__\n",
      "__module__\n",
      "__ne__\n",
      "__new__\n",
      "__reduce__\n",
      "__reduce_ex__\n",
      "__repr__\n",
      "__setattr__\n",
      "__sizeof__\n",
      "__str__\n",
      "__subclasshook__\n",
      "__weakref__\n",
      "_cache\n",
      "_get_axis_metadata\n",
      "_get_photon_count\n",
      "_image\n",
      "_plot\n",
      "_plot_color\n",
      "_timestamps\n",
      "blue_image\n",
      "blue_photon_count\n",
      "file\n",
      "from_dataset\n",
      "green_image\n",
      "green_photon_count\n",
      "has_fluorescence\n",
      "has_force\n",
      "infowave\n",
      "json\n",
      "name\n",
      "pixels_per_line\n",
      "plot_blue\n",
      "plot_green\n",
      "plot_red\n",
      "plot_rgb\n",
      "red_image\n",
      "red_photon_count\n",
      "rgb_image\n",
      "save_tiff\n",
      "start\n",
      "stop\n",
      "timestamps\n"
     ]
    }
   ],
   "source": [
    "for fnx in dir(file.):\n",
    "    print(fnx)"
   ]
  },
  {
   "cell_type": "code",
   "execution_count": 63,
   "metadata": {},
   "outputs": [
    {
     "name": "stdout",
     "output_type": "stream",
     "text": [
      "[{'Bead diameter (um)': 4.42, 'D (V^2/s)': 0.02730194956822638, 'Fit range (max.) (Hz)': 8000.0, 'Fit range (min.) (Hz)': 260.0, 'Fit tolerance': 1e-07, 'Kind': 'Reset offset to zero', 'Max iterations': 10000.0, 'Number of samples': 781250.0, 'Offset (pN)': -126.55553051130511, 'Points per block': 2000.0, 'Rd (um/V)': 1.8845563418306963, 'Response (pN/V)': 581.0338751266319, 'Rf (pN/V)': 581.0338751266319, 'Sample rate (Hz)': 78125.0, 'Sign': 1.0, 'Start time (ns)': 1570559133356717000, 'Stop time (ns)': 1570559143356717000, 'Temperature (C)': 20.0, 'Viscosity (Pa*s)': 0.001002, 'alpha': 0.5679947682968358, 'backing (%)': 22.321123910899775, 'chi_squared_per_deg': 0.8409577723273609, 'err_D': 0.0006291013194086444, 'err_alpha': 0.049067322230145594, 'err_f_diode': 778.1570859995237, 'err_fc': 21.34203726404045, 'f_diode (Hz)': 6604.052092469916, 'fc (Hz)': 1175.5777037838873, 'kappa (pN/nm)': 0.30831334793747994, 'ps_fitted': 0.0, 'ps_model_fit': 0.0}]\n"
     ]
    }
   ],
   "source": [
    "\n",
    "print(file.force1x.calibration)\n"
   ]
  }
 ],
 "metadata": {
  "kernelspec": {
   "display_name": "Python 3",
   "language": "python",
   "name": "python3"
  },
  "language_info": {
   "codemirror_mode": {
    "name": "ipython",
    "version": 3
   },
   "file_extension": ".py",
   "mimetype": "text/x-python",
   "name": "python",
   "nbconvert_exporter": "python",
   "pygments_lexer": "ipython3",
   "version": "3.7.8"
  }
 },
 "nbformat": 4,
 "nbformat_minor": 2
}
