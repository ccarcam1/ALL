{
 "cells": [
  {
   "cell_type": "code",
   "execution_count": 2,
   "metadata": {
    "scrolled": true
   },
   "outputs": [
    {
     "ename": "FileNotFoundError",
     "evalue": "[WinError 3] The system cannot find the path specified: '/mnt/d/OneDrive - Johns Hopkins University/Ha_CCarcamo/Data/Microscopes/C_Trap/2020-02-11 klenow lambda DNA/'",
     "output_type": "error",
     "traceback": [
      "\u001b[1;31m---------------------------------------------------------------------------\u001b[0m",
      "\u001b[1;31mFileNotFoundError\u001b[0m                         Traceback (most recent call last)",
      "\u001b[1;32m<ipython-input-2-519609f8b80a>\u001b[0m in \u001b[0;36m<module>\u001b[1;34m\u001b[0m\n\u001b[0;32m      6\u001b[0m \u001b[1;32mimport\u001b[0m \u001b[0mos\u001b[0m\u001b[1;33m\u001b[0m\u001b[1;33m\u001b[0m\u001b[0m\n\u001b[0;32m      7\u001b[0m \u001b[0mdirectory\u001b[0m \u001b[1;33m=\u001b[0m \u001b[1;34m'/mnt/d/OneDrive - Johns Hopkins University/Ha_CCarcamo/Data/Microscopes/C_Trap/2020-02-11 klenow lambda DNA/'\u001b[0m\u001b[1;33m\u001b[0m\u001b[1;33m\u001b[0m\u001b[0m\n\u001b[1;32m----> 8\u001b[1;33m \u001b[0mos\u001b[0m\u001b[1;33m.\u001b[0m\u001b[0mchdir\u001b[0m\u001b[1;33m(\u001b[0m\u001b[0mdirectory\u001b[0m\u001b[1;33m)\u001b[0m\u001b[1;33m\u001b[0m\u001b[1;33m\u001b[0m\u001b[0m\n\u001b[0m\u001b[0;32m      9\u001b[0m \u001b[0mfiles\u001b[0m \u001b[1;33m=\u001b[0m \u001b[0mglob\u001b[0m\u001b[1;33m.\u001b[0m\u001b[0mglob\u001b[0m\u001b[1;33m(\u001b[0m\u001b[0mdirectory\u001b[0m \u001b[1;33m+\u001b[0m \u001b[1;34m'*FD Curve*.h5'\u001b[0m\u001b[1;33m)\u001b[0m\u001b[1;33m\u001b[0m\u001b[1;33m\u001b[0m\u001b[0m\n\u001b[0;32m     10\u001b[0m \u001b[0mprint\u001b[0m\u001b[1;33m(\u001b[0m\u001b[1;34m\"found {} files in folder\"\u001b[0m\u001b[1;33m.\u001b[0m\u001b[0mformat\u001b[0m\u001b[1;33m(\u001b[0m\u001b[0mlen\u001b[0m\u001b[1;33m(\u001b[0m\u001b[0mfiles\u001b[0m\u001b[1;33m)\u001b[0m\u001b[1;33m)\u001b[0m\u001b[1;33m)\u001b[0m\u001b[1;33m\u001b[0m\u001b[1;33m\u001b[0m\u001b[0m\n",
      "\u001b[1;31mFileNotFoundError\u001b[0m: [WinError 3] The system cannot find the path specified: '/mnt/d/OneDrive - Johns Hopkins University/Ha_CCarcamo/Data/Microscopes/C_Trap/2020-02-11 klenow lambda DNA/'"
     ]
    }
   ],
   "source": [
    "import numpy as np\n",
    "import matplotlib.pyplot as plt\n",
    "from lumicks import pylake\n",
    "import glob\n",
    "import scipy.io as sio\n",
    "import os\n",
    "directory = '/mnt/d/OneDrive - Johns Hopkins University/Ha_CCarcamo/Data/Microscopes/C_Trap/2020-02-11 klenow lambda DNA/'\n",
    "os.chdir(directory)\n",
    "files = glob.glob(directory + '*FD Curve*.h5')\n",
    "print(\"found {} files in folder\".format(len(files)))\n",
    "for file_name in files:\n",
    "    print(file_name)\n",
    "    file = pylake.File(file_name)"
   ]
  },
  {
   "cell_type": "code",
   "execution_count": 3,
   "metadata": {},
   "outputs": [
    {
     "data": {
      "text/plain": [
       "'/mnt/d/OneDrive - Johns Hopkins University/Ha_CCarcamo/Data/Microscopes/C_Trap/2020-02-11 klenow lambda DNA'"
      ]
     },
     "execution_count": 3,
     "metadata": {},
     "output_type": "execute_result"
    }
   ],
   "source": [
    "# pwd\n"
   ]
  },
  {
   "cell_type": "code",
   "execution_count": null,
   "metadata": {},
   "outputs": [],
   "source": [
    "import numpy as np\n",
    "import matplotlib.pyplot as plt\n",
    "from lumicks import pylake\n",
    "import glob\n",
    "import scipy.io as sio\n",
    "# select the folder, here we search for .h5 files in the folder where you're running the script in\n",
    "directory = '/mnt/d/OneDrive - Johns Hopkins University/Ha_CCarcamo/Data/C_Trap/20200109 repeat array/'\n",
    "os.chdir(directory)\n",
    "os.mkdir('start_dir')\n",
    "os.mkdir('stop_dir')\n",
    "os.mkdir('distancedata_dir')\n",
    "os.mkdir('timestamps_dir')\n",
    "os.mkdir('forcedata_dir')\n",
    "os.mkdir('figures')\n",
    "    \n",
    "files = glob.glob(directory + '*FD Curve*.h5')\n",
    "print(\"found {} files in folder\".format(len(files)))\n",
    "for file_name in files:\n",
    "    print(file_name)\n",
    "    file = pylake.File(file_name)\n",
    "    key = list(file.fdcurves.keys())[0]\n",
    "    print(key)\n",
    "    fdcurve = file.fdcurves[key]\n",
    "    start = fdcurve.start\n",
    "    stop = fdcurve.stop\n",
    "    sio.savemat(f\"{directory}start_dir/start_{key}_fdcurve.mat\",{'start':file.fdcurves[key].start})\n",
    "    sio.savemat(f\"{directory}stop_dir/stop_{key}_fdcurve.mat\",{'stop':file.fdcurves[key].stop})\n",
    "    sio.savemat(f\"{directory}distancedata_dir/distancedata_{key}_fdcurve.mat\",{'d':file.fdcurves[key].d.data})\n",
    "    sio.savemat(f\"{directory}timestamps_dir/timestamps_{key}_fdcurve.mat\",{'timestamps':file.fdcurves[key].d.timestamps})\n",
    "    sio.savemat(f\"{directory}forcedata_dir/forcedata_{key}_fdcurve.mat\",{'f':file.fdcurves[key].f.data})\n",
    "#     sio.savemat(f\"{directory}downsampled_force1_{key}_fdcurve.mat\",{'downsampled_force1':file.fdcurves[key].downsampled_force1.y})\n",
    "#     sio.savemat(f\"{directory}downsampled_force1x_{key}_fdcurve.mat\",{'downsampled_force1x':file.fdcurves[key].downsampled_force1x})\n",
    "#     sio.savemat(f\"{directory}distance1_{key}_fdcurve.mat\",{'distance1':file.fdcurves[key].distance1})\n",
    "\n"
   ]
  },
  {
   "cell_type": "code",
   "execution_count": 3,
   "metadata": {},
   "outputs": [
    {
     "ename": "FileNotFoundError",
     "evalue": "[WinError 3] The system cannot find the path specified: '/mnt/d/OneDrive - Johns Hopkins University/Ha_CCarcamo/Data/C_Trap/BMH21 collaboration/2019-11-08 drug DNA properties pH 6point3/'",
     "output_type": "error",
     "traceback": [
      "\u001b[1;31m---------------------------------------------------------------------------\u001b[0m",
      "\u001b[1;31mFileNotFoundError\u001b[0m                         Traceback (most recent call last)",
      "\u001b[1;32m<ipython-input-3-39a8d0b7f72f>\u001b[0m in \u001b[0;36m<module>\u001b[1;34m\u001b[0m\n\u001b[0;32m      6\u001b[0m \u001b[1;31m# select the folder, here we search for .h5 files in the folder where you're running the script in\u001b[0m\u001b[1;33m\u001b[0m\u001b[1;33m\u001b[0m\u001b[1;33m\u001b[0m\u001b[0m\n\u001b[0;32m      7\u001b[0m \u001b[0mdirectory\u001b[0m \u001b[1;33m=\u001b[0m \u001b[1;34m'/mnt/d/OneDrive - Johns Hopkins University/Ha_CCarcamo/Data/C_Trap/BMH21 collaboration/2019-11-08 drug DNA properties pH 6point3/'\u001b[0m\u001b[1;33m\u001b[0m\u001b[1;33m\u001b[0m\u001b[0m\n\u001b[1;32m----> 8\u001b[1;33m \u001b[0mos\u001b[0m\u001b[1;33m.\u001b[0m\u001b[0mchdir\u001b[0m\u001b[1;33m(\u001b[0m\u001b[0mdirectory\u001b[0m\u001b[1;33m)\u001b[0m\u001b[1;33m\u001b[0m\u001b[1;33m\u001b[0m\u001b[0m\n\u001b[0m\u001b[0;32m      9\u001b[0m \u001b[0mos\u001b[0m\u001b[1;33m.\u001b[0m\u001b[0mmkdir\u001b[0m\u001b[1;33m(\u001b[0m\u001b[1;34m'start_dir'\u001b[0m\u001b[1;33m)\u001b[0m\u001b[1;33m\u001b[0m\u001b[1;33m\u001b[0m\u001b[0m\n\u001b[0;32m     10\u001b[0m \u001b[0mos\u001b[0m\u001b[1;33m.\u001b[0m\u001b[0mmkdir\u001b[0m\u001b[1;33m(\u001b[0m\u001b[1;34m'stop_dir'\u001b[0m\u001b[1;33m)\u001b[0m\u001b[1;33m\u001b[0m\u001b[1;33m\u001b[0m\u001b[0m\n",
      "\u001b[1;31mFileNotFoundError\u001b[0m: [WinError 3] The system cannot find the path specified: '/mnt/d/OneDrive - Johns Hopkins University/Ha_CCarcamo/Data/C_Trap/BMH21 collaboration/2019-11-08 drug DNA properties pH 6point3/'"
     ]
    }
   ],
   "source": [
    "import numpy as np\n",
    "import matplotlib.pyplot as plt\n",
    "from lumicks import pylake\n",
    "import glob\n",
    "import scipy.io as sio\n",
    "# select the folder, here we search for .h5 files in the folder where you're running the script in\n",
    "directory = '/mnt/d/OneDrive - Johns Hopkins University/Ha_CCarcamo/Data/C_Trap/BMH21 collaboration/2019-11-08 drug DNA properties pH 6point3/'\n",
    "os.chdir(directory)\n",
    "os.mkdir('start_dir')\n",
    "os.mkdir('stop_dir')\n",
    "os.mkdir('distancedata_dir')\n",
    "os.mkdir('timestamps_dir')\n",
    "os.mkdir('forcedata_dir')\n",
    "os.mkdir('figures')\n",
    "    \n",
    "files = glob.glob(directory + '*FD Curve*.h5')\n",
    "print(\"found {} files in folder\".format(len(files)))\n",
    "for file_name in files:\n",
    "    print(file_name)\n",
    "    file = pylake.File(file_name)\n",
    "    key = list(file.fdcurves.keys())[0]\n",
    "    print(key)\n",
    "    fdcurve = file.fdcurves[key]\n",
    "    start = fdcurve.start\n",
    "    stop = fdcurve.stop\n",
    "    sio.savemat(f\"{directory}start_dir/start_{key}_fdcurve.mat\",{'start':file.fdcurves[key].start})\n",
    "    sio.savemat(f\"{directory}stop_dir/stop_{key}_fdcurve.mat\",{'stop':file.fdcurves[key].stop})\n",
    "    sio.savemat(f\"{directory}distancedata_dir/distancedata_{key}_fdcurve.mat\",{'d':file.fdcurves[key].d.data})\n",
    "    sio.savemat(f\"{directory}timestamps_dir/timestamps_{key}_fdcurve.mat\",{'timestamps':file.fdcurves[key].d.timestamps})\n",
    "    sio.savemat(f\"{directory}forcedata_dir/forcedata_{key}_fdcurve.mat\",{'f':file.fdcurves[key].f.data})\n",
    "#     sio.savemat(f\"{directory}downsampled_force1_{key}_fdcurve.mat\",{'downsampled_force1':file.fdcurves[key].downsampled_force1.y})\n",
    "#     sio.savemat(f\"{directory}downsampled_force1x_{key}_fdcurve.mat\",{'downsampled_force1x':file.fdcurves[key].downsampled_force1x})\n",
    "#     sio.savemat(f\"{directory}distance1_{key}_fdcurve.mat\",{'distance1':file.fdcurves[key].distance1})\n",
    "\n"
   ]
  },
  {
   "cell_type": "code",
   "execution_count": 5,
   "metadata": {},
   "outputs": [
    {
     "ename": "NameError",
     "evalue": "name 'file' is not defined",
     "output_type": "error",
     "traceback": [
      "\u001b[1;31m---------------------------------------------------------------------------\u001b[0m",
      "\u001b[1;31mNameError\u001b[0m                                 Traceback (most recent call last)",
      "\u001b[1;32m<ipython-input-5-f1b13564ab2a>\u001b[0m in \u001b[0;36m<module>\u001b[1;34m\u001b[0m\n\u001b[1;32m----> 1\u001b[1;33m \u001b[1;32mfor\u001b[0m \u001b[0mx\u001b[0m \u001b[1;32min\u001b[0m \u001b[0mdir\u001b[0m\u001b[1;33m(\u001b[0m\u001b[0mfile\u001b[0m\u001b[1;33m)\u001b[0m\u001b[1;33m:\u001b[0m\u001b[1;33m\u001b[0m\u001b[1;33m\u001b[0m\u001b[0m\n\u001b[0m\u001b[0;32m      2\u001b[0m     \u001b[0mprint\u001b[0m\u001b[1;33m(\u001b[0m\u001b[0mx\u001b[0m\u001b[1;33m)\u001b[0m\u001b[1;33m\u001b[0m\u001b[1;33m\u001b[0m\u001b[0m\n",
      "\u001b[1;31mNameError\u001b[0m: name 'file' is not defined"
     ]
    }
   ],
   "source": [
    "for x in dir(file):\n",
    "    print(x)\n"
   ]
  }
 ],
 "metadata": {
  "kernelspec": {
   "display_name": "Python 3",
   "language": "python",
   "name": "python3"
  },
  "language_info": {
   "codemirror_mode": {
    "name": "ipython",
    "version": 3
   },
   "file_extension": ".py",
   "mimetype": "text/x-python",
   "name": "python",
   "nbconvert_exporter": "python",
   "pygments_lexer": "ipython3",
   "version": "3.7.4"
  }
 },
 "nbformat": 4,
 "nbformat_minor": 2
}
