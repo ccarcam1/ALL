{
 "cells": [
  {
   "cell_type": "code",
   "execution_count": 2,
   "metadata": {},
   "outputs": [],
   "source": [
    "import numpy as np\n",
    "import matplotlib.pyplot as plt\n",
    "\n",
    "from lumicks import pylake\n",
    "\n",
    "%matplotlib inline"
   ]
  },
  {
   "cell_type": "code",
   "execution_count": 9,
   "metadata": {},
   "outputs": [
    {
     "name": "stdout",
     "output_type": "stream",
     "text": [
      "found 19 files in folder\n",
      "C:\\Users\\carca\\OneDrive - Johns Hopkins University\\Ha_CCarcamo\\01 Data\\Projects\\SWR1 Project\\sliding\\noATP\\2019-08-29 SWR1 no ATP\\kymograph h5\\20190829-201137 Kymograph 1.h5\n",
      "C:\\Users\\carca\\OneDrive - Johns Hopkins University\\Ha_CCarcamo\\01 Data\\Projects\\SWR1 Project\\sliding\\noATP\\2019-08-29 SWR1 no ATP\\kymograph h5\\20190829-201139 Kymograph 2.h5\n",
      "C:\\Users\\carca\\OneDrive - Johns Hopkins University\\Ha_CCarcamo\\01 Data\\Projects\\SWR1 Project\\sliding\\noATP\\2019-08-29 SWR1 no ATP\\kymograph h5\\20190829-201145 Kymograph 4.h5\n",
      "C:\\Users\\carca\\OneDrive - Johns Hopkins University\\Ha_CCarcamo\\01 Data\\Projects\\SWR1 Project\\sliding\\noATP\\2019-08-29 SWR1 no ATP\\kymograph h5\\20190829-201155 Kymograph 6.h5\n",
      "C:\\Users\\carca\\OneDrive - Johns Hopkins University\\Ha_CCarcamo\\01 Data\\Projects\\SWR1 Project\\sliding\\noATP\\2019-08-29 SWR1 no ATP\\kymograph h5\\20190829-201204 Kymograph 7.h5\n",
      "C:\\Users\\carca\\OneDrive - Johns Hopkins University\\Ha_CCarcamo\\01 Data\\Projects\\SWR1 Project\\sliding\\noATP\\2019-08-29 SWR1 no ATP\\kymograph h5\\20190829-201214 Kymograph 10.h5\n",
      "C:\\Users\\carca\\OneDrive - Johns Hopkins University\\Ha_CCarcamo\\01 Data\\Projects\\SWR1 Project\\sliding\\noATP\\2019-08-29 SWR1 no ATP\\kymograph h5\\20190829-201220 Kymograph 11.h5\n",
      "C:\\Users\\carca\\OneDrive - Johns Hopkins University\\Ha_CCarcamo\\01 Data\\Projects\\SWR1 Project\\sliding\\noATP\\2019-08-29 SWR1 no ATP\\kymograph h5\\20190829-201231 Kymograph 13.h5\n",
      "C:\\Users\\carca\\OneDrive - Johns Hopkins University\\Ha_CCarcamo\\01 Data\\Projects\\SWR1 Project\\sliding\\noATP\\2019-08-29 SWR1 no ATP\\kymograph h5\\20190829-201236 Kymograph 14.h5\n",
      "C:\\Users\\carca\\OneDrive - Johns Hopkins University\\Ha_CCarcamo\\01 Data\\Projects\\SWR1 Project\\sliding\\noATP\\2019-08-29 SWR1 no ATP\\kymograph h5\\20190829-201246 Kymograph 15.h5\n",
      "C:\\Users\\carca\\OneDrive - Johns Hopkins University\\Ha_CCarcamo\\01 Data\\Projects\\SWR1 Project\\sliding\\noATP\\2019-08-29 SWR1 no ATP\\kymograph h5\\20190829-201253 Kymograph 16.h5\n",
      "C:\\Users\\carca\\OneDrive - Johns Hopkins University\\Ha_CCarcamo\\01 Data\\Projects\\SWR1 Project\\sliding\\noATP\\2019-08-29 SWR1 no ATP\\kymograph h5\\20190829-201304 Kymograph 19.h5\n",
      "C:\\Users\\carca\\OneDrive - Johns Hopkins University\\Ha_CCarcamo\\01 Data\\Projects\\SWR1 Project\\sliding\\noATP\\2019-08-29 SWR1 no ATP\\kymograph h5\\20190829-201310 Kymograph 20.h5\n",
      "C:\\Users\\carca\\OneDrive - Johns Hopkins University\\Ha_CCarcamo\\01 Data\\Projects\\SWR1 Project\\sliding\\noATP\\2019-08-29 SWR1 no ATP\\kymograph h5\\20190829-201317 Kymograph 22.h5\n",
      "C:\\Users\\carca\\OneDrive - Johns Hopkins University\\Ha_CCarcamo\\01 Data\\Projects\\SWR1 Project\\sliding\\noATP\\2019-08-29 SWR1 no ATP\\kymograph h5\\20190829-201324 Kymograph 24.h5\n",
      "C:\\Users\\carca\\OneDrive - Johns Hopkins University\\Ha_CCarcamo\\01 Data\\Projects\\SWR1 Project\\sliding\\noATP\\2019-08-29 SWR1 no ATP\\kymograph h5\\20190829-201332 Kymograph 26.h5\n",
      "C:\\Users\\carca\\OneDrive - Johns Hopkins University\\Ha_CCarcamo\\01 Data\\Projects\\SWR1 Project\\sliding\\noATP\\2019-08-29 SWR1 no ATP\\kymograph h5\\20190829-201336 Kymograph 27.h5\n",
      "C:\\Users\\carca\\OneDrive - Johns Hopkins University\\Ha_CCarcamo\\01 Data\\Projects\\SWR1 Project\\sliding\\noATP\\2019-08-29 SWR1 no ATP\\kymograph h5\\20190829-201340 Kymograph 28.h5\n",
      "C:\\Users\\carca\\OneDrive - Johns Hopkins University\\Ha_CCarcamo\\01 Data\\Projects\\SWR1 Project\\sliding\\noATP\\2019-08-29 SWR1 no ATP\\kymograph h5\\20190829-201345 Kymograph 29.h5\n"
     ]
    }
   ],
   "source": [
    "import glob\n",
    "\n",
    "# select the folder, here we search for .h5 files in the folder where you're running the script in\n",
    "\n",
    "files = glob.glob(r'C:\\Users\\carca\\OneDrive - Johns Hopkins University\\Ha_CCarcamo\\01 Data\\Projects\\SWR1 Project\\sliding\\noATP\\2019-08-29 SWR1 no ATP\\kymograph h5\\*Kymograph*.h5')\n",
    "print(\"found {} files in folder\".format(len(files)))\n",
    "\n",
    "# I am trying to write a loop so that I can input all the scans in a file and convert them to 16-bit\n",
    "# tiff files(ccc)\n",
    "\n",
    "for file_name in files:\n",
    "    print(file_name)\n",
    "    file = pylake.File(file_name)\n",
    "    key = list(file.kymos.keys())[0]\n",
    "    scan = file.kymos[key]\n",
    "    #scan.save_tiff(file_name[:-3] + \"scan\" + key + \".tiff\", dtype=np.float16)\n",
    "    scan.save_tiff(file_name[:-3] + \".tiff\", dtype=np.float16)"
   ]
  },
  {
   "cell_type": "code",
   "execution_count": 12,
   "metadata": {},
   "outputs": [],
   "source": [
    "file = pylake.File(r'C:\\Users\\carca\\OneDrive - Johns Hopkins University\\Ha_CCarcamo\\01 Data\\Projects\\SWR1 Project\\sliding plus Cas9 marker\\2020-09-02-dCas9_SWR1_twocolorsuccess\\h5\\20200902-204829 Kymograph 12 DNA 10 noATP 70 TRY 3 twice as concentrated SWR1.h5')\n",
    "key = list(file.kymos.keys())[0]\n",
    "scan = file.kymos[key]\n",
    "#scan.save_tiff(file_name[:-3] + \"scan\" + key + \".tiff\", dtype=np.float16)\n",
    "scan.save_tiff(file_name[:-3] + \".tiff\", dtype=np.float16)\n"
   ]
  }
 ],
 "metadata": {
  "kernelspec": {
   "display_name": "Python 3",
   "language": "python",
   "name": "python3"
  },
  "language_info": {
   "codemirror_mode": {
    "name": "ipython",
    "version": 3
   },
   "file_extension": ".py",
   "mimetype": "text/x-python",
   "name": "python",
   "nbconvert_exporter": "python",
   "pygments_lexer": "ipython3",
   "version": "3.7.8"
  }
 },
 "nbformat": 4,
 "nbformat_minor": 2
}
