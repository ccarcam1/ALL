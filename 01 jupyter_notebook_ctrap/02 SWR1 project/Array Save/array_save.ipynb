{
 "cells": [
  {
   "cell_type": "code",
   "execution_count": 1,
   "metadata": {},
   "outputs": [],
   "source": [
    "import numpy as np\n",
    "import matplotlib.pyplot as plt\n",
    "from lumicks import pylake\n",
    "import glob\n",
    "import scipy.io as sio\n"
   ]
  },
  {
   "cell_type": "code",
   "execution_count": 3,
   "metadata": {},
   "outputs": [
    {
     "data": {
      "text/plain": [
       "'/mnt/d/OneDrive - Johns Hopkins University/Ha_CCarcamo/jupyter notebooks'"
      ]
     },
     "execution_count": 3,
     "metadata": {},
     "output_type": "execute_result"
    }
   ],
   "source": [
    "pwd"
   ]
  },
  {
   "cell_type": "code",
   "execution_count": 4,
   "metadata": {
    "scrolled": true
   },
   "outputs": [
    {
     "name": "stdout",
     "output_type": "stream",
     "text": [
      "found 6 files in folder\n",
      "/mnt/d/OneDrive - Johns Hopkins University/Ha_CCarcamo/Data/C_Trap/2019-12-18 cy5 cy3 tracrRNA single biotin/h5 files/20191218-164518 Kymograph 1 group1.h5\n",
      "/mnt/d/OneDrive - Johns Hopkins University/Ha_CCarcamo/Data/C_Trap/2019-12-18 cy5 cy3 tracrRNA single biotin/h5 files/20191218-164520 Kymograph 3 group 2.h5\n",
      "/mnt/d/OneDrive - Johns Hopkins University/Ha_CCarcamo/Data/C_Trap/2019-12-18 cy5 cy3 tracrRNA single biotin/h5 files/20191218-164521 Kymograph 4 group 3.h5\n",
      "/mnt/d/OneDrive - Johns Hopkins University/Ha_CCarcamo/Data/C_Trap/2019-12-18 cy5 cy3 tracrRNA single biotin/h5 files/20191218-164523 Kymograph 6 group 4.h5\n",
      "/mnt/d/OneDrive - Johns Hopkins University/Ha_CCarcamo/Data/C_Trap/2019-12-18 cy5 cy3 tracrRNA single biotin/h5 files/20191218-164530 Kymograph 7 group 5.h5\n",
      "/mnt/d/OneDrive - Johns Hopkins University/Ha_CCarcamo/Data/C_Trap/2019-12-18 cy5 cy3 tracrRNA single biotin/h5 files/20191218-164538 Kymograph 8 group 6 diffusing particle.h5\n"
     ]
    }
   ],
   "source": [
    "import numpy as np\n",
    "import matplotlib.pyplot as plt\n",
    "from lumicks import pylake\n",
    "import glob\n",
    "import scipy.io as sio\n",
    "import os\n",
    "    # select the folder, here we search for .h5 files in the folder where you're running the script in\n",
    "# directory = 'C:\\\\Users\\\\carca\\\\OneDrive - Johns Hopkins University\\\\Ha_CCarcamo\\\\Data\\\\SWR1\\\\cas9\\\\2019-10-29 gamma S\\\\'\n",
    "directory_save = '/mnt/d/OneDrive - Johns Hopkins University/Ha_CCarcamo/Data/C_Trap/2019-12-18 cy5 cy3 tracrRNA single biotin/'\n",
    "directory_h5 = '/mnt/d/OneDrive - Johns Hopkins University/Ha_CCarcamo/Data/C_Trap/2019-12-18 cy5 cy3 tracrRNA single biotin/h5 files/'\n",
    "# + 'kymos h5\\\\'\n",
    "\n",
    "os.chdir(directory_save)\n",
    "os.mkdir('linescan_time_mat')\n",
    "os.mkdir('kymo_mat')\n",
    "os.mkdir('segmentation')\n",
    "os.mkdir('fitting')\n",
    "os.mkdir('MSD analysis')\n",
    "os.mkdir('final')\n",
    "os.mkdir('filename')\n",
    "os.mkdir('file_name_2')\n",
    "\n",
    "files = glob.glob(directory_h5 + '*Kymograph*.h5')\n",
    "print(\"found {} files in folder\".format(len(files)))\n",
    "for file_name in files:\n",
    "    print(file_name)\n",
    "    file = pylake.File(file_name)\n",
    "    key = list(file.kymos.keys())[0]\n",
    "    kymo = file.kymos[key]\n",
    "    time = kymo.timestamps\n",
    "    t1 = time[0]\n",
    "    c1 = (t1 - t1[0]) * 1e-9 + 1\n",
    "    start = c1[0]\n",
    "    second =c1[1]\n",
    "    end = c1[-1]\n",
    "#     tps= {np.around((second-start)*1000, decimals = 2)}\n",
    "    pixeltime = kymo.json['scan volume']['scan axes'][0]['scan time (ms)']\n",
    "    sio.savemat(f\"{directory_save}kymo_mat/kymo_{key}1125.mat\",{'obj_arr':file.kymos[key].green_image})\n",
    "#     sio.savemat(f\"{directory}pixeltime_{key}.mat\", {f\"pixeltime_{key}\":np.around((second-start)*1000, decimals = 2)})\n",
    "    sio.savemat(f\"{directory_save}linescan_time_mat/_kymo_{key}1125_linescan_time.mat\", {'linescan_time_':np.around((second-start)*1000, decimals = 2)})\n",
    "\n"
   ]
  },
  {
   "cell_type": "code",
   "execution_count": null,
   "metadata": {},
   "outputs": [],
   "source": []
  },
  {
   "cell_type": "code",
   "execution_count": 45,
   "metadata": {},
   "outputs": [
    {
     "data": {
      "text/plain": [
       "dict_keys(['34'])"
      ]
     },
     "execution_count": 45,
     "metadata": {},
     "output_type": "execute_result"
    }
   ],
   "source": [
    "# scantime = kymo.json['scan axes'] #in ms\n",
    "# print(scantime)\n",
    "# kymo.json['scan volume']\n",
    "file.kymos.keys()"
   ]
  },
  {
   "cell_type": "code",
   "execution_count": 70,
   "metadata": {},
   "outputs": [
    {
     "data": {
      "text/plain": [
       "51.35"
      ]
     },
     "execution_count": 70,
     "metadata": {},
     "output_type": "execute_result"
    }
   ],
   "source": [
    "# kymo.json\n",
    "# pixelsize = kymo.json['scan volume']['scan axes'][0]['scan time (ms)']\n",
    "# pixelsize\n",
    "scan = file.kymos[key]\n",
    "time = scan.timestamps\n",
    "t1 = time[0]\n",
    "c1 = (t1 - t1[0]) * 1e-9 + 1\n",
    "start = c1[0]\n",
    "second =c1[1]\n",
    "end = c1[-1]\n",
    "\n",
    "tps= np.around((second-start)*1000, decimals = 2)\n",
    "tps"
   ]
  },
  {
   "cell_type": "code",
   "execution_count": null,
   "metadata": {},
   "outputs": [],
   "source": [
    "files = glob.glob(directory + '*Kymograph*.h5')\n",
    "print(\"found {} files in folder\".format(len(files)))\n",
    "for file_name in files:\n",
    "    print(file_name)\n",
    "    file = pylake.File(file_name)\n",
    "    key = list(file.kymos.keys())[0]\n",
    "    scan = file.kymos[key]\n",
    "    scan.save_tiff(f\"{directory}kymo_{key}_16_bit.tiff\", dtype=np.float16)"
   ]
  },
  {
   "cell_type": "code",
   "execution_count": 59,
   "metadata": {},
   "outputs": [
    {
     "name": "stdout",
     "output_type": "stream",
     "text": [
      "/mnt/d/OneDrive - Johns Hopkins University/Ha_CCarcamo/Data/C_Trap/2019-10-08 no ATP/kymos h5/kymo_34_16_bit.mat\n"
     ]
    }
   ],
   "source": [
    "print(f\"{directory}kymo_{key}_16_bit.mat\")"
   ]
  },
  {
   "cell_type": "code",
   "execution_count": 49,
   "metadata": {},
   "outputs": [],
   "source": [
    "# open file\n",
    "file = pylake.File(filename)\n",
    "#kymos = list(file.kymos)\n",
    "#kymo_data = file.kymos[kymos[0]]\n",
    "#kymo = file.kymos[kymos[0]]\n",
    "\n",
    "#plt.plot(file.green_photon_count.data)\n",
    "np.savetxt('myfileyay.csv', file.kymos['24'].green_image, fmt='%x')"
   ]
  },
  {
   "cell_type": "code",
   "execution_count": 1,
   "metadata": {},
   "outputs": [
    {
     "ename": "SyntaxError",
     "evalue": "unexpected EOF while parsing (<ipython-input-1-20f4ec988061>, line 1)",
     "output_type": "error",
     "traceback": [
      "\u001b[1;36m  File \u001b[1;32m\"<ipython-input-1-20f4ec988061>\"\u001b[1;36m, line \u001b[1;32m1\u001b[0m\n\u001b[1;33m    for x in dir(kymos):\u001b[0m\n\u001b[1;37m                        ^\u001b[0m\n\u001b[1;31mSyntaxError\u001b[0m\u001b[1;31m:\u001b[0m unexpected EOF while parsing\n"
     ]
    }
   ],
   "source": [
    "for x in dir(kymos):\n"
   ]
  },
  {
   "cell_type": "code",
   "execution_count": 47,
   "metadata": {},
   "outputs": [
    {
     "data": {
      "text/plain": [
       "'/mnt/d/OneDrive - Johns Hopkins University/Ha_CCarcamo/jupyter notebooks'"
      ]
     },
     "execution_count": 47,
     "metadata": {},
     "output_type": "execute_result"
    }
   ],
   "source": [
    "pwd"
   ]
  },
  {
   "cell_type": "code",
   "execution_count": 51,
   "metadata": {},
   "outputs": [],
   "source": [
    "\n",
    "\n",
    "\n"
   ]
  }
 ],
 "metadata": {
  "kernelspec": {
   "display_name": "Python 3",
   "language": "python",
   "name": "python3"
  },
  "language_info": {
   "codemirror_mode": {
    "name": "ipython",
    "version": 3
   },
   "file_extension": ".py",
   "mimetype": "text/x-python",
   "name": "python",
   "nbconvert_exporter": "python",
   "pygments_lexer": "ipython3",
   "version": "3.7.4"
  }
 },
 "nbformat": 4,
 "nbformat_minor": 2
}
