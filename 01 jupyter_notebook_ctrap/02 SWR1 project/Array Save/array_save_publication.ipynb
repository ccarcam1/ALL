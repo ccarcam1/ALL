{
 "cells": [
  {
   "cell_type": "code",
   "execution_count": 4,
   "metadata": {
    "scrolled": true
   },
   "outputs": [
    {
     "name": "stdout",
     "output_type": "stream",
     "text": [
      "found 17 files in folder\n",
      "C:/Users/carca/OneDrive - Johns Hopkins University/Ha_CCarcamo/Data_Analysis/Projects/SWR1 Project/sliding plus Cas9 marker/2020-09-02 Cy3 SWR1 chan 4 dCas9 Cy5 chan 5 noATP/h5/kymos/holding spot\\20200902-204829 Kymograph 10 DNA 8 noATP 70 TRY 3 twice as concentrated SWR1.h5\n"
     ]
    },
    {
     "ename": "OSError",
     "evalue": "Unable to open file (unable to open file: name = 'C:/Users/carca/OneDrive - Johns Hopkins University/Ha_CCarcamo/Data_Analysis/Projects/SWR1 Project/sliding plus Cas9 marker/2020-09-02 Cy3 SWR1 chan 4 dCas9 Cy5 chan 5 noATP/h5/kymos/holding spot\\20200902-204829 Kymograph 10 DNA 8 noATP 70 TRY 3 twice as concentrated SWR1.h5', errno = 2, error message = 'No such file or directory', flags = 0, o_flags = 0)",
     "output_type": "error",
     "traceback": [
      "\u001b[1;31m---------------------------------------------------------------------------\u001b[0m",
      "\u001b[1;31mOSError\u001b[0m                                   Traceback (most recent call last)",
      "\u001b[1;32m<ipython-input-4-f538c5ac0eea>\u001b[0m in \u001b[0;36m<module>\u001b[1;34m\u001b[0m\n\u001b[0;32m     33\u001b[0m \u001b[1;32mfor\u001b[0m \u001b[0mfile_name\u001b[0m \u001b[1;32min\u001b[0m \u001b[0mfiles\u001b[0m\u001b[1;33m:\u001b[0m\u001b[1;33m\u001b[0m\u001b[1;33m\u001b[0m\u001b[0m\n\u001b[0;32m     34\u001b[0m     \u001b[0mprint\u001b[0m\u001b[1;33m(\u001b[0m\u001b[0mfile_name\u001b[0m\u001b[1;33m)\u001b[0m\u001b[1;33m\u001b[0m\u001b[1;33m\u001b[0m\u001b[0m\n\u001b[1;32m---> 35\u001b[1;33m     \u001b[0mfile\u001b[0m \u001b[1;33m=\u001b[0m \u001b[0mpylake\u001b[0m\u001b[1;33m.\u001b[0m\u001b[0mFile\u001b[0m\u001b[1;33m(\u001b[0m\u001b[0mfile_name\u001b[0m\u001b[1;33m)\u001b[0m\u001b[1;33m\u001b[0m\u001b[1;33m\u001b[0m\u001b[0m\n\u001b[0m\u001b[0;32m     36\u001b[0m \u001b[1;31m#     key = list(file.kymos.keys())[0]\u001b[0m\u001b[1;33m\u001b[0m\u001b[1;33m\u001b[0m\u001b[1;33m\u001b[0m\u001b[0m\n\u001b[0;32m     37\u001b[0m \u001b[1;31m#     kymo = file.kymos[key]\u001b[0m\u001b[1;33m\u001b[0m\u001b[1;33m\u001b[0m\u001b[1;33m\u001b[0m\u001b[0m\n",
      "\u001b[1;32m~\\Anaconda3\\lib\\site-packages\\lumicks\\pylake\\file.py\u001b[0m in \u001b[0;36m__init__\u001b[1;34m(self, filename)\u001b[0m\n\u001b[0;32m     37\u001b[0m \u001b[1;33m\u001b[0m\u001b[0m\n\u001b[0;32m     38\u001b[0m     \u001b[1;32mdef\u001b[0m \u001b[0m__init__\u001b[0m\u001b[1;33m(\u001b[0m\u001b[0mself\u001b[0m\u001b[1;33m,\u001b[0m \u001b[0mfilename\u001b[0m\u001b[1;33m)\u001b[0m\u001b[1;33m:\u001b[0m\u001b[1;33m\u001b[0m\u001b[1;33m\u001b[0m\u001b[0m\n\u001b[1;32m---> 39\u001b[1;33m         \u001b[0msuper\u001b[0m\u001b[1;33m(\u001b[0m\u001b[1;33m)\u001b[0m\u001b[1;33m.\u001b[0m\u001b[0m__init__\u001b[0m\u001b[1;33m(\u001b[0m\u001b[0mh5py\u001b[0m\u001b[1;33m.\u001b[0m\u001b[0mFile\u001b[0m\u001b[1;33m(\u001b[0m\u001b[0mfilename\u001b[0m\u001b[1;33m,\u001b[0m \u001b[1;34m'r'\u001b[0m\u001b[1;33m)\u001b[0m\u001b[1;33m)\u001b[0m\u001b[1;33m\u001b[0m\u001b[1;33m\u001b[0m\u001b[0m\n\u001b[0m\u001b[0;32m     40\u001b[0m         \u001b[0mself\u001b[0m\u001b[1;33m.\u001b[0m\u001b[0m_check_file_format\u001b[0m\u001b[1;33m(\u001b[0m\u001b[1;33m)\u001b[0m\u001b[1;33m\u001b[0m\u001b[1;33m\u001b[0m\u001b[0m\n\u001b[0;32m     41\u001b[0m \u001b[1;33m\u001b[0m\u001b[0m\n",
      "\u001b[1;32m~\\Anaconda3\\lib\\site-packages\\h5py\\_hl\\files.py\u001b[0m in \u001b[0;36m__init__\u001b[1;34m(self, name, mode, driver, libver, userblock_size, swmr, rdcc_nslots, rdcc_nbytes, rdcc_w0, track_order, **kwds)\u001b[0m\n\u001b[0;32m    392\u001b[0m                 fid = make_fid(name, mode, userblock_size,\n\u001b[0;32m    393\u001b[0m                                \u001b[0mfapl\u001b[0m\u001b[1;33m,\u001b[0m \u001b[0mfcpl\u001b[0m\u001b[1;33m=\u001b[0m\u001b[0mmake_fcpl\u001b[0m\u001b[1;33m(\u001b[0m\u001b[0mtrack_order\u001b[0m\u001b[1;33m=\u001b[0m\u001b[0mtrack_order\u001b[0m\u001b[1;33m)\u001b[0m\u001b[1;33m,\u001b[0m\u001b[1;33m\u001b[0m\u001b[1;33m\u001b[0m\u001b[0m\n\u001b[1;32m--> 394\u001b[1;33m                                swmr=swmr)\n\u001b[0m\u001b[0;32m    395\u001b[0m \u001b[1;33m\u001b[0m\u001b[0m\n\u001b[0;32m    396\u001b[0m             \u001b[1;32mif\u001b[0m \u001b[0mswmr_support\u001b[0m\u001b[1;33m:\u001b[0m\u001b[1;33m\u001b[0m\u001b[1;33m\u001b[0m\u001b[0m\n",
      "\u001b[1;32m~\\Anaconda3\\lib\\site-packages\\h5py\\_hl\\files.py\u001b[0m in \u001b[0;36mmake_fid\u001b[1;34m(name, mode, userblock_size, fapl, fcpl, swmr)\u001b[0m\n\u001b[0;32m    168\u001b[0m         \u001b[1;32mif\u001b[0m \u001b[0mswmr\u001b[0m \u001b[1;32mand\u001b[0m \u001b[0mswmr_support\u001b[0m\u001b[1;33m:\u001b[0m\u001b[1;33m\u001b[0m\u001b[1;33m\u001b[0m\u001b[0m\n\u001b[0;32m    169\u001b[0m             \u001b[0mflags\u001b[0m \u001b[1;33m|=\u001b[0m \u001b[0mh5f\u001b[0m\u001b[1;33m.\u001b[0m\u001b[0mACC_SWMR_READ\u001b[0m\u001b[1;33m\u001b[0m\u001b[1;33m\u001b[0m\u001b[0m\n\u001b[1;32m--> 170\u001b[1;33m         \u001b[0mfid\u001b[0m \u001b[1;33m=\u001b[0m \u001b[0mh5f\u001b[0m\u001b[1;33m.\u001b[0m\u001b[0mopen\u001b[0m\u001b[1;33m(\u001b[0m\u001b[0mname\u001b[0m\u001b[1;33m,\u001b[0m \u001b[0mflags\u001b[0m\u001b[1;33m,\u001b[0m \u001b[0mfapl\u001b[0m\u001b[1;33m=\u001b[0m\u001b[0mfapl\u001b[0m\u001b[1;33m)\u001b[0m\u001b[1;33m\u001b[0m\u001b[1;33m\u001b[0m\u001b[0m\n\u001b[0m\u001b[0;32m    171\u001b[0m     \u001b[1;32melif\u001b[0m \u001b[0mmode\u001b[0m \u001b[1;33m==\u001b[0m \u001b[1;34m'r+'\u001b[0m\u001b[1;33m:\u001b[0m\u001b[1;33m\u001b[0m\u001b[1;33m\u001b[0m\u001b[0m\n\u001b[0;32m    172\u001b[0m         \u001b[0mfid\u001b[0m \u001b[1;33m=\u001b[0m \u001b[0mh5f\u001b[0m\u001b[1;33m.\u001b[0m\u001b[0mopen\u001b[0m\u001b[1;33m(\u001b[0m\u001b[0mname\u001b[0m\u001b[1;33m,\u001b[0m \u001b[0mh5f\u001b[0m\u001b[1;33m.\u001b[0m\u001b[0mACC_RDWR\u001b[0m\u001b[1;33m,\u001b[0m \u001b[0mfapl\u001b[0m\u001b[1;33m=\u001b[0m\u001b[0mfapl\u001b[0m\u001b[1;33m)\u001b[0m\u001b[1;33m\u001b[0m\u001b[1;33m\u001b[0m\u001b[0m\n",
      "\u001b[1;32mh5py\\_objects.pyx\u001b[0m in \u001b[0;36mh5py._objects.with_phil.wrapper\u001b[1;34m()\u001b[0m\n",
      "\u001b[1;32mh5py\\_objects.pyx\u001b[0m in \u001b[0;36mh5py._objects.with_phil.wrapper\u001b[1;34m()\u001b[0m\n",
      "\u001b[1;32mh5py\\h5f.pyx\u001b[0m in \u001b[0;36mh5py.h5f.open\u001b[1;34m()\u001b[0m\n",
      "\u001b[1;31mOSError\u001b[0m: Unable to open file (unable to open file: name = 'C:/Users/carca/OneDrive - Johns Hopkins University/Ha_CCarcamo/Data_Analysis/Projects/SWR1 Project/sliding plus Cas9 marker/2020-09-02 Cy3 SWR1 chan 4 dCas9 Cy5 chan 5 noATP/h5/kymos/holding spot\\20200902-204829 Kymograph 10 DNA 8 noATP 70 TRY 3 twice as concentrated SWR1.h5', errno = 2, error message = 'No such file or directory', flags = 0, o_flags = 0)"
     ]
    }
   ],
   "source": [
    "# FOR KYMOGRAPH DATA ############## FOR PUBLICATION\n",
    "# Takes in the raw h5 data and produces information for processing in matlab\n",
    "\n",
    "import numpy as np\n",
    "import matplotlib.pyplot as plt\n",
    "from lumicks import pylake\n",
    "import glob\n",
    "import scipy.io as sio\n",
    "import os\n",
    "\n",
    "# select the folder, here we search for .h5 files in the folder where you're running the script in\n",
    "directory_laptop = 'C:/Users/carca/OneDrive - Johns Hopkins University/Ha_CCarcamo/Data_Analysis/Projects/SWR1 Project/'\n",
    "directory_save = directory_laptop + 'sliding plus Cas9 marker/2020-09-02 Cy3 SWR1 chan 4 dCas9 Cy5 chan 5 noATP/'\n",
    "directory_h5 = directory_save + 'h5/kymos/holding spot/'\n",
    "\n",
    "# directory_laptop = 'C:\\\\Users\\\\carca\\\\OneDrive - Johns Hopkins University\\\\Ha_CCarcamo\\\\Data_Analysis\\\\Projects\\\\SWR1 Project\\\\'\n",
    "# directory_save = directory_laptop + 'sliding plus Cas9 marker\\\\2020-09-02 Cy3 SWR1 chan 4 dCas9 Cy5 chan 5 noATP\\\\'\n",
    "# directory_h5 = directory_save + 'h5\\\\kymos\\\\'\n",
    "date_of_experiment = '20200902'\n",
    "# os.chdir(directory_save)\n",
    "# os.mkdir('linescan_time_mat')\n",
    "# os.mkdir('kymo_mat_green')\n",
    "# os.mkdir('kymo_mat_red')\n",
    "# os.mkdir('segmentation')\n",
    "# os.mkdir('fitting')\n",
    "# os.mkdir('MSD analysis')\n",
    "# os.mkdir('final')\n",
    "# os.mkdir('filename')\n",
    "# os.mkdir('file_name_2')\n",
    "\n",
    "files = glob.glob(directory_h5 + '*Kymograph*.h5')\n",
    "print(\"found {} files in folder\".format(len(files)))\n",
    "for file_name in files:\n",
    "    print(file_name)\n",
    "    file = pylake.File(file_name)\n",
    "#     key = list(file.kymos.keys())[0]\n",
    "#     kymo = file.kymos[key]\n",
    "#     time = kymo.timestamps\n",
    "#     t1 = time[0]\n",
    "#     c1 = (t1 - t1[0]) * 1e-9 + 1\n",
    "#     start = c1[0]\n",
    "#     second =c1[1]\n",
    "#     end = c1[-1]\n",
    "#     pixeltime = kymo.json['scan volume']['scan axes'][0]['scan time (ms)']\n",
    "#     sio.savemat(f\"{directory_save}kymo_mat_green/greenkymo_{key}_{date_of_experiment}.mat\",{'obj_arr':file.kymos[key].green_image})\n",
    "#     sio.savemat(f\"{directory_save}kymo_mat_red/redkymo_{key}_{date_of_experiment}.mat\",{'obj_arr':file.kymos[key].red_image})\n",
    "#     sio.savemat(f\"{directory_save}linescan_time_mat/greenkymo_{key}_{date_of_experiment}.mat\", {'linescan_time_':np.around((second-start)*1000, decimals = 2)})\n"
   ]
  },
  {
   "cell_type": "code",
   "execution_count": 7,
   "metadata": {},
   "outputs": [
    {
     "name": "stdout",
     "output_type": "stream",
     "text": [
      "found 27 files in folder\n",
      "C:/Users/carca/OneDrive - Johns Hopkins University/Ha_CCarcamo/Data_Analysis/Projects/SWR1 Project/sliding plus Cas9 marker/2020-09-02 Cy3 SWR1 chan 4 dCas9 Cy5 chan 5 noATP/h5/scans\\20200902-202249 Scan 20 DNA 1 ATP 200.h5\n",
      "C:/Users/carca/OneDrive - Johns Hopkins University/Ha_CCarcamo/Data_Analysis/Projects/SWR1 Project/sliding plus Cas9 marker/2020-09-02 Cy3 SWR1 chan 4 dCas9 Cy5 chan 5 noATP/h5/scans\\20200902-202251 Scan 21 DNA 1 ATP 200.h5\n",
      "C:/Users/carca/OneDrive - Johns Hopkins University/Ha_CCarcamo/Data_Analysis/Projects/SWR1 Project/sliding plus Cas9 marker/2020-09-02 Cy3 SWR1 chan 4 dCas9 Cy5 chan 5 noATP/h5/scans\\20200902-202524 Scan 24 DNA 2 ATP 200.h5\n",
      "C:/Users/carca/OneDrive - Johns Hopkins University/Ha_CCarcamo/Data_Analysis/Projects/SWR1 Project/sliding plus Cas9 marker/2020-09-02 Cy3 SWR1 chan 4 dCas9 Cy5 chan 5 noATP/h5/scans\\20200902-202528 Scan 25 DNA 3 ATP 200.h5\n",
      "C:/Users/carca/OneDrive - Johns Hopkins University/Ha_CCarcamo/Data_Analysis/Projects/SWR1 Project/sliding plus Cas9 marker/2020-09-02 Cy3 SWR1 chan 4 dCas9 Cy5 chan 5 noATP/h5/scans\\20200902-202532 Scan 26 DNA 3 ATP 200.h5\n",
      "C:/Users/carca/OneDrive - Johns Hopkins University/Ha_CCarcamo/Data_Analysis/Projects/SWR1 Project/sliding plus Cas9 marker/2020-09-02 Cy3 SWR1 chan 4 dCas9 Cy5 chan 5 noATP/h5/scans\\20200902-202539 Scan 27 DNA 3 ATP 200.h5\n",
      "C:/Users/carca/OneDrive - Johns Hopkins University/Ha_CCarcamo/Data_Analysis/Projects/SWR1 Project/sliding plus Cas9 marker/2020-09-02 Cy3 SWR1 chan 4 dCas9 Cy5 chan 5 noATP/h5/scans\\20200902-204829 Scan 31 DNA 4 ATP 200.h5\n",
      "C:/Users/carca/OneDrive - Johns Hopkins University/Ha_CCarcamo/Data_Analysis/Projects/SWR1 Project/sliding plus Cas9 marker/2020-09-02 Cy3 SWR1 chan 4 dCas9 Cy5 chan 5 noATP/h5/scans\\20200902-204829 Scan 50 DNA 6 noATP 70 TRY 3 twice as concentrated SWR1.h5\n"
     ]
    },
    {
     "ename": "FileNotFoundError",
     "evalue": "[Errno 2] No such file or directory: 'C:/Users/carca/OneDrive - Johns Hopkins University/Ha_CCarcamo/Data_Analysis/Projects/SWR1 Project/sliding plus Cas9 marker/2020-09-02 Cy3 SWR1 chan 4 dCas9 Cy5 chan 5 noATP/scan_mat_green/greenscan_50 DNA 6 noATP 70 TRY 3 twice as concentrated SWR1_20200902.mat'",
     "output_type": "error",
     "traceback": [
      "\u001b[1;31m---------------------------------------------------------------------------\u001b[0m",
      "\u001b[1;31mFileNotFoundError\u001b[0m                         Traceback (most recent call last)",
      "\u001b[1;32m~\\Anaconda3\\lib\\site-packages\\scipy\\io\\matlab\\mio.py\u001b[0m in \u001b[0;36m_open_file\u001b[1;34m(file_like, appendmat, mode)\u001b[0m\n\u001b[0;32m     38\u001b[0m     \u001b[1;32mtry\u001b[0m\u001b[1;33m:\u001b[0m\u001b[1;33m\u001b[0m\u001b[1;33m\u001b[0m\u001b[0m\n\u001b[1;32m---> 39\u001b[1;33m         \u001b[1;32mreturn\u001b[0m \u001b[0mopen\u001b[0m\u001b[1;33m(\u001b[0m\u001b[0mfile_like\u001b[0m\u001b[1;33m,\u001b[0m \u001b[0mmode\u001b[0m\u001b[1;33m)\u001b[0m\u001b[1;33m,\u001b[0m \u001b[1;32mTrue\u001b[0m\u001b[1;33m\u001b[0m\u001b[1;33m\u001b[0m\u001b[0m\n\u001b[0m\u001b[0;32m     40\u001b[0m     \u001b[1;32mexcept\u001b[0m \u001b[0mIOError\u001b[0m\u001b[1;33m:\u001b[0m\u001b[1;33m\u001b[0m\u001b[1;33m\u001b[0m\u001b[0m\n",
      "\u001b[1;31mFileNotFoundError\u001b[0m: [Errno 2] No such file or directory: 'C:/Users/carca/OneDrive - Johns Hopkins University/Ha_CCarcamo/Data_Analysis/Projects/SWR1 Project/sliding plus Cas9 marker/2020-09-02 Cy3 SWR1 chan 4 dCas9 Cy5 chan 5 noATP/scan_mat_green/greenscan_50 DNA 6 noATP 70 TRY 3 twice as concentrated SWR1_20200902.mat'",
      "\nDuring handling of the above exception, another exception occurred:\n",
      "\u001b[1;31mFileNotFoundError\u001b[0m                         Traceback (most recent call last)",
      "\u001b[1;32m<ipython-input-7-1c5e21c04c46>\u001b[0m in \u001b[0;36m<module>\u001b[1;34m\u001b[0m\n\u001b[0;32m     35\u001b[0m     \u001b[0msio\u001b[0m\u001b[1;33m.\u001b[0m\u001b[0msavemat\u001b[0m\u001b[1;33m(\u001b[0m\u001b[1;34mf\"{directory_save}pixelsize/pixelsize_{key}_{date_of_experiment}.mat\"\u001b[0m\u001b[1;33m,\u001b[0m\u001b[1;33m{\u001b[0m\u001b[1;34m'pixelsize'\u001b[0m\u001b[1;33m:\u001b[0m\u001b[0mpixelsize\u001b[0m\u001b[1;33m}\u001b[0m\u001b[1;33m)\u001b[0m\u001b[1;33m\u001b[0m\u001b[1;33m\u001b[0m\u001b[0m\n\u001b[0;32m     36\u001b[0m     \u001b[0msio\u001b[0m\u001b[1;33m.\u001b[0m\u001b[0msavemat\u001b[0m\u001b[1;33m(\u001b[0m\u001b[1;34mf\"{directory_save}pixeltime/pixeltime_{key}_{date_of_experiment}.mat\"\u001b[0m\u001b[1;33m,\u001b[0m\u001b[1;33m{\u001b[0m\u001b[1;34m'pixeltime'\u001b[0m\u001b[1;33m:\u001b[0m\u001b[0mpixeltime\u001b[0m\u001b[1;33m}\u001b[0m\u001b[1;33m)\u001b[0m\u001b[1;33m\u001b[0m\u001b[1;33m\u001b[0m\u001b[0m\n\u001b[1;32m---> 37\u001b[1;33m     \u001b[0msio\u001b[0m\u001b[1;33m.\u001b[0m\u001b[0msavemat\u001b[0m\u001b[1;33m(\u001b[0m\u001b[1;34mf\"{directory_save}scan_mat_green/greenscan_{key}_{date_of_experiment}.mat\"\u001b[0m\u001b[1;33m,\u001b[0m\u001b[1;33m{\u001b[0m\u001b[1;34m'green'\u001b[0m\u001b[1;33m:\u001b[0m\u001b[0mfile\u001b[0m\u001b[1;33m.\u001b[0m\u001b[0mscans\u001b[0m\u001b[1;33m[\u001b[0m\u001b[0mkey\u001b[0m\u001b[1;33m]\u001b[0m\u001b[1;33m.\u001b[0m\u001b[0mgreen_image\u001b[0m\u001b[1;33m}\u001b[0m\u001b[1;33m)\u001b[0m\u001b[1;33m\u001b[0m\u001b[1;33m\u001b[0m\u001b[0m\n\u001b[0m\u001b[0;32m     38\u001b[0m     \u001b[0msio\u001b[0m\u001b[1;33m.\u001b[0m\u001b[0msavemat\u001b[0m\u001b[1;33m(\u001b[0m\u001b[1;34mf\"{directory_save}scan_mat_red/redscan_{key}_{date_of_experiment}.mat\"\u001b[0m\u001b[1;33m,\u001b[0m\u001b[1;33m{\u001b[0m\u001b[1;34m'red'\u001b[0m\u001b[1;33m:\u001b[0m\u001b[0mfile\u001b[0m\u001b[1;33m.\u001b[0m\u001b[0mscans\u001b[0m\u001b[1;33m[\u001b[0m\u001b[0mkey\u001b[0m\u001b[1;33m]\u001b[0m\u001b[1;33m.\u001b[0m\u001b[0mred_image\u001b[0m\u001b[1;33m}\u001b[0m\u001b[1;33m)\u001b[0m\u001b[1;33m\u001b[0m\u001b[1;33m\u001b[0m\u001b[0m\n\u001b[0;32m     39\u001b[0m \u001b[1;33m\u001b[0m\u001b[0m\n",
      "\u001b[1;32m~\\Anaconda3\\lib\\site-packages\\scipy\\io\\matlab\\mio.py\u001b[0m in \u001b[0;36msavemat\u001b[1;34m(file_name, mdict, appendmat, format, long_field_names, do_compression, oned_as)\u001b[0m\n\u001b[0;32m    264\u001b[0m         \u001b[0mIf\u001b[0m \u001b[1;34m'row'\u001b[0m\u001b[1;33m,\u001b[0m \u001b[0mwrite\u001b[0m \u001b[1;36m1\u001b[0m\u001b[1;33m-\u001b[0m\u001b[0mD\u001b[0m \u001b[0mnumpy\u001b[0m \u001b[0marrays\u001b[0m \u001b[1;32mas\u001b[0m \u001b[0mrow\u001b[0m \u001b[0mvectors\u001b[0m\u001b[1;33m.\u001b[0m\u001b[1;33m\u001b[0m\u001b[1;33m\u001b[0m\u001b[0m\n\u001b[0;32m    265\u001b[0m     \"\"\"\n\u001b[1;32m--> 266\u001b[1;33m     \u001b[1;32mwith\u001b[0m \u001b[0m_open_file_context\u001b[0m\u001b[1;33m(\u001b[0m\u001b[0mfile_name\u001b[0m\u001b[1;33m,\u001b[0m \u001b[0mappendmat\u001b[0m\u001b[1;33m,\u001b[0m \u001b[1;34m'wb'\u001b[0m\u001b[1;33m)\u001b[0m \u001b[1;32mas\u001b[0m \u001b[0mfile_stream\u001b[0m\u001b[1;33m:\u001b[0m\u001b[1;33m\u001b[0m\u001b[1;33m\u001b[0m\u001b[0m\n\u001b[0m\u001b[0;32m    267\u001b[0m         \u001b[1;32mif\u001b[0m \u001b[0mformat\u001b[0m \u001b[1;33m==\u001b[0m \u001b[1;34m'4'\u001b[0m\u001b[1;33m:\u001b[0m\u001b[1;33m\u001b[0m\u001b[1;33m\u001b[0m\u001b[0m\n\u001b[0;32m    268\u001b[0m             \u001b[1;32mif\u001b[0m \u001b[0mlong_field_names\u001b[0m\u001b[1;33m:\u001b[0m\u001b[1;33m\u001b[0m\u001b[1;33m\u001b[0m\u001b[0m\n",
      "\u001b[1;32m~\\Anaconda3\\lib\\contextlib.py\u001b[0m in \u001b[0;36m__enter__\u001b[1;34m(self)\u001b[0m\n\u001b[0;32m    110\u001b[0m         \u001b[1;32mdel\u001b[0m \u001b[0mself\u001b[0m\u001b[1;33m.\u001b[0m\u001b[0margs\u001b[0m\u001b[1;33m,\u001b[0m \u001b[0mself\u001b[0m\u001b[1;33m.\u001b[0m\u001b[0mkwds\u001b[0m\u001b[1;33m,\u001b[0m \u001b[0mself\u001b[0m\u001b[1;33m.\u001b[0m\u001b[0mfunc\u001b[0m\u001b[1;33m\u001b[0m\u001b[1;33m\u001b[0m\u001b[0m\n\u001b[0;32m    111\u001b[0m         \u001b[1;32mtry\u001b[0m\u001b[1;33m:\u001b[0m\u001b[1;33m\u001b[0m\u001b[1;33m\u001b[0m\u001b[0m\n\u001b[1;32m--> 112\u001b[1;33m             \u001b[1;32mreturn\u001b[0m \u001b[0mnext\u001b[0m\u001b[1;33m(\u001b[0m\u001b[0mself\u001b[0m\u001b[1;33m.\u001b[0m\u001b[0mgen\u001b[0m\u001b[1;33m)\u001b[0m\u001b[1;33m\u001b[0m\u001b[1;33m\u001b[0m\u001b[0m\n\u001b[0m\u001b[0;32m    113\u001b[0m         \u001b[1;32mexcept\u001b[0m \u001b[0mStopIteration\u001b[0m\u001b[1;33m:\u001b[0m\u001b[1;33m\u001b[0m\u001b[1;33m\u001b[0m\u001b[0m\n\u001b[0;32m    114\u001b[0m             \u001b[1;32mraise\u001b[0m \u001b[0mRuntimeError\u001b[0m\u001b[1;33m(\u001b[0m\u001b[1;34m\"generator didn't yield\"\u001b[0m\u001b[1;33m)\u001b[0m \u001b[1;32mfrom\u001b[0m \u001b[1;32mNone\u001b[0m\u001b[1;33m\u001b[0m\u001b[1;33m\u001b[0m\u001b[0m\n",
      "\u001b[1;32m~\\Anaconda3\\lib\\site-packages\\scipy\\io\\matlab\\mio.py\u001b[0m in \u001b[0;36m_open_file_context\u001b[1;34m(file_like, appendmat, mode)\u001b[0m\n\u001b[0;32m     17\u001b[0m \u001b[1;33m@\u001b[0m\u001b[0mcontextmanager\u001b[0m\u001b[1;33m\u001b[0m\u001b[1;33m\u001b[0m\u001b[0m\n\u001b[0;32m     18\u001b[0m \u001b[1;32mdef\u001b[0m \u001b[0m_open_file_context\u001b[0m\u001b[1;33m(\u001b[0m\u001b[0mfile_like\u001b[0m\u001b[1;33m,\u001b[0m \u001b[0mappendmat\u001b[0m\u001b[1;33m,\u001b[0m \u001b[0mmode\u001b[0m\u001b[1;33m=\u001b[0m\u001b[1;34m'rb'\u001b[0m\u001b[1;33m)\u001b[0m\u001b[1;33m:\u001b[0m\u001b[1;33m\u001b[0m\u001b[1;33m\u001b[0m\u001b[0m\n\u001b[1;32m---> 19\u001b[1;33m     \u001b[0mf\u001b[0m\u001b[1;33m,\u001b[0m \u001b[0mopened\u001b[0m \u001b[1;33m=\u001b[0m \u001b[0m_open_file\u001b[0m\u001b[1;33m(\u001b[0m\u001b[0mfile_like\u001b[0m\u001b[1;33m,\u001b[0m \u001b[0mappendmat\u001b[0m\u001b[1;33m,\u001b[0m \u001b[0mmode\u001b[0m\u001b[1;33m)\u001b[0m\u001b[1;33m\u001b[0m\u001b[1;33m\u001b[0m\u001b[0m\n\u001b[0m\u001b[0;32m     20\u001b[0m     \u001b[1;32myield\u001b[0m \u001b[0mf\u001b[0m\u001b[1;33m\u001b[0m\u001b[1;33m\u001b[0m\u001b[0m\n\u001b[0;32m     21\u001b[0m     \u001b[1;32mif\u001b[0m \u001b[0mopened\u001b[0m\u001b[1;33m:\u001b[0m\u001b[1;33m\u001b[0m\u001b[1;33m\u001b[0m\u001b[0m\n",
      "\u001b[1;32m~\\Anaconda3\\lib\\site-packages\\scipy\\io\\matlab\\mio.py\u001b[0m in \u001b[0;36m_open_file\u001b[1;34m(file_like, appendmat, mode)\u001b[0m\n\u001b[0;32m     43\u001b[0m             \u001b[1;32mif\u001b[0m \u001b[0mappendmat\u001b[0m \u001b[1;32mand\u001b[0m \u001b[1;32mnot\u001b[0m \u001b[0mfile_like\u001b[0m\u001b[1;33m.\u001b[0m\u001b[0mendswith\u001b[0m\u001b[1;33m(\u001b[0m\u001b[1;34m'.mat'\u001b[0m\u001b[1;33m)\u001b[0m\u001b[1;33m:\u001b[0m\u001b[1;33m\u001b[0m\u001b[1;33m\u001b[0m\u001b[0m\n\u001b[0;32m     44\u001b[0m                 \u001b[0mfile_like\u001b[0m \u001b[1;33m+=\u001b[0m \u001b[1;34m'.mat'\u001b[0m\u001b[1;33m\u001b[0m\u001b[1;33m\u001b[0m\u001b[0m\n\u001b[1;32m---> 45\u001b[1;33m             \u001b[1;32mreturn\u001b[0m \u001b[0mopen\u001b[0m\u001b[1;33m(\u001b[0m\u001b[0mfile_like\u001b[0m\u001b[1;33m,\u001b[0m \u001b[0mmode\u001b[0m\u001b[1;33m)\u001b[0m\u001b[1;33m,\u001b[0m \u001b[1;32mTrue\u001b[0m\u001b[1;33m\u001b[0m\u001b[1;33m\u001b[0m\u001b[0m\n\u001b[0m\u001b[0;32m     46\u001b[0m         \u001b[1;32melse\u001b[0m\u001b[1;33m:\u001b[0m\u001b[1;33m\u001b[0m\u001b[1;33m\u001b[0m\u001b[0m\n\u001b[0;32m     47\u001b[0m             \u001b[1;32mraise\u001b[0m \u001b[0mIOError\u001b[0m\u001b[1;33m(\u001b[0m\u001b[1;34m'Reader needs file name or open file-like object'\u001b[0m\u001b[1;33m)\u001b[0m\u001b[1;33m\u001b[0m\u001b[1;33m\u001b[0m\u001b[0m\n",
      "\u001b[1;31mFileNotFoundError\u001b[0m: [Errno 2] No such file or directory: 'C:/Users/carca/OneDrive - Johns Hopkins University/Ha_CCarcamo/Data_Analysis/Projects/SWR1 Project/sliding plus Cas9 marker/2020-09-02 Cy3 SWR1 chan 4 dCas9 Cy5 chan 5 noATP/scan_mat_green/greenscan_50 DNA 6 noATP 70 TRY 3 twice as concentrated SWR1_20200902.mat'"
     ]
    }
   ],
   "source": [
    "# FOR SCAN DATA ############## dCas9 positioning \n",
    "import numpy as np\n",
    "import matplotlib.pyplot as plt\n",
    "from lumicks import pylake\n",
    "import glob\n",
    "import scipy.io as sio\n",
    "import os\n",
    "    \n",
    "# directory_laptop = 'C:\\\\Users\\\\carca\\\\OneDrive - Johns Hopkins University\\\\Ha_CCarcamo\\\\Data_Analysis\\\\Projects\\\\SWR1 Project\\\\'\n",
    "# directory_save = directory_laptop + 'sliding\\\\2020-07-16 SWR1 1mM ATP 70mM KCl\\\\Scan\\\\'\n",
    "# directory_h5 = directory_save + 'h5\\\\'\n",
    "\n",
    "directory_laptop = 'C:/Users/carca/OneDrive - Johns Hopkins University/Ha_CCarcamo/Data_Analysis/Projects/SWR1 Project/'\n",
    "directory_save = directory_laptop + 'sliding plus Cas9 marker/2020-09-02 Cy3 SWR1 chan 4 dCas9 Cy5 chan 5 noATP/'\n",
    "directory_h5 = directory_save + 'h5/scans/'\n",
    "\n",
    "date_of_experiment = '20200902'\n",
    "os.chdir(directory_save)\n",
    "os.mkdir('scan_mat_green')\n",
    "os.mkdir('scan_mat_red')\n",
    "os.mkdir('scantime')\n",
    "os.mkdir('pixelsize')\n",
    "os.mkdir('pixeltime')\n",
    "files = glob.glob(directory_h5 + '*Scan*.h5')\n",
    "print(\"found {} files in folder\".format(len(files)))\n",
    "for file_name in files:\n",
    "    print(file_name)\n",
    "    file = pylake.File(file_name)\n",
    "    key = list(file.scans.keys())[0]\n",
    "    scan = file.scans[key]\n",
    "    scantime = scan.json['scan volume']['scan axes'][0]['scan time (ms)']\n",
    "    pixelsize = scan.json['scan volume']['scan axes'][0]['pixel size (nm)']\n",
    "    pixeltime = scan.json['scan volume']['pixel time (ms)']\n",
    "    sio.savemat(f\"{directory_save}scantime/scantime_{key}_{date_of_experiment}.mat\",{'scantime':scantime})\n",
    "    sio.savemat(f\"{directory_save}pixelsize/pixelsize_{key}_{date_of_experiment}.mat\",{'pixelsize':pixelsize})\n",
    "    sio.savemat(f\"{directory_save}pixeltime/pixeltime_{key}_{date_of_experiment}.mat\",{'pixeltime':pixeltime})\n",
    "    sio.savemat(f\"{directory_save}scan_mat_green/greenscan_{key}_{date_of_experiment}.mat\",{'green':file.scans[key].green_image})\n",
    "    sio.savemat(f\"{directory_save}scan_mat_red/redscan_{key}_{date_of_experiment}.mat\",{'red':file.scans[key].red_image})\n",
    "\n"
   ]
  },
  {
   "cell_type": "code",
   "execution_count": null,
   "metadata": {},
   "outputs": [],
   "source": []
  },
  {
   "cell_type": "code",
   "execution_count": 226,
   "metadata": {},
   "outputs": [
    {
     "data": {
      "text/plain": [
       "{'cereal_class_version': 1,\n",
       " 'fluorescence': True,\n",
       " 'force': False,\n",
       " 'scan count': 0,\n",
       " 'scan volume': {'center point (um)': {'x': 41.95270794708323,\n",
       "   'y': 45.58254458312611,\n",
       "   'z': 0},\n",
       "  'cereal_class_version': 1,\n",
       "  'pixel time (ms)': 0.1,\n",
       "  'scan axes': [{'axis': 0,\n",
       "    'cereal_class_version': 1,\n",
       "    'num of pixels': 241,\n",
       "    'pixel size (nm)': 100,\n",
       "    'scan time (ms)': 5,\n",
       "    'scan width (um)': 24.11466195038241},\n",
       "   {'axis': 1,\n",
       "    'num of pixels': 23,\n",
       "    'pixel size (nm)': 100,\n",
       "    'scan time (ms)': 0,\n",
       "    'scan width (um)': 2.3393880377748344}]}}"
      ]
     },
     "execution_count": 226,
     "metadata": {},
     "output_type": "execute_result"
    }
   ],
   "source": [
    "file =pylake.File(directory_h5 + '20200310-131257 Scan 12.h5')\n",
    "key = list(file.scans.keys())[0]\n",
    "# print(scan.file)\n",
    "scan.json\n",
    "# ['scan volume']['scan axes'][0]['pixel size (nm)']"
   ]
  },
  {
   "cell_type": "code",
   "execution_count": null,
   "metadata": {},
   "outputs": [],
   "source": [
    "# scantime = kymo.json['scan axes'] #in ms\n",
    "# print(scantime)\n",
    "# kymo.json['scan volume']\n",
    "file.kymos.keys()"
   ]
  },
  {
   "cell_type": "code",
   "execution_count": null,
   "metadata": {},
   "outputs": [],
   "source": [
    "# kymo.json\n",
    "# pixelsize = kymo.json['scan volume']['scan axes'][0]['scan time (ms)']\n",
    "# pixelsize\n",
    "scan = file.kymos[key]\n",
    "time = scan.timestamps\n",
    "t1 = time[0]\n",
    "c1 = (t1 - t1[0]) * 1e-9 + 1\n",
    "start = c1[0]\n",
    "second =c1[1]\n",
    "end = c1[-1]\n",
    "\n",
    "tps= np.around((second-start)*1000, decimals = 2)\n",
    "tps"
   ]
  },
  {
   "cell_type": "code",
   "execution_count": null,
   "metadata": {},
   "outputs": [],
   "source": [
    "files = glob.glob(directory + '*Kymograph*.h5')\n",
    "print(\"found {} files in folder\".format(len(files)))\n",
    "for file_name in files:\n",
    "    print(file_name)\n",
    "    file = pylake.File(file_name)\n",
    "    key = list(file.kymos.keys())[0]\n",
    "    scan = file.kymos[key]\n",
    "    scan.save_tiff(f\"{directory}kymo_{key}_16_bit.tiff\", dtype=np.float16)"
   ]
  },
  {
   "cell_type": "code",
   "execution_count": null,
   "metadata": {},
   "outputs": [],
   "source": [
    "print(f\"{directory}kymo_{key}_16_bit.mat\")"
   ]
  },
  {
   "cell_type": "code",
   "execution_count": null,
   "metadata": {},
   "outputs": [],
   "source": [
    "# open file\n",
    "file = pylake.File(filename)\n",
    "#kymos = list(file.kymos)\n",
    "#kymo_data = file.kymos[kymos[0]]\n",
    "#kymo = file.kymos[kymos[0]]\n",
    "\n",
    "#plt.plot(file.green_photon_count.data)\n",
    "np.savetxt('myfileyay.csv', file.kymos['24'].green_image, fmt='%x')"
   ]
  },
  {
   "cell_type": "code",
   "execution_count": 1,
   "metadata": {},
   "outputs": [
    {
     "ename": "NameError",
     "evalue": "name 'file' is not defined",
     "output_type": "error",
     "traceback": [
      "\u001b[1;31m---------------------------------------------------------------------------\u001b[0m",
      "\u001b[1;31mNameError\u001b[0m                                 Traceback (most recent call last)",
      "\u001b[1;32m<ipython-input-1-09794427fa03>\u001b[0m in \u001b[0;36m<module>\u001b[1;34m\u001b[0m\n\u001b[0;32m      1\u001b[0m \u001b[1;31m# xx = file[\"Confocal diagnostics\"][\"Mirror actual position Z\"]\u001b[0m\u001b[1;33m\u001b[0m\u001b[1;33m\u001b[0m\u001b[1;33m\u001b[0m\u001b[0m\n\u001b[1;32m----> 2\u001b[1;33m \u001b[0mx\u001b[0m \u001b[1;33m=\u001b[0m \u001b[0mfile\u001b[0m\u001b[1;33m[\u001b[0m\u001b[1;34m\"Confocal diagnostics\"\u001b[0m\u001b[1;33m]\u001b[0m\u001b[1;33m[\u001b[0m\u001b[1;34m\"Mirror actual position Z\"\u001b[0m\u001b[1;33m]\u001b[0m\u001b[1;33m.\u001b[0m\u001b[0mdata\u001b[0m\u001b[1;33m\u001b[0m\u001b[1;33m\u001b[0m\u001b[0m\n\u001b[0m\u001b[0;32m      3\u001b[0m \u001b[0my\u001b[0m \u001b[1;33m=\u001b[0m \u001b[0mx\u001b[0m\u001b[1;33m.\u001b[0m\u001b[0mmean\u001b[0m\u001b[1;33m(\u001b[0m\u001b[1;33m)\u001b[0m\u001b[1;33m\u001b[0m\u001b[1;33m\u001b[0m\u001b[0m\n\u001b[0;32m      4\u001b[0m \u001b[0mprint\u001b[0m\u001b[1;33m(\u001b[0m\u001b[0my\u001b[0m\u001b[1;33m)\u001b[0m\u001b[1;33m\u001b[0m\u001b[1;33m\u001b[0m\u001b[0m\n\u001b[0;32m      5\u001b[0m \u001b[1;31m# z = xx.downsampled_by(10)\u001b[0m\u001b[1;33m\u001b[0m\u001b[1;33m\u001b[0m\u001b[1;33m\u001b[0m\u001b[0m\n",
      "\u001b[1;31mNameError\u001b[0m: name 'file' is not defined"
     ]
    }
   ],
   "source": [
    "# xx = file[\"Confocal diagnostics\"][\"Mirror actual position Z\"]\n",
    "x = file[\"Confocal diagnostics\"][\"Mirror actual position Z\"].data\n",
    "y = x.mean()\n",
    "print(y)\n",
    "# z = xx.downsampled_by(10)\n",
    "# z.data.size\n",
    "# \n",
    "# x = file.scans\n",
    "\n",
    "for fxn in dir(x):\n",
    "    print(fxn)"
   ]
  },
  {
   "cell_type": "code",
   "execution_count": 230,
   "metadata": {},
   "outputs": [
    {
     "name": "stdout",
     "output_type": "stream",
     "text": [
      "SUPPORTED_FILE_FORMAT_VERSIONS\n",
      "__class__\n",
      "__delattr__\n",
      "__dict__\n",
      "__dir__\n",
      "__doc__\n",
      "__eq__\n",
      "__format__\n",
      "__ge__\n",
      "__getattribute__\n",
      "__getitem__\n",
      "__gt__\n",
      "__hash__\n",
      "__init__\n",
      "__init_subclass__\n",
      "__iter__\n",
      "__le__\n",
      "__lt__\n",
      "__module__\n",
      "__ne__\n",
      "__new__\n",
      "__next__\n",
      "__reduce__\n",
      "__reduce_ex__\n",
      "__repr__\n",
      "__setattr__\n",
      "__sizeof__\n",
      "__str__\n",
      "__subclasshook__\n",
      "__weakref__\n",
      "_check_file_format\n",
      "_get_distance\n",
      "_get_downsampled_force\n",
      "_get_force\n",
      "_get_photon_count\n",
      "_get_photon_time_tags\n",
      "blue_photon_count\n",
      "blue_photon_time_tags\n",
      "bluelake_version\n",
      "description\n",
      "distance1\n",
      "distance2\n",
      "downsampled_force1\n",
      "downsampled_force1x\n",
      "downsampled_force1y\n",
      "downsampled_force2\n",
      "downsampled_force2x\n",
      "downsampled_force2y\n",
      "downsampled_force3\n",
      "downsampled_force3x\n",
      "downsampled_force3y\n",
      "downsampled_force4\n",
      "downsampled_force4x\n",
      "downsampled_force4y\n",
      "experiment\n",
      "export_time\n",
      "fdcurves\n",
      "force1x\n",
      "force1y\n",
      "force2x\n",
      "force2y\n",
      "force3x\n",
      "force3y\n",
      "force4x\n",
      "force4y\n",
      "format_version\n",
      "from_h5py\n",
      "green_photon_count\n",
      "green_photon_time_tags\n",
      "guid\n",
      "h5\n",
      "kymos\n",
      "point_scans\n",
      "red_photon_count\n",
      "red_photon_time_tags\n",
      "scans\n"
     ]
    }
   ],
   "source": [
    "for fnx in dir(file):\n",
    "    print(fnx)"
   ]
  },
  {
   "cell_type": "code",
   "execution_count": null,
   "metadata": {
    "scrolled": false
   },
   "outputs": [],
   "source": [
    "file =pylake.File(directory_h5 + '20200310-131257 Scan 12.h5')\n",
    "key = list(file.scans.keys())[0]\n",
    "# for x in dir(file.scans[key]):\n",
    "#     print(x)\n",
    "scan = file.scans[key]\n",
    "print(scan.file[\"Confocal diagnostics\"])\n",
    "# scan.json"
   ]
  },
  {
   "cell_type": "code",
   "execution_count": null,
   "metadata": {},
   "outputs": [],
   "source": [
    "directory_save = 'C:\\\\Users\\\\carca\\\\OneDrive - Johns Hopkins University\\\\Ha_CCarcamo\\\\Data\\\\Projects\\\\SWR1 Project\\\\cas9\\\\point spread functions for dCas9 data\\\\20200310 green dCas9 ATTO 550 specific binding\\\\'\n",
    "directory_h5 = directory_save + 'h5\\\\'\n",
    "files = glob.glob(directory_h5 + '*Scan*.h5')\n",
    "print(\"found {} files in folder\".format(len(files)))\n",
    "for file_name in files:\n",
    "    file = pylake.File(file_name)\n",
    "    x = file[\"Confocal diagnostics\"][\"Mirror actual position Z\"].data\n",
    "    y = x.mean()\n",
    "    print(f\"{file_name}{y}\")"
   ]
  },
  {
   "cell_type": "code",
   "execution_count": 4,
   "metadata": {
    "scrolled": true
   },
   "outputs": [
    {
     "name": "stdout",
     "output_type": "stream",
     "text": [
      "found 20 files in folder\n",
      "C:\\Users\\carca\\OneDrive - Johns Hopkins University\\Ha_CCarcamo\\Data_Analysis\\Projects\\SWR1 Project\\sliding + Cas9 marker\\2020-09-02 Cy3 SWR1 chan 4 dCas9 Cy5 chan 5 noATP\\h5\\20200902-202300 Kymograph 1 DNA 1 ATP 200.h5\n",
      "C:\\Users\\carca\\OneDrive - Johns Hopkins University\\Ha_CCarcamo\\Data_Analysis\\Projects\\SWR1 Project\\sliding + Cas9 marker\\2020-09-02 Cy3 SWR1 chan 4 dCas9 Cy5 chan 5 noATP\\h5\\20200902-202306 Kymograph 2 DNA 1 ATP 200.h5\n",
      "C:\\Users\\carca\\OneDrive - Johns Hopkins University\\Ha_CCarcamo\\Data_Analysis\\Projects\\SWR1 Project\\sliding + Cas9 marker\\2020-09-02 Cy3 SWR1 chan 4 dCas9 Cy5 chan 5 noATP\\h5\\20200902-202544 Kymograph 3 DNA 2 ATP 200.h5\n",
      "C:\\Users\\carca\\OneDrive - Johns Hopkins University\\Ha_CCarcamo\\Data_Analysis\\Projects\\SWR1 Project\\sliding + Cas9 marker\\2020-09-02 Cy3 SWR1 chan 4 dCas9 Cy5 chan 5 noATP\\h5\\20200902-204829 Kymograph 10 DNA 8 noATP 70 TRY 3 twice as concentrated SWR1.h5\n"
     ]
    },
    {
     "ename": "FileNotFoundError",
     "evalue": "[Errno 2] No such file or directory: 'C:\\\\Users\\\\carca\\\\OneDrive - Johns Hopkins University\\\\Ha_CCarcamo\\\\Data_Analysis\\\\Projects\\\\SWR1 Project\\\\sliding + Cas9 marker\\\\2020-09-02 Cy3 SWR1 chan 4 dCas9 Cy5 chan 5 noATP\\\\linescan_time_mat/greenkymo_10 DNA 8 noATP 70 TRY 3 twice as concentrated SWR1_20200725.mat'",
     "output_type": "error",
     "traceback": [
      "\u001b[1;31m---------------------------------------------------------------------------\u001b[0m",
      "\u001b[1;31mFileNotFoundError\u001b[0m                         Traceback (most recent call last)",
      "\u001b[1;32m~\\Anaconda3\\lib\\site-packages\\scipy\\io\\matlab\\mio.py\u001b[0m in \u001b[0;36m_open_file\u001b[1;34m(file_like, appendmat, mode)\u001b[0m\n\u001b[0;32m     38\u001b[0m     \u001b[1;32mtry\u001b[0m\u001b[1;33m:\u001b[0m\u001b[1;33m\u001b[0m\u001b[1;33m\u001b[0m\u001b[0m\n\u001b[1;32m---> 39\u001b[1;33m         \u001b[1;32mreturn\u001b[0m \u001b[0mopen\u001b[0m\u001b[1;33m(\u001b[0m\u001b[0mfile_like\u001b[0m\u001b[1;33m,\u001b[0m \u001b[0mmode\u001b[0m\u001b[1;33m)\u001b[0m\u001b[1;33m,\u001b[0m \u001b[1;32mTrue\u001b[0m\u001b[1;33m\u001b[0m\u001b[1;33m\u001b[0m\u001b[0m\n\u001b[0m\u001b[0;32m     40\u001b[0m     \u001b[1;32mexcept\u001b[0m \u001b[0mIOError\u001b[0m\u001b[1;33m:\u001b[0m\u001b[1;33m\u001b[0m\u001b[1;33m\u001b[0m\u001b[0m\n",
      "\u001b[1;31mFileNotFoundError\u001b[0m: [Errno 2] No such file or directory: 'C:\\\\Users\\\\carca\\\\OneDrive - Johns Hopkins University\\\\Ha_CCarcamo\\\\Data_Analysis\\\\Projects\\\\SWR1 Project\\\\sliding + Cas9 marker\\\\2020-09-02 Cy3 SWR1 chan 4 dCas9 Cy5 chan 5 noATP\\\\linescan_time_mat/greenkymo_10 DNA 8 noATP 70 TRY 3 twice as concentrated SWR1_20200725.mat'",
      "\nDuring handling of the above exception, another exception occurred:\n",
      "\u001b[1;31mFileNotFoundError\u001b[0m                         Traceback (most recent call last)",
      "\u001b[1;32m<ipython-input-4-1398e5c490ff>\u001b[0m in \u001b[0;36m<module>\u001b[1;34m\u001b[0m\n\u001b[0;32m     41\u001b[0m     \u001b[0msio\u001b[0m\u001b[1;33m.\u001b[0m\u001b[0msavemat\u001b[0m\u001b[1;33m(\u001b[0m\u001b[1;34mf\"{directory_save}kymo_mat_green/greenkymo_{key}_{date_of_experiment}.mat\"\u001b[0m\u001b[1;33m,\u001b[0m\u001b[1;33m{\u001b[0m\u001b[1;34m'obj_arr'\u001b[0m\u001b[1;33m:\u001b[0m\u001b[0mfile\u001b[0m\u001b[1;33m.\u001b[0m\u001b[0mkymos\u001b[0m\u001b[1;33m[\u001b[0m\u001b[0mkey\u001b[0m\u001b[1;33m]\u001b[0m\u001b[1;33m.\u001b[0m\u001b[0mgreen_image\u001b[0m\u001b[1;33m}\u001b[0m\u001b[1;33m)\u001b[0m\u001b[1;33m\u001b[0m\u001b[1;33m\u001b[0m\u001b[0m\n\u001b[0;32m     42\u001b[0m     \u001b[0msio\u001b[0m\u001b[1;33m.\u001b[0m\u001b[0msavemat\u001b[0m\u001b[1;33m(\u001b[0m\u001b[1;34mf\"{directory_save}kymo_mat_red/redkymo_{key}_{date_of_experiment}.mat\"\u001b[0m\u001b[1;33m,\u001b[0m\u001b[1;33m{\u001b[0m\u001b[1;34m'obj_arr'\u001b[0m\u001b[1;33m:\u001b[0m\u001b[0mfile\u001b[0m\u001b[1;33m.\u001b[0m\u001b[0mkymos\u001b[0m\u001b[1;33m[\u001b[0m\u001b[0mkey\u001b[0m\u001b[1;33m]\u001b[0m\u001b[1;33m.\u001b[0m\u001b[0mred_image\u001b[0m\u001b[1;33m}\u001b[0m\u001b[1;33m)\u001b[0m\u001b[1;33m\u001b[0m\u001b[1;33m\u001b[0m\u001b[0m\n\u001b[1;32m---> 43\u001b[1;33m     \u001b[0msio\u001b[0m\u001b[1;33m.\u001b[0m\u001b[0msavemat\u001b[0m\u001b[1;33m(\u001b[0m\u001b[1;34mf\"{directory_save}linescan_time_mat/greenkymo_{key}_{date_of_experiment}.mat\"\u001b[0m\u001b[1;33m,\u001b[0m \u001b[1;33m{\u001b[0m\u001b[1;34m'linescan_time_'\u001b[0m\u001b[1;33m:\u001b[0m\u001b[0mnp\u001b[0m\u001b[1;33m.\u001b[0m\u001b[0maround\u001b[0m\u001b[1;33m(\u001b[0m\u001b[1;33m(\u001b[0m\u001b[0msecond\u001b[0m\u001b[1;33m-\u001b[0m\u001b[0mstart\u001b[0m\u001b[1;33m)\u001b[0m\u001b[1;33m*\u001b[0m\u001b[1;36m1000\u001b[0m\u001b[1;33m,\u001b[0m \u001b[0mdecimals\u001b[0m \u001b[1;33m=\u001b[0m \u001b[1;36m2\u001b[0m\u001b[1;33m)\u001b[0m\u001b[1;33m}\u001b[0m\u001b[1;33m)\u001b[0m\u001b[1;33m\u001b[0m\u001b[1;33m\u001b[0m\u001b[0m\n\u001b[0m\u001b[0;32m     44\u001b[0m \u001b[1;31m#     sio.savemat(f\"{directory}pixeltime_{key}.mat\", {f\"pixeltime_{key}\":np.around((second-start)*1000, decimals = 2)})\u001b[0m\u001b[1;33m\u001b[0m\u001b[1;33m\u001b[0m\u001b[1;33m\u001b[0m\u001b[0m\n\u001b[0;32m     45\u001b[0m \u001b[1;33m\u001b[0m\u001b[0m\n",
      "\u001b[1;32m~\\Anaconda3\\lib\\site-packages\\scipy\\io\\matlab\\mio.py\u001b[0m in \u001b[0;36msavemat\u001b[1;34m(file_name, mdict, appendmat, format, long_field_names, do_compression, oned_as)\u001b[0m\n\u001b[0;32m    264\u001b[0m         \u001b[0mIf\u001b[0m \u001b[1;34m'row'\u001b[0m\u001b[1;33m,\u001b[0m \u001b[0mwrite\u001b[0m \u001b[1;36m1\u001b[0m\u001b[1;33m-\u001b[0m\u001b[0mD\u001b[0m \u001b[0mnumpy\u001b[0m \u001b[0marrays\u001b[0m \u001b[1;32mas\u001b[0m \u001b[0mrow\u001b[0m \u001b[0mvectors\u001b[0m\u001b[1;33m.\u001b[0m\u001b[1;33m\u001b[0m\u001b[1;33m\u001b[0m\u001b[0m\n\u001b[0;32m    265\u001b[0m     \"\"\"\n\u001b[1;32m--> 266\u001b[1;33m     \u001b[1;32mwith\u001b[0m \u001b[0m_open_file_context\u001b[0m\u001b[1;33m(\u001b[0m\u001b[0mfile_name\u001b[0m\u001b[1;33m,\u001b[0m \u001b[0mappendmat\u001b[0m\u001b[1;33m,\u001b[0m \u001b[1;34m'wb'\u001b[0m\u001b[1;33m)\u001b[0m \u001b[1;32mas\u001b[0m \u001b[0mfile_stream\u001b[0m\u001b[1;33m:\u001b[0m\u001b[1;33m\u001b[0m\u001b[1;33m\u001b[0m\u001b[0m\n\u001b[0m\u001b[0;32m    267\u001b[0m         \u001b[1;32mif\u001b[0m \u001b[0mformat\u001b[0m \u001b[1;33m==\u001b[0m \u001b[1;34m'4'\u001b[0m\u001b[1;33m:\u001b[0m\u001b[1;33m\u001b[0m\u001b[1;33m\u001b[0m\u001b[0m\n\u001b[0;32m    268\u001b[0m             \u001b[1;32mif\u001b[0m \u001b[0mlong_field_names\u001b[0m\u001b[1;33m:\u001b[0m\u001b[1;33m\u001b[0m\u001b[1;33m\u001b[0m\u001b[0m\n",
      "\u001b[1;32m~\\Anaconda3\\lib\\contextlib.py\u001b[0m in \u001b[0;36m__enter__\u001b[1;34m(self)\u001b[0m\n\u001b[0;32m    110\u001b[0m         \u001b[1;32mdel\u001b[0m \u001b[0mself\u001b[0m\u001b[1;33m.\u001b[0m\u001b[0margs\u001b[0m\u001b[1;33m,\u001b[0m \u001b[0mself\u001b[0m\u001b[1;33m.\u001b[0m\u001b[0mkwds\u001b[0m\u001b[1;33m,\u001b[0m \u001b[0mself\u001b[0m\u001b[1;33m.\u001b[0m\u001b[0mfunc\u001b[0m\u001b[1;33m\u001b[0m\u001b[1;33m\u001b[0m\u001b[0m\n\u001b[0;32m    111\u001b[0m         \u001b[1;32mtry\u001b[0m\u001b[1;33m:\u001b[0m\u001b[1;33m\u001b[0m\u001b[1;33m\u001b[0m\u001b[0m\n\u001b[1;32m--> 112\u001b[1;33m             \u001b[1;32mreturn\u001b[0m \u001b[0mnext\u001b[0m\u001b[1;33m(\u001b[0m\u001b[0mself\u001b[0m\u001b[1;33m.\u001b[0m\u001b[0mgen\u001b[0m\u001b[1;33m)\u001b[0m\u001b[1;33m\u001b[0m\u001b[1;33m\u001b[0m\u001b[0m\n\u001b[0m\u001b[0;32m    113\u001b[0m         \u001b[1;32mexcept\u001b[0m \u001b[0mStopIteration\u001b[0m\u001b[1;33m:\u001b[0m\u001b[1;33m\u001b[0m\u001b[1;33m\u001b[0m\u001b[0m\n\u001b[0;32m    114\u001b[0m             \u001b[1;32mraise\u001b[0m \u001b[0mRuntimeError\u001b[0m\u001b[1;33m(\u001b[0m\u001b[1;34m\"generator didn't yield\"\u001b[0m\u001b[1;33m)\u001b[0m \u001b[1;32mfrom\u001b[0m \u001b[1;32mNone\u001b[0m\u001b[1;33m\u001b[0m\u001b[1;33m\u001b[0m\u001b[0m\n",
      "\u001b[1;32m~\\Anaconda3\\lib\\site-packages\\scipy\\io\\matlab\\mio.py\u001b[0m in \u001b[0;36m_open_file_context\u001b[1;34m(file_like, appendmat, mode)\u001b[0m\n\u001b[0;32m     17\u001b[0m \u001b[1;33m@\u001b[0m\u001b[0mcontextmanager\u001b[0m\u001b[1;33m\u001b[0m\u001b[1;33m\u001b[0m\u001b[0m\n\u001b[0;32m     18\u001b[0m \u001b[1;32mdef\u001b[0m \u001b[0m_open_file_context\u001b[0m\u001b[1;33m(\u001b[0m\u001b[0mfile_like\u001b[0m\u001b[1;33m,\u001b[0m \u001b[0mappendmat\u001b[0m\u001b[1;33m,\u001b[0m \u001b[0mmode\u001b[0m\u001b[1;33m=\u001b[0m\u001b[1;34m'rb'\u001b[0m\u001b[1;33m)\u001b[0m\u001b[1;33m:\u001b[0m\u001b[1;33m\u001b[0m\u001b[1;33m\u001b[0m\u001b[0m\n\u001b[1;32m---> 19\u001b[1;33m     \u001b[0mf\u001b[0m\u001b[1;33m,\u001b[0m \u001b[0mopened\u001b[0m \u001b[1;33m=\u001b[0m \u001b[0m_open_file\u001b[0m\u001b[1;33m(\u001b[0m\u001b[0mfile_like\u001b[0m\u001b[1;33m,\u001b[0m \u001b[0mappendmat\u001b[0m\u001b[1;33m,\u001b[0m \u001b[0mmode\u001b[0m\u001b[1;33m)\u001b[0m\u001b[1;33m\u001b[0m\u001b[1;33m\u001b[0m\u001b[0m\n\u001b[0m\u001b[0;32m     20\u001b[0m     \u001b[1;32myield\u001b[0m \u001b[0mf\u001b[0m\u001b[1;33m\u001b[0m\u001b[1;33m\u001b[0m\u001b[0m\n\u001b[0;32m     21\u001b[0m     \u001b[1;32mif\u001b[0m \u001b[0mopened\u001b[0m\u001b[1;33m:\u001b[0m\u001b[1;33m\u001b[0m\u001b[1;33m\u001b[0m\u001b[0m\n",
      "\u001b[1;32m~\\Anaconda3\\lib\\site-packages\\scipy\\io\\matlab\\mio.py\u001b[0m in \u001b[0;36m_open_file\u001b[1;34m(file_like, appendmat, mode)\u001b[0m\n\u001b[0;32m     43\u001b[0m             \u001b[1;32mif\u001b[0m \u001b[0mappendmat\u001b[0m \u001b[1;32mand\u001b[0m \u001b[1;32mnot\u001b[0m \u001b[0mfile_like\u001b[0m\u001b[1;33m.\u001b[0m\u001b[0mendswith\u001b[0m\u001b[1;33m(\u001b[0m\u001b[1;34m'.mat'\u001b[0m\u001b[1;33m)\u001b[0m\u001b[1;33m:\u001b[0m\u001b[1;33m\u001b[0m\u001b[1;33m\u001b[0m\u001b[0m\n\u001b[0;32m     44\u001b[0m                 \u001b[0mfile_like\u001b[0m \u001b[1;33m+=\u001b[0m \u001b[1;34m'.mat'\u001b[0m\u001b[1;33m\u001b[0m\u001b[1;33m\u001b[0m\u001b[0m\n\u001b[1;32m---> 45\u001b[1;33m             \u001b[1;32mreturn\u001b[0m \u001b[0mopen\u001b[0m\u001b[1;33m(\u001b[0m\u001b[0mfile_like\u001b[0m\u001b[1;33m,\u001b[0m \u001b[0mmode\u001b[0m\u001b[1;33m)\u001b[0m\u001b[1;33m,\u001b[0m \u001b[1;32mTrue\u001b[0m\u001b[1;33m\u001b[0m\u001b[1;33m\u001b[0m\u001b[0m\n\u001b[0m\u001b[0;32m     46\u001b[0m         \u001b[1;32melse\u001b[0m\u001b[1;33m:\u001b[0m\u001b[1;33m\u001b[0m\u001b[1;33m\u001b[0m\u001b[0m\n\u001b[0;32m     47\u001b[0m             \u001b[1;32mraise\u001b[0m \u001b[0mIOError\u001b[0m\u001b[1;33m(\u001b[0m\u001b[1;34m'Reader needs file name or open file-like object'\u001b[0m\u001b[1;33m)\u001b[0m\u001b[1;33m\u001b[0m\u001b[1;33m\u001b[0m\u001b[0m\n",
      "\u001b[1;31mFileNotFoundError\u001b[0m: [Errno 2] No such file or directory: 'C:\\\\Users\\\\carca\\\\OneDrive - Johns Hopkins University\\\\Ha_CCarcamo\\\\Data_Analysis\\\\Projects\\\\SWR1 Project\\\\sliding + Cas9 marker\\\\2020-09-02 Cy3 SWR1 chan 4 dCas9 Cy5 chan 5 noATP\\\\linescan_time_mat/greenkymo_10 DNA 8 noATP 70 TRY 3 twice as concentrated SWR1_20200725.mat'"
     ]
    }
   ],
   "source": [
    "# FOR KYMOGRAPH DATA ############## FOR PUBLICATION\n",
    "# Takes in the raw h5 data and produces information for processing in matlab\n",
    "import numpy as np\n",
    "import matplotlib.pyplot as plt\n",
    "from lumicks import pylake\n",
    "import glob\n",
    "import scipy.io as sio\n",
    "import os\n",
    "# select the folder, here we search for .h5 files in the folder where you're running the script in\n",
    "directory_laptop = 'C:\\\\Users\\\\carca\\\\OneDrive - Johns Hopkins University\\\\Ha_CCarcamo\\\\Data_Analysis\\\\Projects\\\\SWR1 Project\\\\'\n",
    "directory_save = directory_laptop + 'sliding + Cas9 marker\\\\2020-09-02 Cy3 SWR1 chan 4 dCas9 Cy5 chan 5 noATP\\\\'\n",
    "directory_h5 = directory_save + 'h5\\\\kymos'\n",
    "date_of_experiment = '20200902'\n",
    "os.chdir(directory_save)\n",
    "os.mkdir('linescan_time_mat')\n",
    "os.mkdir('kymo_mat_green')\n",
    "os.mkdir('kymo_mat_red')\n",
    "os.mkdir('segmentation')\n",
    "os.mkdir('fitting')\n",
    "os.mkdir('MSD analysis')\n",
    "os.mkdir('final')\n",
    "os.mkdir('filename')\n",
    "os.mkdir('file_name_2')\n",
    "# os.mkfir('force_data')\n",
    "\n",
    "files = glob.glob(directory_h5 + '*Kymograph*.h5')\n",
    "print(\"found {} files in folder\".format(len(files)))\n",
    "for file_name in files:\n",
    "    print(file_name)\n",
    "    file = pylake.File(file_name)\n",
    "    key = list(file.kymos.keys())[0]\n",
    "    kymo = file.kymos[key]\n",
    "    time = kymo.timestamps\n",
    "    t1 = time[0]\n",
    "    c1 = (t1 - t1[0]) * 1e-9 + 1\n",
    "    start = c1[0]\n",
    "    second =c1[1]\n",
    "    end = c1[-1]\n",
    "#     tps= {np.around((second-start)*1000, decimals = 2)}\n",
    "    pixeltime = kymo.json['scan volume']['scan axes'][0]['scan time (ms)']\n",
    "    sio.savemat(f\"{directory_save}kymo_mat_green/greenkymo_{key}_{date_of_experiment}.mat\",{'obj_arr':file.kymos[key].green_image})\n",
    "    sio.savemat(f\"{directory_save}kymo_mat_red/redkymo_{key}_{date_of_experiment}.mat\",{'obj_arr':file.kymos[key].red_image})\n",
    "    sio.savemat(f\"{directory_save}linescan_time_mat/greenkymo_{key}_{date_of_experiment}.mat\", {'linescan_time_':np.around((second-start)*1000, decimals = 2)})\n",
    "#     sio.savemat(f\"{directory}pixeltime_{key}.mat\", {f\"pixeltime_{key}\":np.around((second-start)*1000, decimals = 2)})\n",
    "\n"
   ]
  }
 ],
 "metadata": {
  "kernelspec": {
   "display_name": "Python 3",
   "language": "python",
   "name": "python3"
  },
  "language_info": {
   "codemirror_mode": {
    "name": "ipython",
    "version": 3
   },
   "file_extension": ".py",
   "mimetype": "text/x-python",
   "name": "python",
   "nbconvert_exporter": "python",
   "pygments_lexer": "ipython3",
   "version": "3.7.8"
  }
 },
 "nbformat": 4,
 "nbformat_minor": 2
}
