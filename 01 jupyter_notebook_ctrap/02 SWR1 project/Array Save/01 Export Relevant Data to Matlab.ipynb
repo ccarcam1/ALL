{
 "cells": [
  {
   "cell_type": "code",
   "execution_count": 4,
   "metadata": {},
   "outputs": [],
   "source": [
    "import numpy as np\n",
    "import matplotlib.pyplot as plt\n",
    "from lumicks import pylake\n",
    "import glob\n",
    "import scipy.io as sio\n",
    "import os"
   ]
  },
  {
   "cell_type": "markdown",
   "metadata": {},
   "source": [
    "## Array Save from Kymograph H5 Files"
   ]
  },
  {
   "cell_type": "code",
   "execution_count": 5,
   "metadata": {
    "scrolled": false
   },
   "outputs": [
    {
     "name": "stdout",
     "output_type": "stream",
     "text": [
      "found 15 files in folder\n",
      "C:\\Users\\carca\\OneDrive - Johns Hopkins University\\Ha_CCarcamo\\01 Data_Analysis\\Projects\\SWR1 Project\\lambda nucleosome array\\2021-01-25 dual color 700-1 array SWR1/h5/kymos\\20210125-170731 Kymograph 1.h5\n",
      "C:\\Users\\carca\\OneDrive - Johns Hopkins University\\Ha_CCarcamo\\01 Data_Analysis\\Projects\\SWR1 Project\\lambda nucleosome array\\2021-01-25 dual color 700-1 array SWR1/h5/kymos\\20210125-173504 Kymograph 2.h5\n",
      "C:\\Users\\carca\\OneDrive - Johns Hopkins University\\Ha_CCarcamo\\01 Data_Analysis\\Projects\\SWR1 Project\\lambda nucleosome array\\2021-01-25 dual color 700-1 array SWR1/h5/kymos\\20210125-173713 Kymograph 4.h5\n",
      "C:\\Users\\carca\\OneDrive - Johns Hopkins University\\Ha_CCarcamo\\01 Data_Analysis\\Projects\\SWR1 Project\\lambda nucleosome array\\2021-01-25 dual color 700-1 array SWR1/h5/kymos\\20210125-174204 Kymograph 10.h5\n",
      "C:\\Users\\carca\\OneDrive - Johns Hopkins University\\Ha_CCarcamo\\01 Data_Analysis\\Projects\\SWR1 Project\\lambda nucleosome array\\2021-01-25 dual color 700-1 array SWR1/h5/kymos\\20210125-174204 Kymograph 11.h5\n",
      "C:\\Users\\carca\\OneDrive - Johns Hopkins University\\Ha_CCarcamo\\01 Data_Analysis\\Projects\\SWR1 Project\\lambda nucleosome array\\2021-01-25 dual color 700-1 array SWR1/h5/kymos\\20210125-174204 Kymograph 12.h5\n",
      "C:\\Users\\carca\\OneDrive - Johns Hopkins University\\Ha_CCarcamo\\01 Data_Analysis\\Projects\\SWR1 Project\\lambda nucleosome array\\2021-01-25 dual color 700-1 array SWR1/h5/kymos\\20210125-174204 Kymograph 14.h5\n",
      "C:\\Users\\carca\\OneDrive - Johns Hopkins University\\Ha_CCarcamo\\01 Data_Analysis\\Projects\\SWR1 Project\\lambda nucleosome array\\2021-01-25 dual color 700-1 array SWR1/h5/kymos\\20210125-174204 Kymograph 16.h5\n",
      "C:\\Users\\carca\\OneDrive - Johns Hopkins University\\Ha_CCarcamo\\01 Data_Analysis\\Projects\\SWR1 Project\\lambda nucleosome array\\2021-01-25 dual color 700-1 array SWR1/h5/kymos\\20210125-174204 Kymograph 17.h5\n",
      "C:\\Users\\carca\\OneDrive - Johns Hopkins University\\Ha_CCarcamo\\01 Data_Analysis\\Projects\\SWR1 Project\\lambda nucleosome array\\2021-01-25 dual color 700-1 array SWR1/h5/kymos\\20210125-174204 Kymograph 3.h5\n",
      "C:\\Users\\carca\\OneDrive - Johns Hopkins University\\Ha_CCarcamo\\01 Data_Analysis\\Projects\\SWR1 Project\\lambda nucleosome array\\2021-01-25 dual color 700-1 array SWR1/h5/kymos\\20210125-174204 Kymograph 5.h5\n",
      "C:\\Users\\carca\\OneDrive - Johns Hopkins University\\Ha_CCarcamo\\01 Data_Analysis\\Projects\\SWR1 Project\\lambda nucleosome array\\2021-01-25 dual color 700-1 array SWR1/h5/kymos\\20210125-174204 Kymograph 6.h5\n",
      "C:\\Users\\carca\\OneDrive - Johns Hopkins University\\Ha_CCarcamo\\01 Data_Analysis\\Projects\\SWR1 Project\\lambda nucleosome array\\2021-01-25 dual color 700-1 array SWR1/h5/kymos\\20210125-174204 Kymograph 7.h5\n",
      "C:\\Users\\carca\\OneDrive - Johns Hopkins University\\Ha_CCarcamo\\01 Data_Analysis\\Projects\\SWR1 Project\\lambda nucleosome array\\2021-01-25 dual color 700-1 array SWR1/h5/kymos\\20210125-174204 Kymograph 8.h5\n",
      "C:\\Users\\carca\\OneDrive - Johns Hopkins University\\Ha_CCarcamo\\01 Data_Analysis\\Projects\\SWR1 Project\\lambda nucleosome array\\2021-01-25 dual color 700-1 array SWR1/h5/kymos\\20210125-174204 Kymograph 9.h5\n"
     ]
    }
   ],
   "source": [
    "directory_save = r'C:\\Users\\carca\\OneDrive - Johns Hopkins University\\Ha_CCarcamo\\01 Data_Analysis\\Projects\\SWR1 Project\\lambda nucleosome array\\2021-01-25 dual color 700-1 array SWR1' + '/'\n",
    "# directory_save = 'C:/Users/carca/OneDrive - Johns Hopkins University/Ha_CCarcamo/Data_Analysis/Projects/SWR1 Project/sliding/ATP gammaS/2020-09-21 SWR1 ATP gamma S/'\n",
    "# directory_save = directory_laptop + 'sliding plus Cas9 marker/2020-09-02 Cy3 SWR1 chan 4 dCas9 Cy5 chan 5 noATP/'\n",
    "# directory_h5 = directory_save + 'h5/kymos/holding spot/'\n",
    "directory_h5 = directory_save + 'h5/kymos/'\n",
    "date_of_experiment = '20210125'\n",
    "\n",
    "os.chdir(directory_save)\n",
    "os.mkdir('linescan_time_mat')\n",
    "os.mkdir('kymo_mat_green')\n",
    "os.mkdir('kymo_mat_red')\n",
    "#os.mkdir('force_data')\n",
    "\n",
    "os.mkdir('segmentation')\n",
    "os.mkdir('fitting')\n",
    "os.mkdir('MSD analysis')\n",
    "os.mkdir('final')\n",
    "\n",
    "files = glob.glob(directory_h5 + '*Kymograph*.h5')\n",
    "print(\"found {} files in folder\".format(len(files)))\n",
    "for file_name in files:\n",
    "    print(file_name)\n",
    "    file = pylake.File(file_name)\n",
    "    key = list(file.kymos.keys())[0]\n",
    "    kymo = file.kymos[key]\n",
    "    time = kymo.timestamps\n",
    "    t1 = time[0]\n",
    "    c1 = (t1 - t1[0]) * 1e-9 + 1\n",
    "    start = c1[0]\n",
    "    second =c1[1]\n",
    "    end = c1[-1]\n",
    "    scantime = kymo.json['scan volume']['scan axes'][0]['scan time (ms)']\n",
    "    #Thuc Homework: Add a line that gives you force values for the length of the kymograph \n",
    "    sio.savemat(f\"{directory_save}kymo_mat_green/greenkymo_{key}_{date_of_experiment}.mat\",{'obj_arr':file.kymos[key].green_image})\n",
    "    sio.savemat(f\"{directory_save}kymo_mat_red/redkymo_{key}_{date_of_experiment}.mat\",{'obj_arr':file.kymos[key].red_image})\n",
    "    sio.savemat(f\"{directory_save}linescan_time_mat/greenkymo_{key}_{date_of_experiment}.mat\", {'linescan_time_':np.around((second-start)*1000, decimals = 2)})\n",
    "    #Thuc Homeword: Save force data "
   ]
  },
  {
   "cell_type": "markdown",
   "metadata": {},
   "source": [
    "## Array Save From Marker File"
   ]
  },
  {
   "cell_type": "code",
   "execution_count": 47,
   "metadata": {},
   "outputs": [
    {
     "name": "stdout",
     "output_type": "stream",
     "text": [
      "found 10 files in folder\n",
      "20201121-191616 Marker 1 DNA 1.h5\n",
      "[]\n",
      "20201121-191619 Marker 3 DNA 2.h5\n",
      "['2']\n",
      "20201121-192448 Marker 5 DNA 3.h5\n",
      "['3', '4', '5']\n",
      "20201121-192451 Marker 7 DNA 4.h5\n",
      "['6', '7']\n",
      "20201121-192454 Marker 13 DNA 5.h5\n",
      "['10', '11']\n",
      "20201121-192456 Marker 15 DNA 6.h5\n",
      "['12', '13']\n",
      "20201121-193918 Marker 19 DNA 7.h5\n",
      "['15']\n",
      "20201121-195458 Marker 21 DNA 8.h5\n",
      "['16']\n",
      "20201121-200604 Marker 23 DNA 9.h5\n",
      "['17']\n",
      "20201121-202356 Marker 24 DNA 10.h5\n",
      "['18']\n"
     ]
    }
   ],
   "source": [
    "# Define a function that unpacks the Marker file to select the kymographs \n",
    "directory_save = r'C:\\Users\\carca\\OneDrive - Johns Hopkins University\\Ha_CCarcamo\\01 Data_Analysis\\Projects\\SWR1 Project\\lambda nucleosome array\\2020-11-21' + '/'\n",
    "directory_Markers = r'C:\\Users\\carca\\OneDrive - Johns Hopkins University\\Ha_CCarcamo\\01 Data_Analysis\\Projects\\SWR1 Project\\lambda nucleosome array\\2020-11-21\\Marker Files' + '/'\n",
    "dir_len = len(directory_Markers)\n",
    "# file = directory_save + '20201121-191616 Marker 1 DNA 1.h5'\n",
    "date_of_experiment = '2020-11-21'\n",
    "files = glob.glob(directory_Markers + '*Marker*.h5')\n",
    "print(\"found {} files in folder\".format(len(files)))\n",
    "\n",
    "os.chdir(directory_save)\n",
    "os.mkdir('linescan_time_mat')\n",
    "os.mkdir('kymo_mat_green')\n",
    "os.mkdir('kymo_mat_red')\n",
    "#os.mkdir('force_data')\n",
    "\n",
    "os.mkdir('segmentation')\n",
    "os.mkdir('fitting')\n",
    "os.mkdir('MSD analysis')\n",
    "os.mkdir('final')\n",
    "\n",
    "# for file_name in files:\n",
    "#     print(file_name[dir_len:])\n",
    "#     file = pylake.File(file_name)\n",
    "#     keys = list(file.kymos.keys())\n",
    "#     print(keys)\n",
    "#     if not(len(keys)==0):\n",
    "#         print(\"USE THIS\")\n",
    "#         if len(keys)==1: \n",
    "#             print(\"THERE IS ONE ITEM\")\n",
    "#         else:\n",
    "#             print(\"There are\", len(keys), \"items\")\n",
    "#             for key in keys:\n",
    "#                 print([key])\n",
    "\n",
    "for file_name in files:\n",
    "    print(file_name[dir_len:])\n",
    "    file = pylake.File(file_name)\n",
    "    keys = list(file.kymos.keys())\n",
    "    print(keys)\n",
    "    if not(len(keys)==0):\n",
    "        for key in keys:\n",
    "            kymo = file.kymos[key]\n",
    "            time = kymo.timestamps\n",
    "            t1 = time[0]\n",
    "            c1 = (t1 - t1[0]) * 1e-9 + 1\n",
    "            start = c1[0]\n",
    "            second =c1[1]\n",
    "            end = c1[-1]\n",
    "            scantime = kymo.json['scan volume']['scan axes'][0]['scan time (ms)']\n",
    "            #Thuc Homework: Add a line that gives you force values for the length of the kymograph \n",
    "            sio.savemat(f\"{directory_save}kymo_mat_green/greenkymo_{key}_{date_of_experiment}.mat\",{'obj_arr':file.kymos[key].green_image})\n",
    "            sio.savemat(f\"{directory_save}kymo_mat_red/redkymo_{key}_{date_of_experiment}.mat\",{'obj_arr':file.kymos[key].red_image})\n",
    "            sio.savemat(f\"{directory_save}linescan_time_mat/greenkymo_{key}_{date_of_experiment}.mat\", {'linescan_time_':np.around((second-start)*1000, decimals = 2)})\n",
    "                \n",
    "        \n",
    "#     key = list(file.kymos.keys())[0]\n",
    "#     kymo = file.kymos[key]\n",
    "#     time = kymo.timestamps\n",
    "#     t1 = time[0]\n",
    "#     c1 = (t1 - t1[0]) * 1e-9 + 1\n",
    "#     start = c1[0]\n",
    "#     second =c1[1]\n",
    "#     end = c1[-1]\n",
    "#     scantime = kymo.json['scan volume']['scan axes'][0]['scan time (ms)']\n",
    "#     sio.savemat(f\"{directory_save}kymo_mat_green/greenkymo_{key}_{date_of_experiment}.mat\",{'obj_arr':file.kymos[key].green_image})\n",
    "#     sio.savemat(f\"{directory_save}kymo_mat_red/redkymo_{key}_{date_of_experiment}.mat\",{'obj_arr':file.kymos[key].red_image})\n",
    "#     sio.savemat(f\"{directory_save}linescan_time_mat/greenkymo_{key}_{date_of_experiment}.mat\", {'linescan_time_':np.around((second-start)*1000, decimals = 2)})\n",
    "\n",
    "# def get_kymos(file_name):\n",
    "#     keys = list(file.kymos.keys())\n",
    "#     return(keys)\n",
    " \n"
   ]
  },
  {
   "cell_type": "code",
   "execution_count": null,
   "metadata": {},
   "outputs": [],
   "source": []
  },
  {
   "cell_type": "code",
   "execution_count": null,
   "metadata": {},
   "outputs": [],
   "source": []
  }
 ],
 "metadata": {
  "kernelspec": {
   "display_name": "Python 3",
   "language": "python",
   "name": "python3"
  },
  "language_info": {
   "codemirror_mode": {
    "name": "ipython",
    "version": 3
   },
   "file_extension": ".py",
   "mimetype": "text/x-python",
   "name": "python",
   "nbconvert_exporter": "python",
   "pygments_lexer": "ipython3",
   "version": "3.7.8"
  }
 },
 "nbformat": 4,
 "nbformat_minor": 2
}
