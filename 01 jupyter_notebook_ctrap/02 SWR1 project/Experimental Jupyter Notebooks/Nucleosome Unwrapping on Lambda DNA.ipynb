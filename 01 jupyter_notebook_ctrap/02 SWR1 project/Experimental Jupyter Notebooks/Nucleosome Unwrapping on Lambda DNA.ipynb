{
 "cells": [
  {
   "cell_type": "code",
   "execution_count": 4,
   "metadata": {},
   "outputs": [
    {
     "ename": "ValueError",
     "evalue": "F,d selector widget cannot open without a non-empty dictionary containing F,d curves.",
     "output_type": "error",
     "traceback": [
      "\u001b[1;31m---------------------------------------------------------------------------\u001b[0m",
      "\u001b[1;31mValueError\u001b[0m                                Traceback (most recent call last)",
      "\u001b[1;32m<ipython-input-4-50d6ae6407fb>\u001b[0m in \u001b[0;36m<module>\u001b[1;34m\u001b[0m\n\u001b[0;32m     14\u001b[0m         \u001b[0mfilenamedic\u001b[0m\u001b[1;33m[\u001b[0m\u001b[0mkey\u001b[0m\u001b[1;33m]\u001b[0m \u001b[1;33m=\u001b[0m \u001b[0mfilename\u001b[0m\u001b[1;33m[\u001b[0m\u001b[0mlen\u001b[0m\u001b[1;33m(\u001b[0m\u001b[0mdirectory\u001b[0m\u001b[1;33m)\u001b[0m\u001b[1;33m:\u001b[0m\u001b[1;33m-\u001b[0m\u001b[1;36m3\u001b[0m\u001b[1;33m]\u001b[0m\u001b[1;33m\u001b[0m\u001b[1;33m\u001b[0m\u001b[0m\n\u001b[0;32m     15\u001b[0m \u001b[1;33m\u001b[0m\u001b[0m\n\u001b[1;32m---> 16\u001b[1;33m \u001b[0mselector\u001b[0m \u001b[1;33m=\u001b[0m \u001b[0mlk\u001b[0m\u001b[1;33m.\u001b[0m\u001b[0mFdRangeSelector\u001b[0m\u001b[1;33m(\u001b[0m\u001b[0mfdcurves\u001b[0m\u001b[1;33m)\u001b[0m\u001b[1;33m\u001b[0m\u001b[1;33m\u001b[0m\u001b[0m\n\u001b[0m",
      "\u001b[1;32m~\\Anaconda3\\lib\\site-packages\\lumicks\\pylake\\nb_widgets\\fd_selector.py\u001b[0m in \u001b[0;36m__init__\u001b[1;34m(self, fd_curves)\u001b[0m\n\u001b[0;32m    132\u001b[0m \u001b[1;33m\u001b[0m\u001b[0m\n\u001b[0;32m    133\u001b[0m         \u001b[1;32mif\u001b[0m \u001b[0mlen\u001b[0m\u001b[1;33m(\u001b[0m\u001b[0mfd_curves\u001b[0m\u001b[1;33m)\u001b[0m \u001b[1;33m==\u001b[0m \u001b[1;36m0\u001b[0m\u001b[1;33m:\u001b[0m\u001b[1;33m\u001b[0m\u001b[1;33m\u001b[0m\u001b[0m\n\u001b[1;32m--> 134\u001b[1;33m             \u001b[1;32mraise\u001b[0m \u001b[0mValueError\u001b[0m\u001b[1;33m(\u001b[0m\u001b[1;34m\"F,d selector widget cannot open without a non-empty dictionary containing F,d curves.\"\u001b[0m\u001b[1;33m)\u001b[0m\u001b[1;33m\u001b[0m\u001b[1;33m\u001b[0m\u001b[0m\n\u001b[0m\u001b[0;32m    135\u001b[0m \u001b[1;33m\u001b[0m\u001b[0m\n\u001b[0;32m    136\u001b[0m         \u001b[1;32mtry\u001b[0m\u001b[1;33m:\u001b[0m\u001b[1;33m\u001b[0m\u001b[1;33m\u001b[0m\u001b[0m\n",
      "\u001b[1;31mValueError\u001b[0m: F,d selector widget cannot open without a non-empty dictionary containing F,d curves."
     ]
    }
   ],
   "source": [
    "import glob\n",
    "import numpy as np\n",
    "import matplotlib.pyplot as plt\n",
    "import lumicks.pylake as lk\n",
    "%matplotlib inline\n",
    "%matplotlib widget\n",
    "directory = r'C:\\Users\\carca\\OneDrive - Johns Hopkins University\\Ha_CCarcamo\\01 Data_Analysis\\Projects\\SWR1 Project\\lambda nucleosome array\\2021-01-18\\Before Adding SWR1 to channel 4\\h5/'\n",
    "fdcurves = {}\n",
    "filenamedic = {}\n",
    "for filename in glob.glob(directory + '*.h5'):\n",
    "    file = lk.File(filename)\n",
    "    for key, curve in file.fdcurves.items():\n",
    "        fdcurves[key] = curve\n",
    "        filenamedic[key] = filename[len(directory):-3]\n",
    "\n",
    "selector = lk.FdRangeSelector(fdcurves)"
   ]
  },
  {
   "cell_type": "code",
   "execution_count": 81,
   "metadata": {
    "scrolled": true
   },
   "outputs": [
    {
     "name": "stdout",
     "output_type": "stream",
     "text": [
      "C:\\Users\\carca\\OneDrive - Johns Hopkins University\\Ha_CCarcamo\\01 Data_Analysis\\Projects\\SWR1 Project\\lambda nucleosome array\\2020-11-20/20201120-191540 Marker 5 DNA 5\n"
     ]
    },
    {
     "data": {
      "application/vnd.jupyter.widget-view+json": {
       "model_id": "c5c729bf2d714a29bd98098ff9482b94",
       "version_major": 2,
       "version_minor": 0
      },
      "text/plain": [
       "Canvas(toolbar=Toolbar(toolitems=[('Home', 'Reset original view', 'home', 'home'), ('Back', 'Back to previous …"
      ]
     },
     "metadata": {},
     "output_type": "display_data"
    }
   ],
   "source": [
    "directory = r'C:\\Users\\carca\\OneDrive - Johns Hopkins University\\Ha_CCarcamo\\01 Data_Analysis\\Projects\\SWR1 Project\\lambda nucleosome array\\2020-11-20' +'/'\n",
    "filename = filenamedic['17']\n",
    "print(directory + filename)\n",
    "file = lk.File(directory + filename + '.h5')\n",
    "channel = file.force1x # original frequency 78125 Hz\n",
    "\n",
    "ds_channel = channel.downsampled_to(78125/100)\n",
    "ds_timestep = np.diff(ds_channel.timestamps[:2]) * 1e-9  # timestep 320 us\n",
    "fig = plt.figure();\n",
    "ds_channel.plot()"
   ]
  },
  {
   "cell_type": "code",
   "execution_count": 9,
   "metadata": {
    "scrolled": true
   },
   "outputs": [
    {
     "name": "stdout",
     "output_type": "stream",
     "text": [
      "10 DNA 1 additional pulls then breaks \t 20210118-173031 FD Curve 10 DNA 1 additional pulls then breaks \n",
      "\n",
      "11 DNA 2 \t 20210118-173031 Scan 47 DNA 2 \n",
      "\n",
      "12 DNA 4 possible multiple DNA \t 20210118-173031 Scan 60 DNA 4 possibly multiple DNA \n",
      "\n",
      "14 DNA 4 multiple molecules \t 20210118-173031 FD Curve 14 DNA 4 multiple molecules \n",
      "\n",
      "15 DNA 4 multiple molecule or freakishly long DNA \t 20210118-173031 Scan 61 DNA 4 multiple molecule of freakishly long \n",
      "\n",
      "18 \t 20210118-173031 FD Curve 22 DNA 5 FD curve \n",
      "\n",
      "19 DNA 5 \t 20210118-173031 Scan 62 DNA 5 \n",
      "\n",
      "21 \t 20210118-173031 Scan 63 DNA 5 FD curve correlation \n",
      "\n",
      "22 DNA 5 FD curve \t 20210118-173031 Scan 63 DNA 5 FD curve correlation \n",
      "\n",
      "23 DNA 6 catching arrays \t 20210118-173031 Scan 65 DNA 6 catching arrays \n",
      "\n",
      "26 DNA 6 two DNA or more break \t 20210118-173031 FD Curve 26 DNA 6 two DNA or more break \n",
      "\n",
      "27 \t 20210118-173031 FD Curve 31 DNA 6 on the surviving DNA nucleosomes reconstitute \n",
      "\n",
      "28 \t 20210118-173031 FD Curve 31 DNA 6 on the surviving DNA nucleosomes reconstitute \n",
      "\n",
      "31 DNA 6 on the surviving DNA nucleosomes reconstitute \t 20210118-173031 FD Curve 31 DNA 6 on the surviving DNA nucleosomes reconstitute \n",
      "\n",
      "4 DNA 1 before kymo \t 20210118-173031 FD Curve 4 DNA 1 before kymo \n",
      "\n",
      "8 DNA 1 after kymo \t 20210118-173031 Scan 21 DNA 1 after kymo two DNAs one breaks \n",
      "\n",
      "9 DNA 1 second after kymo \t 20210118-173031 FD Curve 9 DNA 1 second after kymo \n",
      "\n",
      "25 \t 20210118-173031 Scan 70 DNA 6 two DNA caught at least \n",
      "\n"
     ]
    }
   ],
   "source": [
    "filenamedic #, fdcurves\n",
    "for key, item in filenamedic.items():\n",
    "    print(key, '\\t' ,item, '\\n')"
   ]
  },
  {
   "cell_type": "code",
   "execution_count": 78,
   "metadata": {},
   "outputs": [
    {
     "data": {
      "application/vnd.jupyter.widget-view+json": {
       "model_id": "e993383ac78d434fa7f3e30271ed02e7",
       "version_major": 2,
       "version_minor": 0
      },
      "text/plain": [
       "Canvas(toolbar=Toolbar(toolitems=[('Home', 'Reset original view', 'home', 'home'), ('Back', 'Back to previous …"
      ]
     },
     "metadata": {},
     "output_type": "display_data"
    }
   ],
   "source": []
  },
  {
   "cell_type": "code",
   "execution_count": 67,
   "metadata": {},
   "outputs": [
    {
     "data": {
      "application/vnd.jupyter.widget-view+json": {
       "model_id": "91fba89960a24bd0afafafebb65f616a",
       "version_major": 2,
       "version_minor": 0
      },
      "text/plain": [
       "Canvas(toolbar=Toolbar(toolitems=[('Home', 'Reset original view', 'home', 'home'), ('Back', 'Back to previous …"
      ]
     },
     "metadata": {},
     "output_type": "display_data"
    }
   ],
   "source": [
    "# fig = plt.figure();\n",
    "# channel.plot()\n"
   ]
  },
  {
   "cell_type": "code",
   "execution_count": 45,
   "metadata": {},
   "outputs": [
    {
     "data": {
      "application/vnd.jupyter.widget-view+json": {
       "model_id": "456aa68c321c46d1b5a1b2bcc178948f",
       "version_major": 2,
       "version_minor": 0
      },
      "text/plain": [
       "Canvas(toolbar=Toolbar(toolitems=[('Home', 'Reset original view', 'home', 'home'), ('Back', 'Back to previous …"
      ]
     },
     "metadata": {},
     "output_type": "display_data"
    }
   ],
   "source": [
    "# for d in dir(file):\n",
    "#     print(d)\n",
    "k = list(file.markers.keys())\n",
    "# for d in dir(file.force2x):#.data\n",
    "#     print(d)\n",
    "# for d in dir(file.markers[k[0]]):\n",
    "#     print(d)\n",
    "fig = plt.figure();\n",
    "file.force2x.plot()"
   ]
  },
  {
   "cell_type": "code",
   "execution_count": 24,
   "metadata": {},
   "outputs": [
    {
     "data": {
      "application/vnd.jupyter.widget-view+json": {
       "model_id": "0e199eb7c2ed4d35abdd89e3080fe288",
       "version_major": 2,
       "version_minor": 0
      },
      "text/plain": [
       "Canvas(toolbar=Toolbar(toolitems=[('Home', 'Reset original view', 'home', 'home'), ('Back', 'Back to previous …"
      ]
     },
     "metadata": {},
     "output_type": "display_data"
    },
    {
     "data": {
      "application/vnd.jupyter.widget-view+json": {
       "model_id": "04f5d921a4104da89f6b16c111b8f8df",
       "version_major": 2,
       "version_minor": 0
      },
      "text/plain": [
       "Canvas(toolbar=Toolbar(toolitems=[('Home', 'Reset original view', 'home', 'home'), ('Back', 'Back to previous …"
      ]
     },
     "metadata": {},
     "output_type": "display_data"
    },
    {
     "data": {
      "application/vnd.jupyter.widget-view+json": {
       "model_id": "40fb3364003f47f6acbda6a3e8932cdf",
       "version_major": 2,
       "version_minor": 0
      },
      "text/plain": [
       "Canvas(toolbar=Toolbar(toolitems=[('Home', 'Reset original view', 'home', 'home'), ('Back', 'Back to previous …"
      ]
     },
     "metadata": {},
     "output_type": "display_data"
    },
    {
     "data": {
      "text/plain": [
       "[<matplotlib.lines.Line2D at 0x2ac9da27c08>]"
      ]
     },
     "execution_count": 24,
     "metadata": {},
     "output_type": "execute_result"
    }
   ],
   "source": [
    "n = '16'\n",
    "fig = plt.figure();\n",
    "fdcurves[n].plot_scatter()\n",
    "fig = plt.figure();\n",
    "t0 = fdcurves[n].f.timestamps[0]\n",
    "d0 = fdcurves[n].distance1.data[0]\n",
    "plt.plot((fdcurves[n].f.timestamps-t0)/1e9, (fdcurves[n].distance1.data))\n",
    "fig = plt.figure();\n",
    "plt.plot((fdcurves[n].f.timestamps-t0)/1e9, (fdcurves[n].f.data))\n"
   ]
  },
  {
   "cell_type": "code",
   "execution_count": 5,
   "metadata": {},
   "outputs": [
    {
     "data": {
      "application/vnd.jupyter.widget-view+json": {
       "model_id": "800f3d4b92074ef9a9cfc9ae16288fe4",
       "version_major": 2,
       "version_minor": 0
      },
      "text/plain": [
       "Canvas(toolbar=Toolbar(toolitems=[('Home', 'Reset original view', 'home', 'home'), ('Back', 'Back to previous …"
      ]
     },
     "metadata": {},
     "output_type": "display_data"
    },
    {
     "data": {
      "application/vnd.jupyter.widget-view+json": {
       "model_id": "c1f20128ca924bb593f336563b6dc360",
       "version_major": 2,
       "version_minor": 0
      },
      "text/plain": [
       "Canvas(toolbar=Toolbar(toolitems=[('Home', 'Reset original view', 'home', 'home'), ('Back', 'Back to previous …"
      ]
     },
     "metadata": {},
     "output_type": "display_data"
    },
    {
     "data": {
      "application/vnd.jupyter.widget-view+json": {
       "model_id": "080d4354a77a47709d8f858484344aa9",
       "version_major": 2,
       "version_minor": 0
      },
      "text/plain": [
       "Canvas(toolbar=Toolbar(toolitems=[('Home', 'Reset original view', 'home', 'home'), ('Back', 'Back to previous …"
      ]
     },
     "metadata": {},
     "output_type": "display_data"
    },
    {
     "data": {
      "application/vnd.jupyter.widget-view+json": {
       "model_id": "1f46101ddef04b619e935a14f5f30fc4",
       "version_major": 2,
       "version_minor": 0
      },
      "text/plain": [
       "Canvas(toolbar=Toolbar(toolitems=[('Home', 'Reset original view', 'home', 'home'), ('Back', 'Back to previous …"
      ]
     },
     "metadata": {},
     "output_type": "display_data"
    },
    {
     "data": {
      "application/vnd.jupyter.widget-view+json": {
       "model_id": "3af3f480518049b5bdd164112fe79124",
       "version_major": 2,
       "version_minor": 0
      },
      "text/plain": [
       "Canvas(toolbar=Toolbar(toolitems=[('Home', 'Reset original view', 'home', 'home'), ('Back', 'Back to previous …"
      ]
     },
     "metadata": {},
     "output_type": "display_data"
    },
    {
     "data": {
      "application/vnd.jupyter.widget-view+json": {
       "model_id": "57f7d5295eb64d2f8d76163d14867b4a",
       "version_major": 2,
       "version_minor": 0
      },
      "text/plain": [
       "Canvas(toolbar=Toolbar(toolitems=[('Home', 'Reset original view', 'home', 'home'), ('Back', 'Back to previous …"
      ]
     },
     "metadata": {},
     "output_type": "display_data"
    },
    {
     "data": {
      "application/vnd.jupyter.widget-view+json": {
       "model_id": "f483c2905cfb4055b028dcf662dba084",
       "version_major": 2,
       "version_minor": 0
      },
      "text/plain": [
       "Canvas(toolbar=Toolbar(toolitems=[('Home', 'Reset original view', 'home', 'home'), ('Back', 'Back to previous …"
      ]
     },
     "metadata": {},
     "output_type": "display_data"
    },
    {
     "data": {
      "application/vnd.jupyter.widget-view+json": {
       "model_id": "5e66680959304ce8ac708982e94237ae",
       "version_major": 2,
       "version_minor": 0
      },
      "text/plain": [
       "Canvas(toolbar=Toolbar(toolitems=[('Home', 'Reset original view', 'home', 'home'), ('Back', 'Back to previous …"
      ]
     },
     "metadata": {},
     "output_type": "display_data"
    },
    {
     "data": {
      "application/vnd.jupyter.widget-view+json": {
       "model_id": "c31bf171def3451ab0174aac366f4905",
       "version_major": 2,
       "version_minor": 0
      },
      "text/plain": [
       "Canvas(toolbar=Toolbar(toolitems=[('Home', 'Reset original view', 'home', 'home'), ('Back', 'Back to previous …"
      ]
     },
     "metadata": {},
     "output_type": "display_data"
    },
    {
     "data": {
      "application/vnd.jupyter.widget-view+json": {
       "model_id": "39e74cc11d7f482fb252441c9cb602ab",
       "version_major": 2,
       "version_minor": 0
      },
      "text/plain": [
       "Canvas(toolbar=Toolbar(toolitems=[('Home', 'Reset original view', 'home', 'home'), ('Back', 'Back to previous …"
      ]
     },
     "metadata": {},
     "output_type": "display_data"
    },
    {
     "data": {
      "application/vnd.jupyter.widget-view+json": {
       "model_id": "04dd26651eac406d81fea60e8848b3a3",
       "version_major": 2,
       "version_minor": 0
      },
      "text/plain": [
       "Canvas(toolbar=Toolbar(toolitems=[('Home', 'Reset original view', 'home', 'home'), ('Back', 'Back to previous …"
      ]
     },
     "metadata": {},
     "output_type": "display_data"
    },
    {
     "data": {
      "application/vnd.jupyter.widget-view+json": {
       "model_id": "b85ca3d683764fdb963a44c9b59b2533",
       "version_major": 2,
       "version_minor": 0
      },
      "text/plain": [
       "Canvas(toolbar=Toolbar(toolitems=[('Home', 'Reset original view', 'home', 'home'), ('Back', 'Back to previous …"
      ]
     },
     "metadata": {},
     "output_type": "display_data"
    },
    {
     "data": {
      "application/vnd.jupyter.widget-view+json": {
       "model_id": "654f86bb89e147469a81e980ab791810",
       "version_major": 2,
       "version_minor": 0
      },
      "text/plain": [
       "Canvas(toolbar=Toolbar(toolitems=[('Home', 'Reset original view', 'home', 'home'), ('Back', 'Back to previous …"
      ]
     },
     "metadata": {},
     "output_type": "display_data"
    },
    {
     "data": {
      "application/vnd.jupyter.widget-view+json": {
       "model_id": "ad0d83c3f734484598de765038446dc4",
       "version_major": 2,
       "version_minor": 0
      },
      "text/plain": [
       "Canvas(toolbar=Toolbar(toolitems=[('Home', 'Reset original view', 'home', 'home'), ('Back', 'Back to previous …"
      ]
     },
     "metadata": {},
     "output_type": "display_data"
    },
    {
     "data": {
      "application/vnd.jupyter.widget-view+json": {
       "model_id": "aec5c29be54e4f2cb6ad1e0a6347a147",
       "version_major": 2,
       "version_minor": 0
      },
      "text/plain": [
       "Canvas(toolbar=Toolbar(toolitems=[('Home', 'Reset original view', 'home', 'home'), ('Back', 'Back to previous …"
      ]
     },
     "metadata": {},
     "output_type": "display_data"
    },
    {
     "data": {
      "application/vnd.jupyter.widget-view+json": {
       "model_id": "d9a7c1c1e64b49089669bd951d695043",
       "version_major": 2,
       "version_minor": 0
      },
      "text/plain": [
       "Canvas(toolbar=Toolbar(toolitems=[('Home', 'Reset original view', 'home', 'home'), ('Back', 'Back to previous …"
      ]
     },
     "metadata": {},
     "output_type": "display_data"
    },
    {
     "data": {
      "application/vnd.jupyter.widget-view+json": {
       "model_id": "d3e53e3270684efc8ca29bbe1fac296c",
       "version_major": 2,
       "version_minor": 0
      },
      "text/plain": [
       "Canvas(toolbar=Toolbar(toolitems=[('Home', 'Reset original view', 'home', 'home'), ('Back', 'Back to previous …"
      ]
     },
     "metadata": {},
     "output_type": "display_data"
    },
    {
     "data": {
      "application/vnd.jupyter.widget-view+json": {
       "model_id": "c70d4262854a4afebdeb050a9744301c",
       "version_major": 2,
       "version_minor": 0
      },
      "text/plain": [
       "Canvas(toolbar=Toolbar(toolitems=[('Home', 'Reset original view', 'home', 'home'), ('Back', 'Back to previous …"
      ]
     },
     "metadata": {},
     "output_type": "display_data"
    },
    {
     "data": {
      "application/vnd.jupyter.widget-view+json": {
       "model_id": "6ff3230bfbb742f9b06671585b7480b1",
       "version_major": 2,
       "version_minor": 0
      },
      "text/plain": [
       "Canvas(toolbar=Toolbar(toolitems=[('Home', 'Reset original view', 'home', 'home'), ('Back', 'Back to previous …"
      ]
     },
     "metadata": {},
     "output_type": "display_data"
    },
    {
     "data": {
      "application/vnd.jupyter.widget-view+json": {
       "model_id": "3ab8714d99ff426ca0b2716e00195dbd",
       "version_major": 2,
       "version_minor": 0
      },
      "text/plain": [
       "Canvas(toolbar=Toolbar(toolitems=[('Home', 'Reset original view', 'home', 'home'), ('Back', 'Back to previous …"
      ]
     },
     "metadata": {},
     "output_type": "display_data"
    },
    {
     "data": {
      "application/vnd.jupyter.widget-view+json": {
       "model_id": "a447556ca43a4722a9ad5e139bf82f2b",
       "version_major": 2,
       "version_minor": 0
      },
      "text/plain": [
       "Canvas(toolbar=Toolbar(toolitems=[('Home', 'Reset original view', 'home', 'home'), ('Back', 'Back to previous …"
      ]
     },
     "metadata": {},
     "output_type": "display_data"
    },
    {
     "data": {
      "application/vnd.jupyter.widget-view+json": {
       "model_id": "95a416f8ce594634b80a8338bef8c218",
       "version_major": 2,
       "version_minor": 0
      },
      "text/plain": [
       "Canvas(toolbar=Toolbar(toolitems=[('Home', 'Reset original view', 'home', 'home'), ('Back', 'Back to previous …"
      ]
     },
     "metadata": {},
     "output_type": "display_data"
    },
    {
     "data": {
      "application/vnd.jupyter.widget-view+json": {
       "model_id": "2b58aa9c80e84a1aa0e2432ff308fb2d",
       "version_major": 2,
       "version_minor": 0
      },
      "text/plain": [
       "Canvas(toolbar=Toolbar(toolitems=[('Home', 'Reset original view', 'home', 'home'), ('Back', 'Back to previous …"
      ]
     },
     "metadata": {},
     "output_type": "display_data"
    },
    {
     "data": {
      "application/vnd.jupyter.widget-view+json": {
       "model_id": "efcba8b4c00f43e98fafce3a200a925d",
       "version_major": 2,
       "version_minor": 0
      },
      "text/plain": [
       "Canvas(toolbar=Toolbar(toolitems=[('Home', 'Reset original view', 'home', 'home'), ('Back', 'Back to previous …"
      ]
     },
     "metadata": {},
     "output_type": "display_data"
    },
    {
     "data": {
      "application/vnd.jupyter.widget-view+json": {
       "model_id": "f29b54efd0b347c5b3410e4f04873a5e",
       "version_major": 2,
       "version_minor": 0
      },
      "text/plain": [
       "Canvas(toolbar=Toolbar(toolitems=[('Home', 'Reset original view', 'home', 'home'), ('Back', 'Back to previous …"
      ]
     },
     "metadata": {},
     "output_type": "display_data"
    },
    {
     "data": {
      "application/vnd.jupyter.widget-view+json": {
       "model_id": "2a9504f2440a45cfbef9bec5cef827e5",
       "version_major": 2,
       "version_minor": 0
      },
      "text/plain": [
       "Canvas(toolbar=Toolbar(toolitems=[('Home', 'Reset original view', 'home', 'home'), ('Back', 'Back to previous …"
      ]
     },
     "metadata": {},
     "output_type": "display_data"
    },
    {
     "data": {
      "application/vnd.jupyter.widget-view+json": {
       "model_id": "5ba5d3b9ec684bde9b253bfef0930f84",
       "version_major": 2,
       "version_minor": 0
      },
      "text/plain": [
       "Canvas(toolbar=Toolbar(toolitems=[('Home', 'Reset original view', 'home', 'home'), ('Back', 'Back to previous …"
      ]
     },
     "metadata": {},
     "output_type": "display_data"
    },
    {
     "data": {
      "application/vnd.jupyter.widget-view+json": {
       "model_id": "7643c53fc4c8402c8dd4cc1f3df6b171",
       "version_major": 2,
       "version_minor": 0
      },
      "text/plain": [
       "Canvas(toolbar=Toolbar(toolitems=[('Home', 'Reset original view', 'home', 'home'), ('Back', 'Back to previous …"
      ]
     },
     "metadata": {},
     "output_type": "display_data"
    },
    {
     "data": {
      "application/vnd.jupyter.widget-view+json": {
       "model_id": "69050276fc554cd8917c04657a2ba569",
       "version_major": 2,
       "version_minor": 0
      },
      "text/plain": [
       "Canvas(toolbar=Toolbar(toolitems=[('Home', 'Reset original view', 'home', 'home'), ('Back', 'Back to previous …"
      ]
     },
     "metadata": {},
     "output_type": "display_data"
    },
    {
     "data": {
      "application/vnd.jupyter.widget-view+json": {
       "model_id": "410c1d94ffd94540bf655b0a4065a37c",
       "version_major": 2,
       "version_minor": 0
      },
      "text/plain": [
       "Canvas(toolbar=Toolbar(toolitems=[('Home', 'Reset original view', 'home', 'home'), ('Back', 'Back to previous …"
      ]
     },
     "metadata": {},
     "output_type": "display_data"
    },
    {
     "data": {
      "application/vnd.jupyter.widget-view+json": {
       "model_id": "615e480670b8400eb298f506231a5132",
       "version_major": 2,
       "version_minor": 0
      },
      "text/plain": [
       "Canvas(toolbar=Toolbar(toolitems=[('Home', 'Reset original view', 'home', 'home'), ('Back', 'Back to previous …"
      ]
     },
     "metadata": {},
     "output_type": "display_data"
    },
    {
     "data": {
      "application/vnd.jupyter.widget-view+json": {
       "model_id": "6932fa886a854127876da7075e0f7c88",
       "version_major": 2,
       "version_minor": 0
      },
      "text/plain": [
       "Canvas(toolbar=Toolbar(toolitems=[('Home', 'Reset original view', 'home', 'home'), ('Back', 'Back to previous …"
      ]
     },
     "metadata": {},
     "output_type": "display_data"
    },
    {
     "data": {
      "application/vnd.jupyter.widget-view+json": {
       "model_id": "b252c28f6529466b98584c917056add9",
       "version_major": 2,
       "version_minor": 0
      },
      "text/plain": [
       "Canvas(toolbar=Toolbar(toolitems=[('Home', 'Reset original view', 'home', 'home'), ('Back', 'Back to previous …"
      ]
     },
     "metadata": {},
     "output_type": "display_data"
    },
    {
     "data": {
      "application/vnd.jupyter.widget-view+json": {
       "model_id": "de0fb02beaa44b5d8c096c077d1f42c2",
       "version_major": 2,
       "version_minor": 0
      },
      "text/plain": [
       "Canvas(toolbar=Toolbar(toolitems=[('Home', 'Reset original view', 'home', 'home'), ('Back', 'Back to previous …"
      ]
     },
     "metadata": {},
     "output_type": "display_data"
    },
    {
     "data": {
      "application/vnd.jupyter.widget-view+json": {
       "model_id": "1efcdccc87234dd28e058d48a247c147",
       "version_major": 2,
       "version_minor": 0
      },
      "text/plain": [
       "Canvas(toolbar=Toolbar(toolitems=[('Home', 'Reset original view', 'home', 'home'), ('Back', 'Back to previous …"
      ]
     },
     "metadata": {},
     "output_type": "display_data"
    },
    {
     "data": {
      "application/vnd.jupyter.widget-view+json": {
       "model_id": "00a541e3cca641219141bd77a4c75ebc",
       "version_major": 2,
       "version_minor": 0
      },
      "text/plain": [
       "Canvas(toolbar=Toolbar(toolitems=[('Home', 'Reset original view', 'home', 'home'), ('Back', 'Back to previous …"
      ]
     },
     "metadata": {},
     "output_type": "display_data"
    },
    {
     "data": {
      "application/vnd.jupyter.widget-view+json": {
       "model_id": "4b6c180b3f8145b8af1120b32d031c8e",
       "version_major": 2,
       "version_minor": 0
      },
      "text/plain": [
       "Canvas(toolbar=Toolbar(toolitems=[('Home', 'Reset original view', 'home', 'home'), ('Back', 'Back to previous …"
      ]
     },
     "metadata": {},
     "output_type": "display_data"
    },
    {
     "data": {
      "application/vnd.jupyter.widget-view+json": {
       "model_id": "7b7010461ff44dc4a01d9f0e74370970",
       "version_major": 2,
       "version_minor": 0
      },
      "text/plain": [
       "Canvas(toolbar=Toolbar(toolitems=[('Home', 'Reset original view', 'home', 'home'), ('Back', 'Back to previous …"
      ]
     },
     "metadata": {},
     "output_type": "display_data"
    },
    {
     "data": {
      "application/vnd.jupyter.widget-view+json": {
       "model_id": "a575a63979664f7cbd4588fd9d20c304",
       "version_major": 2,
       "version_minor": 0
      },
      "text/plain": [
       "Canvas(toolbar=Toolbar(toolitems=[('Home', 'Reset original view', 'home', 'home'), ('Back', 'Back to previous …"
      ]
     },
     "metadata": {},
     "output_type": "display_data"
    },
    {
     "data": {
      "application/vnd.jupyter.widget-view+json": {
       "model_id": "071c719f2bce46bc92f0836651e0300a",
       "version_major": 2,
       "version_minor": 0
      },
      "text/plain": [
       "Canvas(toolbar=Toolbar(toolitems=[('Home', 'Reset original view', 'home', 'home'), ('Back', 'Back to previous …"
      ]
     },
     "metadata": {},
     "output_type": "display_data"
    },
    {
     "data": {
      "application/vnd.jupyter.widget-view+json": {
       "model_id": "4ddd733bb11a49569f5679c26c8d9f75",
       "version_major": 2,
       "version_minor": 0
      },
      "text/plain": [
       "Canvas(toolbar=Toolbar(toolitems=[('Home', 'Reset original view', 'home', 'home'), ('Back', 'Back to previous …"
      ]
     },
     "metadata": {},
     "output_type": "display_data"
    },
    {
     "data": {
      "application/vnd.jupyter.widget-view+json": {
       "model_id": "cbb0d86fd8ca44388c32c469173d3672",
       "version_major": 2,
       "version_minor": 0
      },
      "text/plain": [
       "Canvas(toolbar=Toolbar(toolitems=[('Home', 'Reset original view', 'home', 'home'), ('Back', 'Back to previous …"
      ]
     },
     "metadata": {},
     "output_type": "display_data"
    },
    {
     "data": {
      "application/vnd.jupyter.widget-view+json": {
       "model_id": "7f700b5b740544f0bf59f78eb8e84ae3",
       "version_major": 2,
       "version_minor": 0
      },
      "text/plain": [
       "Canvas(toolbar=Toolbar(toolitems=[('Home', 'Reset original view', 'home', 'home'), ('Back', 'Back to previous …"
      ]
     },
     "metadata": {},
     "output_type": "display_data"
    },
    {
     "data": {
      "application/vnd.jupyter.widget-view+json": {
       "model_id": "2e5986d1b3144f3d9789ec4c33ca023d",
       "version_major": 2,
       "version_minor": 0
      },
      "text/plain": [
       "Canvas(toolbar=Toolbar(toolitems=[('Home', 'Reset original view', 'home', 'home'), ('Back', 'Back to previous …"
      ]
     },
     "metadata": {},
     "output_type": "display_data"
    },
    {
     "data": {
      "application/vnd.jupyter.widget-view+json": {
       "model_id": "ecb4005d667f48c094129f63409655dd",
       "version_major": 2,
       "version_minor": 0
      },
      "text/plain": [
       "Canvas(toolbar=Toolbar(toolitems=[('Home', 'Reset original view', 'home', 'home'), ('Back', 'Back to previous …"
      ]
     },
     "metadata": {},
     "output_type": "display_data"
    },
    {
     "data": {
      "application/vnd.jupyter.widget-view+json": {
       "model_id": "db4ae71a2b7d46f2ae025204a8b8f343",
       "version_major": 2,
       "version_minor": 0
      },
      "text/plain": [
       "Canvas(toolbar=Toolbar(toolitems=[('Home', 'Reset original view', 'home', 'home'), ('Back', 'Back to previous …"
      ]
     },
     "metadata": {},
     "output_type": "display_data"
    },
    {
     "data": {
      "application/vnd.jupyter.widget-view+json": {
       "model_id": "02ebcafc18804fa2bb88ec62fdc298cd",
       "version_major": 2,
       "version_minor": 0
      },
      "text/plain": [
       "Canvas(toolbar=Toolbar(toolitems=[('Home', 'Reset original view', 'home', 'home'), ('Back', 'Back to previous …"
      ]
     },
     "metadata": {},
     "output_type": "display_data"
    },
    {
     "data": {
      "application/vnd.jupyter.widget-view+json": {
       "model_id": "72cfbc5ccb0c46489334e220385fbb0f",
       "version_major": 2,
       "version_minor": 0
      },
      "text/plain": [
       "Canvas(toolbar=Toolbar(toolitems=[('Home', 'Reset original view', 'home', 'home'), ('Back', 'Back to previous …"
      ]
     },
     "metadata": {},
     "output_type": "display_data"
    },
    {
     "data": {
      "application/vnd.jupyter.widget-view+json": {
       "model_id": "2ae3f40d8f0e4f10896567b4360bcab9",
       "version_major": 2,
       "version_minor": 0
      },
      "text/plain": [
       "Canvas(toolbar=Toolbar(toolitems=[('Home', 'Reset original view', 'home', 'home'), ('Back', 'Back to previous …"
      ]
     },
     "metadata": {},
     "output_type": "display_data"
    },
    {
     "data": {
      "application/vnd.jupyter.widget-view+json": {
       "model_id": "3f057edea8ea4d6fb9d56ac66c05f6bb",
       "version_major": 2,
       "version_minor": 0
      },
      "text/plain": [
       "Canvas(toolbar=Toolbar(toolitems=[('Home', 'Reset original view', 'home', 'home'), ('Back', 'Back to previous …"
      ]
     },
     "metadata": {},
     "output_type": "display_data"
    },
    {
     "data": {
      "application/vnd.jupyter.widget-view+json": {
       "model_id": "0bb3341e07e743d5bcf0b0b86f74dab6",
       "version_major": 2,
       "version_minor": 0
      },
      "text/plain": [
       "Canvas(toolbar=Toolbar(toolitems=[('Home', 'Reset original view', 'home', 'home'), ('Back', 'Back to previous …"
      ]
     },
     "metadata": {},
     "output_type": "display_data"
    },
    {
     "data": {
      "application/vnd.jupyter.widget-view+json": {
       "model_id": "28cdfb9c9e5649ac9659bf7d35a0f672",
       "version_major": 2,
       "version_minor": 0
      },
      "text/plain": [
       "Canvas(toolbar=Toolbar(toolitems=[('Home', 'Reset original view', 'home', 'home'), ('Back', 'Back to previous …"
      ]
     },
     "metadata": {},
     "output_type": "display_data"
    },
    {
     "data": {
      "application/vnd.jupyter.widget-view+json": {
       "model_id": "81f0a48c268f48fdbf1d7d4bf0208fd5",
       "version_major": 2,
       "version_minor": 0
      },
      "text/plain": [
       "Canvas(toolbar=Toolbar(toolitems=[('Home', 'Reset original view', 'home', 'home'), ('Back', 'Back to previous …"
      ]
     },
     "metadata": {},
     "output_type": "display_data"
    },
    {
     "data": {
      "application/vnd.jupyter.widget-view+json": {
       "model_id": "af4761184e5340cdb03dbbad37c88ffb",
       "version_major": 2,
       "version_minor": 0
      },
      "text/plain": [
       "Canvas(toolbar=Toolbar(toolitems=[('Home', 'Reset original view', 'home', 'home'), ('Back', 'Back to previous …"
      ]
     },
     "metadata": {},
     "output_type": "display_data"
    },
    {
     "data": {
      "application/vnd.jupyter.widget-view+json": {
       "model_id": "4aa4a2e8fc504e7a8ad50eb02e1735ff",
       "version_major": 2,
       "version_minor": 0
      },
      "text/plain": [
       "Canvas(toolbar=Toolbar(toolitems=[('Home', 'Reset original view', 'home', 'home'), ('Back', 'Back to previous …"
      ]
     },
     "metadata": {},
     "output_type": "display_data"
    },
    {
     "data": {
      "application/vnd.jupyter.widget-view+json": {
       "model_id": "517aa9d1dae34194a4c1d63b8b240116",
       "version_major": 2,
       "version_minor": 0
      },
      "text/plain": [
       "Canvas(toolbar=Toolbar(toolitems=[('Home', 'Reset original view', 'home', 'home'), ('Back', 'Back to previous …"
      ]
     },
     "metadata": {},
     "output_type": "display_data"
    },
    {
     "data": {
      "application/vnd.jupyter.widget-view+json": {
       "model_id": "b3fcee79fc8b4f3295f87fc383512d49",
       "version_major": 2,
       "version_minor": 0
      },
      "text/plain": [
       "Canvas(toolbar=Toolbar(toolitems=[('Home', 'Reset original view', 'home', 'home'), ('Back', 'Back to previous …"
      ]
     },
     "metadata": {},
     "output_type": "display_data"
    },
    {
     "data": {
      "application/vnd.jupyter.widget-view+json": {
       "model_id": "a87e4bfd6b7842c0b14d1274eab64f1f",
       "version_major": 2,
       "version_minor": 0
      },
      "text/plain": [
       "Canvas(toolbar=Toolbar(toolitems=[('Home', 'Reset original view', 'home', 'home'), ('Back', 'Back to previous …"
      ]
     },
     "metadata": {},
     "output_type": "display_data"
    },
    {
     "data": {
      "application/vnd.jupyter.widget-view+json": {
       "model_id": "c180ce40f56b439694591cd51c8a78dc",
       "version_major": 2,
       "version_minor": 0
      },
      "text/plain": [
       "Canvas(toolbar=Toolbar(toolitems=[('Home', 'Reset original view', 'home', 'home'), ('Back', 'Back to previous …"
      ]
     },
     "metadata": {},
     "output_type": "display_data"
    },
    {
     "data": {
      "application/vnd.jupyter.widget-view+json": {
       "model_id": "c1932ee32cf94525a6c0d21798627ae4",
       "version_major": 2,
       "version_minor": 0
      },
      "text/plain": [
       "Canvas(toolbar=Toolbar(toolitems=[('Home', 'Reset original view', 'home', 'home'), ('Back', 'Back to previous …"
      ]
     },
     "metadata": {},
     "output_type": "display_data"
    },
    {
     "data": {
      "application/vnd.jupyter.widget-view+json": {
       "model_id": "cdf32562a0164efbbbd044e635e11813",
       "version_major": 2,
       "version_minor": 0
      },
      "text/plain": [
       "Canvas(toolbar=Toolbar(toolitems=[('Home', 'Reset original view', 'home', 'home'), ('Back', 'Back to previous …"
      ]
     },
     "metadata": {},
     "output_type": "display_data"
    },
    {
     "data": {
      "application/vnd.jupyter.widget-view+json": {
       "model_id": "8971d897f89041a88ec8c93213dedb79",
       "version_major": 2,
       "version_minor": 0
      },
      "text/plain": [
       "Canvas(toolbar=Toolbar(toolitems=[('Home', 'Reset original view', 'home', 'home'), ('Back', 'Back to previous …"
      ]
     },
     "metadata": {},
     "output_type": "display_data"
    },
    {
     "data": {
      "application/vnd.jupyter.widget-view+json": {
       "model_id": "38901da229f244f18ad012fbf194f9cc",
       "version_major": 2,
       "version_minor": 0
      },
      "text/plain": [
       "Canvas(toolbar=Toolbar(toolitems=[('Home', 'Reset original view', 'home', 'home'), ('Back', 'Back to previous …"
      ]
     },
     "metadata": {},
     "output_type": "display_data"
    },
    {
     "data": {
      "application/vnd.jupyter.widget-view+json": {
       "model_id": "b374ac18b3774f97a6f8c84cb3c77474",
       "version_major": 2,
       "version_minor": 0
      },
      "text/plain": [
       "Canvas(toolbar=Toolbar(toolitems=[('Home', 'Reset original view', 'home', 'home'), ('Back', 'Back to previous …"
      ]
     },
     "metadata": {},
     "output_type": "display_data"
    },
    {
     "data": {
      "application/vnd.jupyter.widget-view+json": {
       "model_id": "8df93abe0dd64e3895e263c98fffd131",
       "version_major": 2,
       "version_minor": 0
      },
      "text/plain": [
       "Canvas(toolbar=Toolbar(toolitems=[('Home', 'Reset original view', 'home', 'home'), ('Back', 'Back to previous …"
      ]
     },
     "metadata": {},
     "output_type": "display_data"
    },
    {
     "data": {
      "application/vnd.jupyter.widget-view+json": {
       "model_id": "aa082a73a5524b2aa6a1642acf25f295",
       "version_major": 2,
       "version_minor": 0
      },
      "text/plain": [
       "Canvas(toolbar=Toolbar(toolitems=[('Home', 'Reset original view', 'home', 'home'), ('Back', 'Back to previous …"
      ]
     },
     "metadata": {},
     "output_type": "display_data"
    }
   ],
   "source": [
    "a = 1;\n",
    "for key, curve_set in selector.fdcurves.items():\n",
    "    for fdcurve in curve_set:\n",
    "        fname = a\n",
    "        fig = plt.figure();\n",
    "        fdcurve.plot_scatter(); \n",
    "        fig = plt.figure();\n",
    "        t0 = fdcurve.f.timestamps[0]\n",
    "        d0 = fdcurve.distance1.data[0]\n",
    "        plt.plot((fdcurve.f.timestamps-t0)/1e9, (fdcurve.distance1.data)*1000)"
   ]
  },
  {
   "cell_type": "code",
   "execution_count": null,
   "metadata": {},
   "outputs": [],
   "source": [
    "%matplotlib inline\n",
    "fd_dict = {'7': 2, '9': 1, '11': 1, '12': 0, '13': 0}\n",
    "key_list =[]\n",
    "val_list =[]\n",
    "\n",
    "for key, value in fd_dict.items(): \n",
    "    plt.figure()\n",
    "    t0 = selector.fdcurves[key][value].f.timestamps[0]\n",
    "    d0 = selector.fdcurves[key][value].distance1.data[0]\n",
    "    plt.plot((selector.fdcurves[key][value].f.timestamps-t0)/1e9, (selector.fdcurves[key][value].distance1.data)*1000)\n",
    "    plt.title(filenamedic[key])\n",
    "    plt.ylabel('Distance (nm)')\n",
    "    plt.xlabel('Time (s)')\n",
    "    key_list.append(key)\n",
    "    val_list.append(value)\n",
    "#     selector.fdcurves[key][value].plot_scatter()\n"
   ]
  },
  {
   "cell_type": "code",
   "execution_count": null,
   "metadata": {},
   "outputs": [],
   "source": [
    "from scipy.stats import ttest_ind\n",
    "import matplotlib.pyplot as plt\n",
    "import numpy as np\n",
    "%matplotlib inline\n",
    "index = 3\n",
    "key = key_list[index]\n",
    "value = val_list[index]\n",
    "cropping = []\n",
    "\n",
    "# data = np.concatenate([np.random.normal(7, 2, 93), np.random.normal(30, 2, 151), np.random.normal(50, 2, 151)])\n",
    "data = selector.fdcurves[key][value].distance1[:].data\n",
    "t0 = selector.fdcurves[key][value].f.timestamps[0]\n",
    "t= (selector.fdcurves[key][value].f[:].timestamps-t0)/1e9\n",
    "         \n",
    "ts = []\n",
    "for i in np.arange(1, len(data)-2):\n",
    "    a = data[:i+1]\n",
    "    b = data[i+1:]\n",
    "    ts.append(ttest_ind(a, b, equal_var=False))\n",
    "ts = np.array(ts)\n",
    "plt.plot(t, data)\n",
    "plt.axvline(t[np.argmin(ts[:, 0])] + .1, color='red')\n",
    "plt.show()\n",
    "\n",
    "add_this = [t[np.argmin(ts[:, 0])] + .1]\n",
    "# np.argmin(ts[:, 0]), ts, type(t[np.argmin(ts[:, 0])] + .1), type(add_this)"
   ]
  },
  {
   "cell_type": "code",
   "execution_count": null,
   "metadata": {},
   "outputs": [],
   "source": [
    "# dict_thresholds = {}\n",
    "\n",
    "# dict_thresholds[index] = add_this\n",
    "dict_thresholds[index].append(add_this)\n",
    "add_this, dict_thresholds"
   ]
  },
  {
   "cell_type": "code",
   "execution_count": null,
   "metadata": {},
   "outputs": [],
   "source": [
    "dict_keys = list(dict_thresholds.keys())\n",
    "dict_vals = list(dict_thresholds.values())\n",
    "dict_keys, str(round(dict_vals[1][0]))\n",
    "len(dict_vals[index-1]) == 2, index, str(dict_vals[index-1][1][0])"
   ]
  },
  {
   "cell_type": "code",
   "execution_count": null,
   "metadata": {},
   "outputs": [],
   "source": [
    "index = 4\n",
    "key = key_list[index]\n",
    "value = val_list[index]\n",
    "fig, ax = plt.subplots()\n",
    "t0 = selector.fdcurves[key][value].f.timestamps[0]\n",
    "d0 = selector.fdcurves[key][value].distance1.data[0]\n",
    "plt.plot((selector.fdcurves[key][value].f.timestamps-t0)/1e9, (selector.fdcurves[key][value].distance1.data)*1000, zorder=0)\n",
    "\n",
    "dict_keys = list(dict_thresholds.keys())\n",
    "dict_vals = list(dict_thresholds.values())\n",
    "\n",
    "if len(dict_vals[index-1]) == 1:\n",
    "    plt.title(filenamedic[key])\n",
    "    plt.ylabel('Distance (nm)')\n",
    "    plt.xlabel('Time (s)')\n",
    "    y1 = np.mean(selector.fdcurves[key][value].distance1[:str(dict_vals[index-1][0])+'s'].data)\n",
    "    y2 = np.mean(selector.fdcurves[key][value].distance1[str(dict_vals[index-1][0])+'s':].data)\n",
    "    l = (selector.fdcurves[key][value].f.timestamps[-1]-t0)/1e9\n",
    "    plt.hlines(y1*1000, 0, l, color = 'red',zorder=1, linestyles = 'dashed')\n",
    "    plt.hlines(y2*1000, 0, l, color = 'red',zorder=1, linestyles = 'dashed')\n",
    "    print('mean difference in position:', np.round((y2-y1)*1000,decimals=1), 'nm')\n",
    "    \n",
    "if len(dict_vals[index-1]) == 2:\n",
    "    plt.title(filenamedic[key])\n",
    "    plt.ylabel('Distance (nm)')\n",
    "    plt.xlabel('Time (s)')\n",
    "    y1 = np.mean(selector.fdcurves[key][value].distance1[:str(dict_vals[index-1][0])+'s'].data)\n",
    "    y2 = np.mean(selector.fdcurves[key][value].distance1[str(dict_vals[index-1][0])+'s':str(dict_vals[index-1][1][0])+'s'].data)\n",
    "    y3 = np.mean(selector.fdcurves[key][value].distance1[str(dict_vals[index-1][1][0])+'s':].data)\n",
    "    l = (selector.fdcurves[key][value].f.timestamps[-1]-t0)/1e9\n",
    "    plt.hlines(y1*1000, 0, l, color = 'red',zorder=1, linestyles = 'dashed')\n",
    "    plt.hlines(y2*1000, 0, l, color = 'red',zorder=1, linestyles = 'dashed')\n",
    "    plt.hlines(y3*1000, 0, l, color = 'red',zorder=1, linestyles = 'dashed')\n",
    "    print('mean difference in position:', np.round((y2-y1)*1000,decimals=1), 'nm',  np.round((y3-y2)*1000,decimals=1), 'nm')\n",
    "    \n",
    "if len(dict_vals[index-1]) > 3:\n",
    "    plt.title(filenamedic[key])\n",
    "    plt.ylabel('Distance (nm)')\n",
    "    plt.xlabel('Time (s)')\n",
    "    y0 = np.mean(selector.fdcurves[key][value].distance1[:str(dict_vals[index-1][1][0])+'s'].data)\n",
    "    y1 = np.mean(selector.fdcurves[key][value].distance1[str(dict_vals[index-1][2][0])+'s':str(dict_vals[index-1][3][0])+'s'].data)\n",
    "    y2 = np.mean(selector.fdcurves[key][value].distance1[str(dict_vals[index-1][3][0])+'s':str(dict_vals[index-1][4][0])+'s'].data)\n",
    "    y3 = np.mean(selector.fdcurves[key][value].distance1[str(dict_vals[index-1][4][0])+'s':].data)\n",
    "    l = (selector.fdcurves[key][value].f.timestamps[-1]-t0)/1e9\n",
    "    plt.hlines(y0*1000, 0, l, color = 'red',zorder=1, linestyles = 'dashed')\n",
    "    plt.hlines(y1*1000, 0, l, color = 'red',zorder=1, linestyles = 'dashed')\n",
    "    plt.hlines(y2*1000, 0, l, color = 'red',zorder=1, linestyles = 'dashed')\n",
    "    plt.hlines(y3*1000, 0, l, color = 'red',zorder=1, linestyles = 'dashed')\n",
    "    print('mean difference in position:', np.round((y1-y0)*1000,decimals=1), 'nm', np.round((y2-y1)*1000,decimals=1), 'nm',  np.round((y3-y2)*1000,decimals=1), 'nm')"
   ]
  },
  {
   "cell_type": "code",
   "execution_count": null,
   "metadata": {},
   "outputs": [],
   "source": [
    "\n",
    "\n",
    "dir_root = r'C:\\Users\\carca\\OneDrive - Johns Hopkins University\\Ha_CCarcamo\\Data_Analysis\\Projects\\SWR1 Project\\lambda nucleosome array\\2020-11-21\\Marker Files'+'/'\n",
    "files = glob.glob(dir_root + '*Marker*.h5')        \n",
    "for file in files:\n",
    "    print(file[len(dir_root):])\n",
    "file_to_open = dir_root + input(\"Which file would you like:~copy and paste the file name~\")"
   ]
  },
  {
   "cell_type": "code",
   "execution_count": null,
   "metadata": {},
   "outputs": [],
   "source": [
    "import glob\n",
    "from lumicks import pylake\n",
    "import matplotlib.pyplot as plt\n",
    "import pandas as pd\n",
    "def make_df(file, bp_scale=0.3):\n",
    "    \"\"\"Turn Lumicks file from file name to pandas DataFrame.\"\"\"\n",
    "    f = pylake.File(file)\n",
    "    t0 = f.distance1.timestamps[0]\n",
    "    time = (f.distance1.timestamps - t0)/1e9\n",
    "    df = pd.DataFrame()\n",
    "    df['Time (s)'] = time\n",
    "    df['Distance (µm)'] = f.distance1.data\n",
    "    df['Distance (nm)'] = df['Distance (µm)']*1000\n",
    "    df['Force (pN)'] = f.downsampled_force2.data # Claudia's Change to force 2 data\n",
    "    df['Distance (bp)'] = df['Distance (nm)']/bp_scale\n",
    "    return(df)\n",
    "\n",
    "df = make_df(file_to_open)"
   ]
  },
  {
   "cell_type": "code",
   "execution_count": null,
   "metadata": {},
   "outputs": [],
   "source": [
    "\n"
   ]
  }
 ],
 "metadata": {
  "kernelspec": {
   "display_name": "Python 3",
   "language": "python",
   "name": "python3"
  },
  "language_info": {
   "codemirror_mode": {
    "name": "ipython",
    "version": 3
   },
   "file_extension": ".py",
   "mimetype": "text/x-python",
   "name": "python",
   "nbconvert_exporter": "python",
   "pygments_lexer": "ipython3",
   "version": "3.7.8"
  }
 },
 "nbformat": 4,
 "nbformat_minor": 4
}
