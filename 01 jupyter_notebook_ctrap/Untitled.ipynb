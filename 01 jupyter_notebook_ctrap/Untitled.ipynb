{
 "cells": [
  {
   "cell_type": "code",
   "execution_count": 3,
   "metadata": {},
   "outputs": [
    {
     "name": "stdout",
     "output_type": "stream",
     "text": [
      "167\n",
      "20210409-190231 FD Curve 1 DNA 1\n",
      "20210409-202346 FD Curve 1 DNA 1\n",
      "20210409-202614 FD Curve 2 DNA 2\n",
      "20210409-203448 FD Curve 19 DNA 2 50pN then break\n",
      "20210409-203536 FD Curve 4 DNA 3\n",
      "20210409-203753 FD Curve 5 DNA 3 Cas9 50pN break\n",
      "20210409-203954 FD Curve 3 DNA 4\n",
      "20210409-204148 FD Curve 20 DNA 4 50pN break\n",
      "20210409-204337 FD Curve 6 DNA 5\n",
      "20210409-204601 FD Curve 21 DNA 5 Cas9 break\n",
      "20210409-204754 FD Curve 22 DNA 6\n",
      "20210409-205042 FD Curve 23 DNA 6 unbind\n",
      "20210409-205220 FD Curve 7 DNA 7\n",
      "20210409-205504 FD Curve 24 DNA 7 Cas9 cleavage 40pN\n",
      "20210409-205555 FD Curve 8 DNA 8\n",
      "20210409-210449 FD Curve 25 DNA 8 break\n",
      "20210409-210733 FD Curve 9 DNA 9\n",
      "20210409-210815 FD Curve 26 DNA 9 break\n",
      "20210409-210927 FD Curve 11 DNA 10\n",
      "20210409-211140 FD Curve 27 DNA 10 breaks\n",
      "20210409-211422 FD Curve 13 DNA 11\n",
      "20210409-211809 FD Curve 29 DNA 11 50pN break\n",
      "20210409-211818 FD Curve 18 DNA 1 5pN\n",
      "20210409-211821 FD Curve 17 DNA 1 50pN\n"
     ]
    }
   ],
   "source": [
    "import matplotlib.pyplot as plt\n",
    "import lumicks.pylake as lk\n",
    "import numpy as np\n",
    "import glob\n",
    "%matplotlib notebook\n",
    "newlist = []\n",
    "directory = r'C:\\Users\\carca\\OneDrive - Johns Hopkins University\\Ha_CCarcamo\\01 Data\\Projects\\Roger Collaboration\\RAW DATA\\2021-04-09 PAM-TA preference\\2021-04-09 PAM-TA preference' + '/'\n",
    "which_FD_to_load = 2\n",
    "lenis = len(directory)\n",
    "print(lenis)\n",
    "\n",
    "# files = glob.glob(directory +'*FD Curve*.h5')\n",
    "# print(\"found {} files in folder\".format(len(files)))\n",
    "# for file_name in files:\n",
    "#     print(file_name)\n",
    "\n",
    "names = glob.glob(directory + '*FD Curve*')\n",
    "[print(n[lenis:-3]) for n in names];\n",
    "\n",
    "\n"
   ]
  },
  {
   "cell_type": "code",
   "execution_count": 5,
   "metadata": {},
   "outputs": [
    {
     "ename": "NameError",
     "evalue": "name 't1' is not defined",
     "output_type": "error",
     "traceback": [
      "\u001b[1;31m---------------------------------------------------------------------------\u001b[0m",
      "\u001b[1;31mNameError\u001b[0m                                 Traceback (most recent call last)",
      "\u001b[1;32m<ipython-input-5-4af3c74ba34d>\u001b[0m in \u001b[0;36m<module>\u001b[1;34m\u001b[0m\n\u001b[0;32m     11\u001b[0m \u001b[0mt2\u001b[0m \u001b[1;33m=\u001b[0m \u001b[0mfd\u001b[0m\u001b[1;33m.\u001b[0m\u001b[0mdownsampled_force2\u001b[0m\u001b[1;33m.\u001b[0m\u001b[0mtimestamps\u001b[0m\u001b[1;33m\u001b[0m\u001b[1;33m\u001b[0m\u001b[0m\n\u001b[0;32m     12\u001b[0m \u001b[1;31m# time = fd.downsampled_force2.timestamps\u001b[0m\u001b[1;33m\u001b[0m\u001b[1;33m\u001b[0m\u001b[1;33m\u001b[0m\u001b[0m\n\u001b[1;32m---> 13\u001b[1;33m \u001b[0mtime\u001b[0m \u001b[1;33m=\u001b[0m \u001b[1;33m(\u001b[0m\u001b[0mt1\u001b[0m \u001b[1;33m-\u001b[0m \u001b[0mt1\u001b[0m\u001b[1;33m[\u001b[0m\u001b[1;36m0\u001b[0m\u001b[1;33m]\u001b[0m\u001b[1;33m)\u001b[0m \u001b[1;33m*\u001b[0m \u001b[1;36m1e-9\u001b[0m\u001b[1;33m\u001b[0m\u001b[1;33m\u001b[0m\u001b[0m\n\u001b[0m\u001b[0;32m     14\u001b[0m \u001b[0mdistance\u001b[0m \u001b[1;33m=\u001b[0m \u001b[0mfd\u001b[0m\u001b[1;33m.\u001b[0m\u001b[0md\u001b[0m\u001b[1;33m.\u001b[0m\u001b[0mdata\u001b[0m\u001b[1;33m\u001b[0m\u001b[1;33m\u001b[0m\u001b[0m\n\u001b[0;32m     15\u001b[0m \u001b[1;33m\u001b[0m\u001b[0m\n",
      "\u001b[1;31mNameError\u001b[0m: name 't1' is not defined"
     ]
    }
   ],
   "source": [
    "file_names = ['20210409-203448 FD Curve 19 DNA 2 50pN then break', '20210409-203753 FD Curve 5 DNA 3 Cas9 50pN break','20210409-205042 FD Curve 23 DNA 6 unbind','20210409-210449 FD Curve 25 DNA 8 break','20210409-211140 FD Curve 27 DNA 10 breaks','20210409-211809 FD Curve 29 DNA 11 50pN break']\n",
    "file_name = file_names[0]\n",
    "file = lk.File(directory + file_name + '.h5')\n",
    "newlist = []\n",
    "for i in file.fdcurves.keys():\n",
    "    newlist.append(i)  \n",
    "newlist\n",
    "fd = file.fdcurves[newlist[0]]\n",
    "\n",
    "force = fd.downsampled_force2.data\n",
    "t2 = fd.downsampled_force2.timestamps\n",
    "# time = fd.downsampled_force2.timestamps\n",
    "time = (t1 - t1[0]) * 1e-9 \n",
    "distance = fd.d.data\n",
    "\n",
    "plt.figure(figsize=(2.5, 1.5))\n",
    "plt.rcParams['font.size'] = 8\n",
    "plt.rcParams['figure.figsize'] = (9, 6)\n",
    "plt.plot(time, force)\n",
    "plt.ylabel('Force (pN)')\n",
    "plt.xlabel('Time (s)')\n",
    "plt.show()"
   ]
  }
 ],
 "metadata": {
  "kernelspec": {
   "display_name": "Python 3",
   "language": "python",
   "name": "python3"
  },
  "language_info": {
   "codemirror_mode": {
    "name": "ipython",
    "version": 3
   },
   "file_extension": ".py",
   "mimetype": "text/x-python",
   "name": "python",
   "nbconvert_exporter": "python",
   "pygments_lexer": "ipython3",
   "version": "3.7.8"
  }
 },
 "nbformat": 4,
 "nbformat_minor": 4
}
